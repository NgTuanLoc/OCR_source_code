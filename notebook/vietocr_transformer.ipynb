{
 "cells": [
  {
   "cell_type": "markdown",
   "metadata": {
    "id": "uPgu4i1yvhub"
   },
   "source": [
    "\n",
    "# Introduction\n",
    "<p align=\"center\">\n",
    "<img src=\"https://raw.githubusercontent.com/pbcquoc/vietocr/master/image/vietocr.jpg\" width=\"512\" height=\"512\">\n",
    "</p>\n",
    "This notebook describe how you can use VietOcr to train OCR model\n",
    "\n",
    "\n"
   ]
  },
  {
   "cell_type": "code",
   "execution_count": 1,
   "metadata": {
    "colab": {
     "base_uri": "https://localhost:8080/",
     "height": 174
    },
    "id": "xEBHav_aljVN",
    "outputId": "fd649dbd-1c84-4b8f-d4ee-1ace3c643eb5"
   },
   "outputs": [],
   "source": [
    "# ! pip install --quiet vietocr==0.3.2"
   ]
  },
  {
   "cell_type": "code",
   "execution_count": 2,
   "metadata": {},
   "outputs": [],
   "source": [
    "# ! pip íntall einops"
   ]
  },
  {
   "cell_type": "markdown",
   "metadata": {
    "id": "IS1cz5tKxio7"
   },
   "source": [
    "# Inference"
   ]
  },
  {
   "cell_type": "code",
   "execution_count": 3,
   "metadata": {
    "id": "KsuT5Sa-xio8"
   },
   "outputs": [],
   "source": [
    "import matplotlib.pyplot as plt\n",
    "from PIL import Image\n",
    "\n",
    "from vietocr.tool.predictor import Predictor\n",
    "from vietocr.tool.config import Cfg\n",
    "\n",
    "import editdistance\n",
    "import os\n",
    "os.environ['KMP_DUPLICATE_LIB_OK']='True'"
   ]
  },
  {
   "cell_type": "code",
   "execution_count": 4,
   "metadata": {
    "id": "J7u5QgLWxipC"
   },
   "outputs": [],
   "source": [
    "config = Cfg.load_config_from_name('vgg_transformer')"
   ]
  },
  {
   "cell_type": "markdown",
   "metadata": {
    "id": "S5JIpythxipL"
   },
   "source": [
    "Change weights to your weights or using default weights from our pretrained model. Path can be url or local file"
   ]
  },
  {
   "cell_type": "code",
   "execution_count": 5,
   "metadata": {
    "id": "UjiubW0gxipL"
   },
   "outputs": [],
   "source": [
    "config['weights'] = '../model/model.pth'\n",
    "config['cnn']['pretrained']=False\n",
    "config['device'] = 'cpu'\n",
    "config['predictor']['beamsearch']=False"
   ]
  },
  {
   "cell_type": "code",
   "execution_count": 6,
   "metadata": {
    "colab": {
     "base_uri": "https://localhost:8080/",
     "height": 104
    },
    "id": "HjHpH99TxipQ",
    "outputId": "d2b11046-bb74-451b-d0f5-dd02c9e9ac2e"
   },
   "outputs": [],
   "source": [
    "detector = Predictor(config)"
   ]
  },
  {
   "cell_type": "code",
   "execution_count": 7,
   "metadata": {
    "colab": {
     "base_uri": "https://localhost:8080/",
     "height": 104
    },
    "id": "nGpmXki1xipe",
    "outputId": "0d5d6b57-9549-4500-a333-08aa00c248c7"
   },
   "outputs": [],
   "source": [
    "def loss_score(y_predict, y_label):\n",
    "    score_list = []\n",
    "    length_y = len(y_label)\n",
    "    for key, value in y_label.items():                  \n",
    "        score_list.append(editdistance.eval(y_predict[key] ,value)/len(value))\n",
    "    return sum(score_list)/length_y"
   ]
  },
  {
   "cell_type": "code",
   "execution_count": 8,
   "metadata": {},
   "outputs": [],
   "source": [
    "import json \n",
    "\n",
    "test_labels = json.load(open('../labels/labels_test.json'))\n",
    "predict = {}"
   ]
  },
  {
   "cell_type": "code",
   "execution_count": 9,
   "metadata": {
    "colab": {
     "base_uri": "https://localhost:8080/",
     "height": 133
    },
    "id": "B95BBXNExipj",
    "outputId": "19a6ad7f-7afa-4fac-93ca-5e0f5a5b2609"
   },
   "outputs": [
    {
     "data": {
      "image/png": "[encoded data removed]",
      "text/plain": [
       "<Figure size 432x288 with 1 Axes>"
      ]
     },
     "metadata": {
      "needs_background": "light"
     },
     "output_type": "display_data"
    }
   ],
   "source": [
    "img = '../data/0001_samples.png'\n",
    "img = Image.open(img)\n",
    "plt.imshow(img)\n",
    "test = detector.predict(img)"
   ]
  },
  {
   "cell_type": "code",
   "execution_count": 10,
   "metadata": {},
   "outputs": [
    {
     "data": {
      "text/plain": [
       "'Số 285 Đình Bỏ Lĩnh, Phuồng 25, Quân Bình Thạnh, Tp.Hồ Chí Minh'"
      ]
     },
     "execution_count": 10,
     "metadata": {},
     "output_type": "execute_result"
    }
   ],
   "source": [
    "test"
   ]
  },
  {
   "cell_type": "code",
   "execution_count": 11,
   "metadata": {},
   "outputs": [],
   "source": [
    "for key, item in test_labels.items():\n",
    "    img_path = \"../private_test/\" + key\n",
    "    img = Image.open(img_path)\n",
    "    predict[key] = detector.predict(img)"
   ]
  },
  {
   "cell_type": "code",
   "execution_count": 12,
   "metadata": {},
   "outputs": [],
   "source": [
    "loss_score = loss_score(predict, test_labels)"
   ]
  },
  {
   "cell_type": "code",
   "execution_count": 14,
   "metadata": {},
   "outputs": [
    {
     "data": {
      "text/plain": [
       "0.2309717961880506"
      ]
     },
     "execution_count": 14,
     "metadata": {},
     "output_type": "execute_result"
    }
   ],
   "source": [
    "loss_score"
   ]
  },
  {
   "cell_type": "code",
   "execution_count": 18,
   "metadata": {},
   "outputs": [],
   "source": [
    "import json\n",
    "\n",
    "with open('labels.json', 'w') as fp:\n",
    "    json.dump(predict, fp, ensure_ascii=False)"
   ]
  },
  {
   "cell_type": "markdown",
   "metadata": {},
   "source": [
    "# TRAIN"
   ]
  },
  {
   "cell_type": "code",
   "execution_count": 1,
   "metadata": {},
   "outputs": [],
   "source": [
    "from vietocr.tool.config import Cfg\n",
    "from vietocr.model.trainer import Trainer"
   ]
  },
  {
   "cell_type": "code",
   "execution_count": 2,
   "metadata": {},
   "outputs": [],
   "source": [
    "config = Cfg.load_config_from_name('vgg_transformer')"
   ]
  },
  {
   "cell_type": "code",
   "execution_count": 16,
   "metadata": {},
   "outputs": [],
   "source": [
    "dataset_params = {\n",
    "    'name':'hw',\n",
    "    'data_root':'./data_line/',\n",
    "    'train_annotation':'train_line_annotation.txt',\n",
    "    'valid_annotation':'test_line_annotation.txt'\n",
    "}\n",
    "\n",
    "params = {\n",
    "         'print_every':1,\n",
    "         'valid_every':15*200,\n",
    "          'iters':20000,\n",
    "#           'checkpoint':'./checkpoint/transformerocr_checkpoint.pth',    \n",
    "#           'export':'./weights/transformerocr.pth',\n",
    "          'metrics': 10000\n",
    "         }\n",
    "\n",
    "config['trainer'].update(params)\n",
    "config['dataset'].update(dataset_params)\n",
    "config['device'] = 'cpu'"
   ]
  },
  {
   "cell_type": "code",
   "execution_count": 10,
   "metadata": {},
   "outputs": [],
   "source": [
    "dataset_params = {\n",
    "    'name':'hw',\n",
    "    'data_root':'./mydata/',\n",
    "    'train_annotation':'train_text.txt',\n",
    "    'valid_annotation':'test_text.txt'\n",
    "}\n",
    "\n",
    "params = {\n",
    "         'print_every':5,\n",
    "         'valid_every': 5,\n",
    "          'iters': 50,\n",
    "          'checkpoint':'./checkpoint/transformerocr_checkpoint.pth',    \n",
    "          'export':'./weights/transformerocr.pth',\n",
    "          'metrics': 25\n",
    "         }\n",
    "\n",
    "config['trainer'].update(params)\n",
    "config['dataset'].update(dataset_params)\n",
    "config['device'] = 'cpu'"
   ]
  },
  {
   "cell_type": "code",
   "execution_count": 17,
   "metadata": {},
   "outputs": [],
   "source": [
    "config['dataloader'] ={'num_workers':0, 'pin_memory': True}"
   ]
  },
  {
   "cell_type": "code",
   "execution_count": 18,
   "metadata": {},
   "outputs": [],
   "source": [
    "# config['cnn'] = {'pretrained': False,\n",
    "#   'ss': [[2, 2], [2, 2], [2, 1], [2, 1], [1, 1]],\n",
    "#   'ks': [[2, 2], [2, 2], [2, 1], [2, 1], [1, 1]],\n",
    "#   'hidden': 256}"
   ]
  },
  {
   "cell_type": "code",
   "execution_count": 19,
   "metadata": {},
   "outputs": [],
   "source": [
    "# config"
   ]
  },
  {
   "cell_type": "code",
   "execution_count": 1,
   "metadata": {},
   "outputs": [],
   "source": [
    "# trainer = Trainer(config, pretrained=True)"
   ]
  },
  {
   "cell_type": "code",
   "execution_count": null,
   "metadata": {},
   "outputs": [],
   "source": [
    "# trainer.visualize_dataset()"
   ]
  },
  {
   "cell_type": "code",
   "execution_count": null,
   "metadata": {},
   "outputs": [],
   "source": [
    "# trainer.config.save('config.yml')"
   ]
  },
  {
   "cell_type": "code",
   "execution_count": null,
   "metadata": {},
   "outputs": [],
   "source": [
    "# trainer.visualize_dataset()"
   ]
  },
  {
   "cell_type": "code",
   "execution_count": null,
   "metadata": {},
   "outputs": [],
   "source": [
    "trainer.train()"
   ]
  },
  {
   "cell_type": "code",
   "execution_count": null,
   "metadata": {},
   "outputs": [],
   "source": [
    "trainer"
   ]
  },
  {
   "cell_type": "code",
   "execution_count": null,
   "metadata": {},
   "outputs": [],
   "source": [
    "trainer.save_weights('weights/model1.pth')"
   ]
  },
  {
   "cell_type": "code",
   "execution_count": null,
   "metadata": {},
   "outputs": [],
   "source": []
  }
 ],
 "metadata": {
  "accelerator": "GPU",
  "colab": {
   "include_colab_link": true,
   "name": "vietocr_gettingstart.ipynb",
   "provenance": []
  },
  "kernelspec": {
   "display_name": "Python 3",
   "language": "python",
   "name": "python3"
  },
  "language_info": {
   "codemirror_mode": {
    "name": "ipython",
    "version": 3
   },
   "file_extension": ".py",
   "mimetype": "text/x-python",
   "name": "python",
   "nbconvert_exporter": "python",
   "pygments_lexer": "ipython3",
   "version": "3.8.5"
  },
  "widgets": {
   "application/vnd.jupyter.widget-state+json": {
    "1a62d6ece1d74d8ab362c02cf45c458b": {
     "model_module": "@jupyter-widgets/controls",
     "model_name": "HTMLModel",
     "state": {
      "_dom_classes": [],
      "_model_module": "@jupyter-widgets/controls",
      "_model_module_version": "1.5.0",
      "_model_name": "HTMLModel",
      "_view_count": null,
      "_view_module": "@jupyter-widgets/controls",
      "_view_module_version": "1.5.0",
      "_view_name": "HTMLView",
      "description": "",
      "description_tooltip": null,
      "layout": "IPY_MODEL_4f37489f7796464a8d1e4d882720a644",
      "placeholder": "​",
      "style": "IPY_MODEL_6860cc659d004773bb5e4514657db4ea",
      "value": " 548M/548M [00:09&lt;00:00, 62.9MB/s]"
     }
    },
    "1ce4d31ecbe146ab81c7f84d489c7bd1": {
     "model_module": "@jupyter-widgets/base",
     "model_name": "LayoutModel",
     "state": {
      "_model_module": "@jupyter-widgets/base",
      "_model_module_version": "1.2.0",
      "_model_name": "LayoutModel",
      "_view_count": null,
      "_view_module": "@jupyter-widgets/base",
      "_view_module_version": "1.2.0",
      "_view_name": "LayoutView",
      "align_content": null,
      "align_items": null,
      "align_self": null,
      "border": null,
      "bottom": null,
      "display": null,
      "flex": null,
      "flex_flow": null,
      "grid_area": null,
      "grid_auto_columns": null,
      "grid_auto_flow": null,
      "grid_auto_rows": null,
      "grid_column": null,
      "grid_gap": null,
      "grid_row": null,
      "grid_template_areas": null,
      "grid_template_columns": null,
      "grid_template_rows": null,
      "height": null,
      "justify_content": null,
      "justify_items": null,
      "left": null,
      "margin": null,
      "max_height": null,
      "max_width": null,
      "min_height": null,
      "min_width": null,
      "object_fit": null,
      "object_position": null,
      "order": null,
      "overflow": null,
      "overflow_x": null,
      "overflow_y": null,
      "padding": null,
      "right": null,
      "top": null,
      "visibility": null,
      "width": null
     }
    },
    "27775e2399054a028cdcf4c236956f27": {
     "model_module": "@jupyter-widgets/controls",
     "model_name": "HBoxModel",
     "state": {
      "_dom_classes": [],
      "_model_module": "@jupyter-widgets/controls",
      "_model_module_version": "1.5.0",
      "_model_name": "HBoxModel",
      "_view_count": null,
      "_view_module": "@jupyter-widgets/controls",
      "_view_module_version": "1.5.0",
      "_view_name": "HBoxView",
      "box_style": "",
      "children": [
       "IPY_MODEL_c3600b8bf6f34c53b4f2b26a28762d72",
       "IPY_MODEL_1a62d6ece1d74d8ab362c02cf45c458b"
      ],
      "layout": "IPY_MODEL_42cfd1bdf85f492f8b35727c0bfb6350"
     }
    },
    "42cfd1bdf85f492f8b35727c0bfb6350": {
     "model_module": "@jupyter-widgets/base",
     "model_name": "LayoutModel",
     "state": {
      "_model_module": "@jupyter-widgets/base",
      "_model_module_version": "1.2.0",
      "_model_name": "LayoutModel",
      "_view_count": null,
      "_view_module": "@jupyter-widgets/base",
      "_view_module_version": "1.2.0",
      "_view_name": "LayoutView",
      "align_content": null,
      "align_items": null,
      "align_self": null,
      "border": null,
      "bottom": null,
      "display": null,
      "flex": null,
      "flex_flow": null,
      "grid_area": null,
      "grid_auto_columns": null,
      "grid_auto_flow": null,
      "grid_auto_rows": null,
      "grid_column": null,
      "grid_gap": null,
      "grid_row": null,
      "grid_template_areas": null,
      "grid_template_columns": null,
      "grid_template_rows": null,
      "height": null,
      "justify_content": null,
      "justify_items": null,
      "left": null,
      "margin": null,
      "max_height": null,
      "max_width": null,
      "min_height": null,
      "min_width": null,
      "object_fit": null,
      "object_position": null,
      "order": null,
      "overflow": null,
      "overflow_x": null,
      "overflow_y": null,
      "padding": null,
      "right": null,
      "top": null,
      "visibility": null,
      "width": null
     }
    },
    "4f37489f7796464a8d1e4d882720a644": {
     "model_module": "@jupyter-widgets/base",
     "model_name": "LayoutModel",
     "state": {
      "_model_module": "@jupyter-widgets/base",
      "_model_module_version": "1.2.0",
      "_model_name": "LayoutModel",
      "_view_count": null,
      "_view_module": "@jupyter-widgets/base",
      "_view_module_version": "1.2.0",
      "_view_name": "LayoutView",
      "align_content": null,
      "align_items": null,
      "align_self": null,
      "border": null,
      "bottom": null,
      "display": null,
      "flex": null,
      "flex_flow": null,
      "grid_area": null,
      "grid_auto_columns": null,
      "grid_auto_flow": null,
      "grid_auto_rows": null,
      "grid_column": null,
      "grid_gap": null,
      "grid_row": null,
      "grid_template_areas": null,
      "grid_template_columns": null,
      "grid_template_rows": null,
      "height": null,
      "justify_content": null,
      "justify_items": null,
      "left": null,
      "margin": null,
      "max_height": null,
      "max_width": null,
      "min_height": null,
      "min_width": null,
      "object_fit": null,
      "object_position": null,
      "order": null,
      "overflow": null,
      "overflow_x": null,
      "overflow_y": null,
      "padding": null,
      "right": null,
      "top": null,
      "visibility": null,
      "width": null
     }
    },
    "6860cc659d004773bb5e4514657db4ea": {
     "model_module": "@jupyter-widgets/controls",
     "model_name": "DescriptionStyleModel",
     "state": {
      "_model_module": "@jupyter-widgets/controls",
      "_model_module_version": "1.5.0",
      "_model_name": "DescriptionStyleModel",
      "_view_count": null,
      "_view_module": "@jupyter-widgets/base",
      "_view_module_version": "1.2.0",
      "_view_name": "StyleView",
      "description_width": ""
     }
    },
    "78b350644e804ce08df1121edf1c07f2": {
     "model_module": "@jupyter-widgets/controls",
     "model_name": "ProgressStyleModel",
     "state": {
      "_model_module": "@jupyter-widgets/controls",
      "_model_module_version": "1.5.0",
      "_model_name": "ProgressStyleModel",
      "_view_count": null,
      "_view_module": "@jupyter-widgets/base",
      "_view_module_version": "1.2.0",
      "_view_name": "StyleView",
      "bar_color": null,
      "description_width": "initial"
     }
    },
    "c3600b8bf6f34c53b4f2b26a28762d72": {
     "model_module": "@jupyter-widgets/controls",
     "model_name": "FloatProgressModel",
     "state": {
      "_dom_classes": [],
      "_model_module": "@jupyter-widgets/controls",
      "_model_module_version": "1.5.0",
      "_model_name": "FloatProgressModel",
      "_view_count": null,
      "_view_module": "@jupyter-widgets/controls",
      "_view_module_version": "1.5.0",
      "_view_name": "ProgressView",
      "bar_style": "success",
      "description": "100%",
      "description_tooltip": null,
      "layout": "IPY_MODEL_1ce4d31ecbe146ab81c7f84d489c7bd1",
      "max": 574769405,
      "min": 0,
      "orientation": "horizontal",
      "style": "IPY_MODEL_78b350644e804ce08df1121edf1c07f2",
      "value": 574769405
     }
    }
   }
  }
 },
 "nbformat": 4,
 "nbformat_minor": 4
}
