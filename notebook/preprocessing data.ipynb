{
 "cells": [
  {
   "cell_type": "code",
   "execution_count": 151,
   "metadata": {},
   "outputs": [],
   "source": [
    "import os"
   ]
  },
  {
   "cell_type": "code",
   "execution_count": 152,
   "metadata": {},
   "outputs": [],
   "source": [
    "data = os.listdir('InkData_line_processed/')"
   ]
  },
  {
   "cell_type": "code",
   "execution_count": 153,
   "metadata": {},
   "outputs": [],
   "source": [
    "letters = \" !\\\"#&\\\\'()*+,-./0123456789:;?ABCDEFGHIJKLMNOPQRSTUVWXYZabcdefghijklmnopqrstuvwxyzÂÊÔàáâãèéêìíòóôõùúýăĐđĩũƠơưạảấầẩậắằẵặẻẽếềểễệỉịọỏốồổỗộớờởỡợụủỨứừửữựỳỵỷỹ\""
   ]
  },
  {
   "cell_type": "code",
   "execution_count": 154,
   "metadata": {},
   "outputs": [
    {
     "data": {
      "text/plain": [
       "'20150218_0038_9244_2_tg_3_0.png'"
      ]
     },
     "execution_count": 154,
     "metadata": {},
     "output_type": "execute_result"
    }
   ],
   "source": [
    "data[198]"
   ]
  },
  {
   "cell_type": "code",
   "execution_count": 155,
   "metadata": {},
   "outputs": [
    {
     "data": {
      "text/plain": [
       "'20160604_0194_25475_tg_1_3.txt'"
      ]
     },
     "execution_count": 155,
     "metadata": {},
     "output_type": "execute_result"
    }
   ],
   "source": [
    "data[4]"
   ]
  },
  {
   "cell_type": "code",
   "execution_count": 156,
   "metadata": {},
   "outputs": [
    {
     "data": {
      "text/plain": [
       "14564"
      ]
     },
     "execution_count": 156,
     "metadata": {},
     "output_type": "execute_result"
    }
   ],
   "source": [
    "len(data)"
   ]
  },
  {
   "cell_type": "code",
   "execution_count": 157,
   "metadata": {},
   "outputs": [
    {
     "data": {
      "text/plain": [
       "4060"
      ]
     },
     "execution_count": 157,
     "metadata": {},
     "output_type": "execute_result"
    }
   ],
   "source": [
    "data.index('20160604_0194_25475_tg_1_3.png')"
   ]
  },
  {
   "cell_type": "code",
   "execution_count": 158,
   "metadata": {},
   "outputs": [],
   "source": [
    "import os.path\n",
    "extension = os.path.splitext(data[1])[1]"
   ]
  },
  {
   "cell_type": "code",
   "execution_count": 159,
   "metadata": {},
   "outputs": [
    {
     "data": {
      "text/plain": [
       "'.png'"
      ]
     },
     "execution_count": 159,
     "metadata": {},
     "output_type": "execute_result"
    }
   ],
   "source": [
    "extension"
   ]
  },
  {
   "cell_type": "code",
   "execution_count": 160,
   "metadata": {},
   "outputs": [],
   "source": [
    "images = []\n",
    "labels = []\n",
    "for item in data:\n",
    "    if(os.path.splitext(item)[1]=='.png'):\n",
    "        images.append(item)\n",
    "    else:\n",
    "        labels.append(item)"
   ]
  },
  {
   "cell_type": "code",
   "execution_count": 161,
   "metadata": {},
   "outputs": [
    {
     "data": {
      "text/plain": [
       "'20140603_0037_BCCTC_tg_0_3.png'"
      ]
     },
     "execution_count": 161,
     "metadata": {},
     "output_type": "execute_result"
    }
   ],
   "source": [
    "images[3]"
   ]
  },
  {
   "cell_type": "code",
   "execution_count": 162,
   "metadata": {},
   "outputs": [
    {
     "data": {
      "text/plain": [
       "7282"
      ]
     },
     "execution_count": 162,
     "metadata": {},
     "output_type": "execute_result"
    }
   ],
   "source": [
    "len(images)"
   ]
  },
  {
   "cell_type": "code",
   "execution_count": 163,
   "metadata": {},
   "outputs": [
    {
     "data": {
      "text/plain": [
       "7282"
      ]
     },
     "execution_count": 163,
     "metadata": {},
     "output_type": "execute_result"
    }
   ],
   "source": [
    "len(labels)"
   ]
  },
  {
   "cell_type": "code",
   "execution_count": 164,
   "metadata": {},
   "outputs": [
    {
     "data": {
      "text/plain": [
       "'20150216_0009_9129_3_tg_5_3.txt'"
      ]
     },
     "execution_count": 164,
     "metadata": {},
     "output_type": "execute_result"
    }
   ],
   "source": [
    "labels[4]"
   ]
  },
  {
   "cell_type": "code",
   "execution_count": 165,
   "metadata": {},
   "outputs": [],
   "source": [
    "test = {}"
   ]
  },
  {
   "cell_type": "code",
   "execution_count": 166,
   "metadata": {},
   "outputs": [],
   "source": [
    "def preprocessing_data(str):\n",
    "    temp = ''\n",
    "    for letter in str:\n",
    "        if letter in letters:\n",
    "            temp+=letter\n",
    "    return temp"
   ]
  },
  {
   "cell_type": "code",
   "execution_count": 167,
   "metadata": {},
   "outputs": [
    {
     "data": {
      "text/plain": [
       "'khẩn trương đầu tư các dự án mạng cấp nước cấp 1, 2, 3 gồm 10 dự án mạng cấp'"
      ]
     },
     "execution_count": 167,
     "metadata": {},
     "output_type": "execute_result"
    }
   ],
   "source": [
    "preprocessing_data(labels_data[3])"
   ]
  },
  {
   "cell_type": "code",
   "execution_count": 170,
   "metadata": {},
   "outputs": [],
   "source": [
    "labels_data = []\n",
    "for item in labels:\n",
    "    with open(\"InkData_line_processed/\"+item) as f:\n",
    "        lines = preprocessing_data(f.readline().lower())\n",
    "        labels_data.append(lines)"
   ]
  },
  {
   "cell_type": "code",
   "execution_count": 171,
   "metadata": {},
   "outputs": [
    {
     "data": {
      "text/plain": [
       "'khẩn trương đầu tư các dự án mạng cấp nước cấp 1, 2, 3 gồm 10 dự án mạng cấp'"
      ]
     },
     "execution_count": 171,
     "metadata": {},
     "output_type": "execute_result"
    }
   ],
   "source": [
    "labels_data[3]"
   ]
  },
  {
   "cell_type": "code",
   "execution_count": 172,
   "metadata": {},
   "outputs": [
    {
     "data": {
      "text/plain": [
       "'20160604_0194_25475_tg_1_3.txt'"
      ]
     },
     "execution_count": 172,
     "metadata": {},
     "output_type": "execute_result"
    }
   ],
   "source": [
    "labels[3] "
   ]
  },
  {
   "cell_type": "code",
   "execution_count": 173,
   "metadata": {},
   "outputs": [],
   "source": [
    "from keras.preprocessing import image\n",
    "import matplotlib.pyplot as plt"
   ]
  },
  {
   "cell_type": "code",
   "execution_count": 174,
   "metadata": {},
   "outputs": [
    {
     "data": {
      "text/plain": [
       "'cầm ống nghe : \" ồ không có gì đâu! nhiệm vụ của chúng tôi mà. anh ấy'"
      ]
     },
     "execution_count": 174,
     "metadata": {},
     "output_type": "execute_result"
    }
   ],
   "source": [
    "labels_data[labels.index(os.path.splitext('20160511_0128_9244_1_tg_1_4.png')[0]+'.txt')]"
   ]
  },
  {
   "cell_type": "code",
   "execution_count": 175,
   "metadata": {},
   "outputs": [
    {
     "data": {
      "text/plain": [
       "'sách đi học, đã khiến tôi không còn biết nói gì thêm...'"
      ]
     },
     "execution_count": 175,
     "metadata": {},
     "output_type": "execute_result"
    }
   ],
   "source": [
    "labels_data[4]"
   ]
  },
  {
   "cell_type": "code",
   "execution_count": 176,
   "metadata": {},
   "outputs": [
    {
     "data": {
      "text/plain": [
       "<matplotlib.image.AxesImage at 0x7fbf1719f9a0>"
      ]
     },
     "execution_count": 176,
     "metadata": {},
     "output_type": "execute_result"
    },
    {
     "data": {
      "image/png": "[encoded data removed]",
      "text/plain": [
       "<Figure size 1440x720 with 1 Axes>"
      ]
     },
     "metadata": {
      "needs_background": "light"
     },
     "output_type": "display_data"
    }
   ],
   "source": [
    "plt.figure(figsize=(20, 10))\n",
    "img = image.load_img('../InkData_line_processed/'+\"20160511_0128_9244_1_tg_1_4.png\")\n",
    "img = image.img_to_array(img)/255\n",
    "plt.imshow(img)"
   ]
  },
  {
   "cell_type": "code",
   "execution_count": 177,
   "metadata": {},
   "outputs": [],
   "source": [
    "test = {}"
   ]
  },
  {
   "cell_type": "code",
   "execution_count": 178,
   "metadata": {},
   "outputs": [],
   "source": [
    "for images_path in images:\n",
    "    label = labels_data[labels.index(os.path.splitext(images_path)[0]+'.txt')]\n",
    "    test[images_path] = label"
   ]
  },
  {
   "cell_type": "code",
   "execution_count": 179,
   "metadata": {},
   "outputs": [
    {
     "data": {
      "text/plain": [
       "7282"
      ]
     },
     "execution_count": 179,
     "metadata": {},
     "output_type": "execute_result"
    }
   ],
   "source": [
    "len(test)"
   ]
  },
  {
   "cell_type": "code",
   "execution_count": 180,
   "metadata": {},
   "outputs": [
    {
     "data": {
      "text/plain": [
       "'20160604_0194_25475_tg_1_3.txt'"
      ]
     },
     "execution_count": 180,
     "metadata": {},
     "output_type": "execute_result"
    }
   ],
   "source": [
    "labels[3]"
   ]
  },
  {
   "cell_type": "code",
   "execution_count": 181,
   "metadata": {},
   "outputs": [],
   "source": [
    "for labels in labels_data:\n",
    "    for letter in labels:\n",
    "        temp = letters.index(letter)\n",
    "#         print(temp)"
   ]
  },
  {
   "cell_type": "code",
   "execution_count": 182,
   "metadata": {},
   "outputs": [],
   "source": [
    "import json\n",
    "\n",
    "with open('labels.json', 'w') as fp:\n",
    "    json.dump(test, fp, ensure_ascii=False)"
   ]
  },
  {
   "cell_type": "code",
   "execution_count": 185,
   "metadata": {},
   "outputs": [
    {
     "ename": "ValueError",
     "evalue": "substring not found",
     "output_type": "error",
     "traceback": [
      "\u001b[0;31m---------------------------------------------------------------------------\u001b[0m",
      "\u001b[0;31mValueError\u001b[0m                                Traceback (most recent call last)",
      "\u001b[0;32m<ipython-input-185-2ac3275dc8b9>\u001b[0m in \u001b[0;36m<module>\u001b[0;34m\u001b[0m\n\u001b[0;32m----> 1\u001b[0;31m \u001b[0mlabels\u001b[0m\u001b[0;34m.\u001b[0m\u001b[0mindex\u001b[0m\u001b[0;34m(\u001b[0m\u001b[0;34m\"20140603_0040_KQBDVN_tg_0_0.txt\"\u001b[0m\u001b[0;34m)\u001b[0m\u001b[0;34m\u001b[0m\u001b[0;34m\u001b[0m\u001b[0m\n\u001b[0m",
      "\u001b[0;31mValueError\u001b[0m: substring not found"
     ]
    }
   ],
   "source": [
    "labels.index(\"20140603_0040_KQBDVN_tg_0_0.txt\")b"
   ]
  },
  {
   "cell_type": "code",
   "execution_count": null,
   "metadata": {},
   "outputs": [],
   "source": [
    "json.load(\"\")"
   ]
  },
  {
   "cell_type": "code",
   "execution_count": 120,
   "metadata": {},
   "outputs": [],
   "source": [
    "\n",
    "for file in labels:\n",
    "    path_to_file = os.path.join('../InkData_line_processed/', file)\n",
    "    os.remove(path_to_file)"
   ]
  },
  {
   "cell_type": "code",
   "execution_count": 127,
   "metadata": {},
   "outputs": [
    {
     "ename": "JSONDecodeError",
     "evalue": "Expecting value: line 1 column 1 (char 0)",
     "output_type": "error",
     "traceback": [
      "\u001b[0;31m---------------------------------------------------------------------------\u001b[0m",
      "\u001b[0;31mJSONDecodeError\u001b[0m                           Traceback (most recent call last)",
      "\u001b[0;32m<ipython-input-127-f441358aa212>\u001b[0m in \u001b[0;36m<module>\u001b[0;34m\u001b[0m\n\u001b[0;32m----> 1\u001b[0;31m \u001b[0mjson\u001b[0m\u001b[0;34m.\u001b[0m\u001b[0mload\u001b[0m\u001b[0;34m(\u001b[0m\u001b[0mopen\u001b[0m\u001b[0;34m(\u001b[0m\u001b[0;34m'../labels_test.json'\u001b[0m\u001b[0;34m)\u001b[0m\u001b[0;34m)\u001b[0m\u001b[0;34m.\u001b[0m\u001b[0mvalues\u001b[0m\u001b[0;34m(\u001b[0m\u001b[0;34m)\u001b[0m\u001b[0;34m\u001b[0m\u001b[0;34m\u001b[0m\u001b[0m\n\u001b[0m",
      "\u001b[0;32m~/opt/anaconda3/lib/python3.8/json/__init__.py\u001b[0m in \u001b[0;36mload\u001b[0;34m(fp, cls, object_hook, parse_float, parse_int, parse_constant, object_pairs_hook, **kw)\u001b[0m\n\u001b[1;32m    291\u001b[0m     \u001b[0mkwarg\u001b[0m\u001b[0;34m;\u001b[0m \u001b[0motherwise\u001b[0m\u001b[0;31m \u001b[0m\u001b[0;31m`\u001b[0m\u001b[0;31m`\u001b[0m\u001b[0mJSONDecoder\u001b[0m\u001b[0;31m`\u001b[0m\u001b[0;31m`\u001b[0m \u001b[0;32mis\u001b[0m \u001b[0mused\u001b[0m\u001b[0;34m.\u001b[0m\u001b[0;34m\u001b[0m\u001b[0;34m\u001b[0m\u001b[0m\n\u001b[1;32m    292\u001b[0m     \"\"\"\n\u001b[0;32m--> 293\u001b[0;31m     return loads(fp.read(),\n\u001b[0m\u001b[1;32m    294\u001b[0m         \u001b[0mcls\u001b[0m\u001b[0;34m=\u001b[0m\u001b[0mcls\u001b[0m\u001b[0;34m,\u001b[0m \u001b[0mobject_hook\u001b[0m\u001b[0;34m=\u001b[0m\u001b[0mobject_hook\u001b[0m\u001b[0;34m,\u001b[0m\u001b[0;34m\u001b[0m\u001b[0;34m\u001b[0m\u001b[0m\n\u001b[1;32m    295\u001b[0m         \u001b[0mparse_float\u001b[0m\u001b[0;34m=\u001b[0m\u001b[0mparse_float\u001b[0m\u001b[0;34m,\u001b[0m \u001b[0mparse_int\u001b[0m\u001b[0;34m=\u001b[0m\u001b[0mparse_int\u001b[0m\u001b[0;34m,\u001b[0m\u001b[0;34m\u001b[0m\u001b[0;34m\u001b[0m\u001b[0m\n",
      "\u001b[0;32m~/opt/anaconda3/lib/python3.8/json/__init__.py\u001b[0m in \u001b[0;36mloads\u001b[0;34m(s, cls, object_hook, parse_float, parse_int, parse_constant, object_pairs_hook, **kw)\u001b[0m\n\u001b[1;32m    355\u001b[0m             \u001b[0mparse_int\u001b[0m \u001b[0;32mis\u001b[0m \u001b[0;32mNone\u001b[0m \u001b[0;32mand\u001b[0m \u001b[0mparse_float\u001b[0m \u001b[0;32mis\u001b[0m \u001b[0;32mNone\u001b[0m \u001b[0;32mand\u001b[0m\u001b[0;34m\u001b[0m\u001b[0;34m\u001b[0m\u001b[0m\n\u001b[1;32m    356\u001b[0m             parse_constant is None and object_pairs_hook is None and not kw):\n\u001b[0;32m--> 357\u001b[0;31m         \u001b[0;32mreturn\u001b[0m \u001b[0m_default_decoder\u001b[0m\u001b[0;34m.\u001b[0m\u001b[0mdecode\u001b[0m\u001b[0;34m(\u001b[0m\u001b[0ms\u001b[0m\u001b[0;34m)\u001b[0m\u001b[0;34m\u001b[0m\u001b[0;34m\u001b[0m\u001b[0m\n\u001b[0m\u001b[1;32m    358\u001b[0m     \u001b[0;32mif\u001b[0m \u001b[0mcls\u001b[0m \u001b[0;32mis\u001b[0m \u001b[0;32mNone\u001b[0m\u001b[0;34m:\u001b[0m\u001b[0;34m\u001b[0m\u001b[0;34m\u001b[0m\u001b[0m\n\u001b[1;32m    359\u001b[0m         \u001b[0mcls\u001b[0m \u001b[0;34m=\u001b[0m \u001b[0mJSONDecoder\u001b[0m\u001b[0;34m\u001b[0m\u001b[0;34m\u001b[0m\u001b[0m\n",
      "\u001b[0;32m~/opt/anaconda3/lib/python3.8/json/decoder.py\u001b[0m in \u001b[0;36mdecode\u001b[0;34m(self, s, _w)\u001b[0m\n\u001b[1;32m    335\u001b[0m \u001b[0;34m\u001b[0m\u001b[0m\n\u001b[1;32m    336\u001b[0m         \"\"\"\n\u001b[0;32m--> 337\u001b[0;31m         \u001b[0mobj\u001b[0m\u001b[0;34m,\u001b[0m \u001b[0mend\u001b[0m \u001b[0;34m=\u001b[0m \u001b[0mself\u001b[0m\u001b[0;34m.\u001b[0m\u001b[0mraw_decode\u001b[0m\u001b[0;34m(\u001b[0m\u001b[0ms\u001b[0m\u001b[0;34m,\u001b[0m \u001b[0midx\u001b[0m\u001b[0;34m=\u001b[0m\u001b[0m_w\u001b[0m\u001b[0;34m(\u001b[0m\u001b[0ms\u001b[0m\u001b[0;34m,\u001b[0m \u001b[0;36m0\u001b[0m\u001b[0;34m)\u001b[0m\u001b[0;34m.\u001b[0m\u001b[0mend\u001b[0m\u001b[0;34m(\u001b[0m\u001b[0;34m)\u001b[0m\u001b[0;34m)\u001b[0m\u001b[0;34m\u001b[0m\u001b[0;34m\u001b[0m\u001b[0m\n\u001b[0m\u001b[1;32m    338\u001b[0m         \u001b[0mend\u001b[0m \u001b[0;34m=\u001b[0m \u001b[0m_w\u001b[0m\u001b[0;34m(\u001b[0m\u001b[0ms\u001b[0m\u001b[0;34m,\u001b[0m \u001b[0mend\u001b[0m\u001b[0;34m)\u001b[0m\u001b[0;34m.\u001b[0m\u001b[0mend\u001b[0m\u001b[0;34m(\u001b[0m\u001b[0;34m)\u001b[0m\u001b[0;34m\u001b[0m\u001b[0;34m\u001b[0m\u001b[0m\n\u001b[1;32m    339\u001b[0m         \u001b[0;32mif\u001b[0m \u001b[0mend\u001b[0m \u001b[0;34m!=\u001b[0m \u001b[0mlen\u001b[0m\u001b[0;34m(\u001b[0m\u001b[0ms\u001b[0m\u001b[0;34m)\u001b[0m\u001b[0;34m:\u001b[0m\u001b[0;34m\u001b[0m\u001b[0;34m\u001b[0m\u001b[0m\n",
      "\u001b[0;32m~/opt/anaconda3/lib/python3.8/json/decoder.py\u001b[0m in \u001b[0;36mraw_decode\u001b[0;34m(self, s, idx)\u001b[0m\n\u001b[1;32m    353\u001b[0m             \u001b[0mobj\u001b[0m\u001b[0;34m,\u001b[0m \u001b[0mend\u001b[0m \u001b[0;34m=\u001b[0m \u001b[0mself\u001b[0m\u001b[0;34m.\u001b[0m\u001b[0mscan_once\u001b[0m\u001b[0;34m(\u001b[0m\u001b[0ms\u001b[0m\u001b[0;34m,\u001b[0m \u001b[0midx\u001b[0m\u001b[0;34m)\u001b[0m\u001b[0;34m\u001b[0m\u001b[0;34m\u001b[0m\u001b[0m\n\u001b[1;32m    354\u001b[0m         \u001b[0;32mexcept\u001b[0m \u001b[0mStopIteration\u001b[0m \u001b[0;32mas\u001b[0m \u001b[0merr\u001b[0m\u001b[0;34m:\u001b[0m\u001b[0;34m\u001b[0m\u001b[0;34m\u001b[0m\u001b[0m\n\u001b[0;32m--> 355\u001b[0;31m             \u001b[0;32mraise\u001b[0m \u001b[0mJSONDecodeError\u001b[0m\u001b[0;34m(\u001b[0m\u001b[0;34m\"Expecting value\"\u001b[0m\u001b[0;34m,\u001b[0m \u001b[0ms\u001b[0m\u001b[0;34m,\u001b[0m \u001b[0merr\u001b[0m\u001b[0;34m.\u001b[0m\u001b[0mvalue\u001b[0m\u001b[0;34m)\u001b[0m \u001b[0;32mfrom\u001b[0m \u001b[0;32mNone\u001b[0m\u001b[0;34m\u001b[0m\u001b[0;34m\u001b[0m\u001b[0m\n\u001b[0m\u001b[1;32m    356\u001b[0m         \u001b[0;32mreturn\u001b[0m \u001b[0mobj\u001b[0m\u001b[0;34m,\u001b[0m \u001b[0mend\u001b[0m\u001b[0;34m\u001b[0m\u001b[0;34m\u001b[0m\u001b[0m\n",
      "\u001b[0;31mJSONDecodeError\u001b[0m: Expecting value: line 1 column 1 (char 0)"
     ]
    }
   ],
   "source": [
    "json.load(open('../labels_test.json')).values()"
   ]
  },
  {
   "cell_type": "code",
   "execution_count": 131,
   "metadata": {},
   "outputs": [],
   "source": [
    "with open('../labels_test.json', 'r') as j:\n",
    "     contents = json.loads(j.read())"
   ]
  },
  {
   "cell_type": "code",
   "execution_count": 132,
   "metadata": {},
   "outputs": [
    {
     "data": {
      "text/plain": [
       "{'20160511_0127_9539_2_tg_1_1.png': 'TP.HCM góp tiền mua thêm 2.600 m2 hiến cho địa phương để khu nghĩa địa này',\n",
       " '20160527_0173_25432_1_tg_3_1.png': 'bằng, nhưng khi tiến hành thì bị cư dân ở địa phương ngăn cản quyết liệt.',\n",
       " '20160419_0096_25303_tg_0_5.png': 'tàu này chở nhiều hàng điện máy cũ với số lượng khá lớn',\n",
       " '20140603_0037_BCCTC_tg_0_3.png': 'là cách nói khác của từ thành đạt, nghĩa là có được một cuộc sống giàu sang, được',\n",
       " '20151224_0141_7818_2_tg_3_5.png': 'với số lượng lớn thì ông Ba lại chỉ sang các đầu nậu ở Lâm Đồng,',\n",
       " '20160113_0069_28472_3_tg_4_5.png': 'ngoài đường chưa đầy 1 phút và biến, không có chuyện xe dừng lâu để',\n",
       " '20160113_0067_25288_tg_0_2.png': 'Chúng tôi đang yêu cầu Công ty Sanofi Synthelabo giải trình lý do',\n",
       " '20140925_0043_5770_3_tg_3_0.png': 'Có khi chúng lừa lúc chủ gà sơ ý liền đánh thuốc mê, cho gà ăn bả..., thậm chí còn',\n",
       " '20140927_0033_5932_1_tg_0_2.png': 'An), biển Thanh Hóa, Quảng Ninh, đảo Thanh Lân thuộc vùng đảo Cô Tô.',\n",
       " '20151207_0061_25849_2_tg_3_6.png': 'không thuận lợi cho các phương tiện vào trạm và nhất là không đủ sức',\n",
       " '20160125_0080_25627_1_tg_1_6.png': 'rừng, nơi không có bóng dáng người dân, chỉ có ít người Indo đang',\n",
       " '20151224_0142_7606_2_tg_1_5.png': 'ràng trên thực đơn. Thử làm một phép tính nhỏ : làng nướng A mỗi đêm có',\n",
       " '20140921_0020_4899_2_tg_5_1.png': 'nước phong tặng danh hiệu anh hùng lao động. Trong lúc đó, công trình này (đầu tiên ở VN và là hầm',\n",
       " '20140603_0040_KQBDVN_tg_0_0.png': 'KHÁI QUÁT VỀ BIỂN ĐẢO VIỆT NAM',\n",
       " '20160602_0182_25432_1_tg_4_1.png': 'bất ngờ không hiểu chuyện gì đang xảy ra thì tiếp đó họ lại nhận',\n",
       " '20151126_0056_25600_1_tg_3_1.png': 'tín dụng theo kế hoạch Nhà nước năm 1998. \" Ông hiểu vốn tín dụng ở đây là vốn... gì? \",',\n",
       " '20140603_0041_KQBDVN_tg_0_6.png': 'tích trên 1 triệu km2 (gấp 3 diện tích đất liền : 1 triệu km2 / 330.000 km2)',\n",
       " '20150326_0005_25475_tg_0_3.png': 'đang thực hiện gồm : hệ thống cấp nước sông Sài Gòn giai đoạn 1',\n",
       " '20140603_0039_KQBDVN_tg_1_4.png': ', châu Á với châu Âu, châu Úc với Trung Đông. Giao lưu quốc tế',\n",
       " '20160523_0163_9244_1_tg_3_0.png': 'BS khám bệnh rồi chẩn đoán, ĐDV đo huyết áp, chích thuốc giảm đau, chuyển bệnh nhân lên',\n",
       " '20151205_0058_25627_2_tg_3_3.png': 'nợ cho chuyến làm ăn xa này. Ngược lại, không có việc thì chúng tôi về,',\n",
       " '20151208_0146_7105_2_tg_2_5.png': 'Sáu Chành, Tư Hạnh... rủ nhau kết lại với ông để hình thành \" ban',\n",
       " '20140603_0006_BCCTC_tg_0_4.png': 'đạt, nghĩa là có được một cuộc sống giàu sang, được mọi người nể phục?',\n",
       " '20160524_0167_25464_1_tg_1_0.png': 'Ông Trực nói tiếp : Dân gặp tôi kêu quá trời Muốn làm thủ tục này hết bao nhiêu, thủ tục kia',\n",
       " '20150220_0001_9244_3_tg_2_0.png': 'Xe cấp cứu tới kịp, nhanh chóng sơ cứu chở về bệnh viện. Sau',\n",
       " '20160722_0202_26749_1_tg_4_0.png': '\" Riêng trường hợp ông Phương ở cơ quan tôi, trước mắt cơ quan điều tra',\n",
       " '20160512_0132_9129_2_tg_4_2.png': 'ở độ tuổi 21 - 25. Bóng tối dần buông xuống \" thung lũng vàng \", mái lều vĩnh biệt',\n",
       " '20160412_0088_9415_1_tg_3_0.png': 'Một anh thu gom rác dân lập đang nặng nề đẩy xe trong một con hẻm',\n",
       " '20160526_0172_9129_1_tg_4_0.png': 'Giám đốc Lại Văn Quyền mắt đỏ, mặt phờ phạc vì thiếu ngủ và lo lắng nói vắn tắt',\n",
       " '20150215_0031_9129_2_tg_1_2.png': 'một số anh em liền chạy thẳng ra phía trước, bị lũ đẩy chúi xuống, cố',\n",
       " '20150218_0038_9244_2_tg_1_2.png': 'xách theo vali cấp cứu, ĐDV Huệ đem chiếc băng ca đẩy vào nhà có nạn',\n",
       " '20140603_0025_KQBDVN_tg_1_5.png': 'Có khí hậu biển là vùng nhiệt đới tạo điều kiện cho sinh vật biển',\n",
       " '20160220_0143_7606_2_tg_4_1.png': 'giùm. Hai anh chủ quán bảo yên chí sẽ có ngay. Sau 15 phút đội mưa chạy ngoài',\n",
       " '20160514_0136_9244_1_tg_3_4.png': 'địa bàn TP.HCM. Họ được gọi là cấp cứu viên (CCV). Lăn theo những',\n",
       " '20160603_0190_9244_2_tg_1_4.png': 'BS Hà vừa chẩn đoán bệnh vừa an ủi và động viên tinh thần. ĐDV Kim',\n",
       " '20151224_0066_26749_1_tg_4_4.png': 'cũng không có mặt. Tuy nhiên, chúng tôi cũng đã kiểm điểm',\n",
       " '20160603_0185_25300_tg_1_2.png': 'nếu VN muốn giải quyết được mục tiêu cung cấp nước sạch cho 85% dân số vào năm',\n",
       " '20160426_0107_25627_2_tg_4_4.png': 'tiếng / lần, bất kể ngày đêm.',\n",
       " '20140603_0017_KQBDVN_tg_2_0.png': 'Có tài nguyên sinh vật và khoáng sản phong phú, đa dạng, quý hiếm.',\n",
       " '20160115_0072_26558_3_tg_5_2.png': 'văn hóa. Tiếp tục tập trung nguồn lực cho chương trình 3 giảm...',\n",
       " '20160411_0083_9129_2_tg_0_6.png': 'quá lớn.',\n",
       " '20140920_0024_4784_1_tg_3_0.png': 'Có người yêu cầu đem cao đến Viện Công nghệ sinh học trưng cầu giám định...',\n",
       " '20151127_0005_25600_2_tg_4_5.png': 'xảy ra hậu quả nghiêm trọng, như thế có phải thiếu trách nhiệm',\n",
       " '20160421_0099_25432_2_tg_0_2.png': 'đã khiến một chủ tịch huyện bị thuyên chuyển công tác và một phó chủ tịch',\n",
       " '20160510_0124_25627_1_tg_1_4.png': 'khuôn mặt. Johor ngày thứ nhất. Họ đưa chúng tôi đến khu vực công trường bên cạnh',\n",
       " '20140603_0003_BCCTC_tg_3_0.png': 'Thành công ấy, liệu có mấy người đạt được?',\n",
       " '20150212_0022_9129_1_tg_2_6.png': 'tản mát quanh \" nhà vĩnh biệt \" nằm âm u bên ngút ngàn rừng núi',\n",
       " '20160419_0095_25302_tg_1_3.png': 'đối tượng mua dâm vẫn tăng, nhiều người mua dâm là cán bộ công chức \" - bà Hằng',\n",
       " '20160513_0135_9415_2_tg_0_1.png': 'Vấp đã đon đả thông báo : \" Bữa qua... không nhặt được gì hết. Hôm nay thì đang',\n",
       " '20160518_0159_25475_tg_0_3.png': 'tiểu dự án mạng cấp nước cấp 1, 2, 3. Hạn chót hoàn trả vốn gốc và lãi là ngày 31 - 12 - 2004,',\n",
       " '20160518_0151_25432_1_tg_2_6.png': 'đất ở đã đầu tư thuê nâng cấp mặt bằng xây dựng nền móng.',\n",
       " '20160604_0194_25475_tg_0_1.png': 'nghị Quĩ hỗ trợ phát triển cho TP vay 500 tỉ đồng với lãi suất 7,5% / năm để triển',\n",
       " '20150216_0009_9129_3_tg_4_1.png': 'xuống về quê, họ phải quay lại với hầm vàng. Nhìn những khuôn mặt rất',\n",
       " '20151209_0144_7398_2_tg_1_0.png': 'Họ sợ. Còn vợ chồng anh Diên thì cứ ngồi cúi đầu nơi bàn nước. Anh phẫn uất :',\n",
       " '20150303_0036_9129_1_tg_3_0.png': '\" Bọn tôi dồn sức chuyển xác ra, giờ trong bãi chẳng còn ai. Phải hơn 10 người mới chuyển',\n",
       " '20160119_0076_25849_2_tg_0_1.png': 'để chỉ xoay quanh việc có nên cho phép thu phí cầu Bình Triệu 2',\n",
       " '20160505_0114_28472_3_tg_5_1.png': 'thanh toán chi phí cho tài xế. Trên mỗi tờ giấy ngoài chi phí xăng, xe, ăn đường, chi phí bốc',\n",
       " '20140603_0037_BCCTC_tg_2_1.png': 'bình thường được. Từ nhỏ cậu đã nuôi ước mơ trở thành cầu thủ bóng đá. Sau',\n",
       " '20160113_0068_25272_tg_0_0.png': 'Sẽ tổ chức phố đi bộ tại Hội An. Chủ tịch UBND tỉnh Quảng Nam Nguyễn Xuân Phúc',\n",
       " '20160527_0173_25432_1_tg_1_3.png': 'đã được UBND huyện Sông Cầu xem xét và ra quyết định cấp đất theo',\n",
       " '20160511_0127_9539_2_tg_3_3.png': 'tuổi... Chú Năm Châu, thành viên ban quản lý nghĩa địa này, chỉ tôi thấy một Bên trong',\n",
       " '20140921_0020_4899_2_tg_7_3.png': 'mắt họ lại có những công trình mới đang vẫy gọi.',\n",
       " '20160412_0090_9415_1_tg_3_4.png': 'chuyện bận quá mà \". Anh Âm cầm mấy cái giấy, vuốt thẳng rồi cất vào',\n",
       " '20160125_0080_25627_1_tg_3_4.png': 'mong ngày trở về... làm kinh nghiệm cho những lao động khác \"',\n",
       " '20160115_0071_26749_2_tg_5_5.png': 'có động thái nào khi lộ ra việc ông Phương cùng ba đối tượng',\n",
       " '20151207_0061_25849_2_tg_1_4.png': 'thành các hạng mục công trình đúng như qui mô đã được phê duyệt, cho nên kế hoạch',\n",
       " '20140927_0033_5932_1_tg_2_0.png': 'Có lần tàu biệt kích Pháp chở súng đạn định đổ bộ lên vùng biển Thạch Bằng do',\n",
       " '20140925_0043_5770_3_tg_1_2.png': 'phân nó phải đen, da nó phải đỏ, thần khí nó phải linh hoạt... Vài năm trước',\n",
       " '20140603_0041_KQBDVN_tg_2_4.png': 'hạnh phúc của nhân dân.',\n",
       " '20151126_0056_25600_1_tg_1_3.png': 'về công việc và trách nhiệm của tôi ở Bộ NN & PTNT, cũng như trong sự việc này \",',\n",
       " '20160426_0105_25480_tg_3_4.png': 'TP đánh giá thấy rằng kết luận trên còn chung chung, chưa cụ thể và',\n",
       " '20140603_0040_KQBDVN_tg_2_2.png': 'nghiệp bảo vệ nền độc lập dân tộc và xây dựng chủ nghĩa xã hội, có liên quan trực tiếp đến',\n",
       " '20150220_0001_9244_3_tg_0_2.png': 'máu. Hoặc những ca sản phụ khó sinh, trên đường chở đến',\n",
       " '20160524_0167_25464_1_tg_3_2.png': 'Ông Võ lý giải : nếu chỉ đặt văn phòng ở cấp tỉnh, văn phòng này sẽ thực hiện luôn việc đăng ký',\n",
       " '20140603_0006_BCCTC_tg_2_6.png': 'ngày thơ bé',\n",
       " '20151208_0146_7105_2_tg_0_7.png': 'tạo mái ấm cho một gia đình nghèo, hai ông vẫn làm việc như không',\n",
       " '20151205_0058_25627_2_tg_1_1.png': 'Ban quản lý lao động và chuyên gia tại Malaysia (ở Kuala Lumpur), đói và',\n",
       " '20160603_0192_25272_tg_0_3.png': 'quán bar, cà phê, các khu vui chơi giải trí mở cửa phục vụ theo',\n",
       " '20151016_0044_9129_1_tg_4_0.png': 'Giám đốc Lại Văn Quyền mắt đỏ, mặt phờ phạc vì thiếu ngủ và',\n",
       " '20160504_0147_25627_3_tg_1_5.png': 'đốc là ông Nguyễn Thọ Tuấn vắng mặt đã lâu vì lý do sức khỏe, ông Lê Tuấn',\n",
       " '20160412_0092_9539_2_tg_5_0.png': 'Chị Ngọc Ánh, chủ tịch Mặt trận Tổ quốc của xã, còn cho tôi biết thêm',\n",
       " '20160523_0163_9244_1_tg_1_2.png': 'bàn trực có những năm điện thoại bàn và hai bộ đàm. Y tá Liêu Văn Trường trực điện',\n",
       " '20150215_0031_9129_2_tg_3_0.png': 'Từ 12 g khuya 13 đến rạng sáng 14 họ đã tìm được xác 19 người.',\n",
       " '20151109_0048_25432_1_tg_4_4.png': 'tỉnh Phú Yên thông báo một cách khá lạnh lùng : thực hiện thông báo 904 / TB - UB',\n",
       " '20160412_0088_9415_1_tg_1_2.png': '... \". Đáp lại là một cái nhìn đầy ngạc nhiên. Anh Âm giải thích : \" Chắc',\n",
       " '20160514_0137_25272_tg_0_3.png': 'chơi giải trí mở cửa phục vụ theo yêu cầu của du khách. Tại các điểm du',\n",
       " '20160722_0202_26749_1_tg_6_2.png': 'luận liên quan đến mình tôi đã giải trình và đã báo',\n",
       " '20160411_0086_9244_1_tg_0_4.png': 'nhờ cấp cứu đã... \".',\n",
       " '20160411_0083_9129_2_tg_2_4.png': 'trại bên liền đến đổ xô vào việc tiếp cứu bốn người bị thương, rồi',\n",
       " '20160512_0129_9244_1_tg_3_4.png': 'những vòng xe cấp cứu. Buổi trưa 14 - 11 - 2003 khi tôi đang ngồi nói chuyện với các anh',\n",
       " '20140603_0017_KQBDVN_tg_0_2.png': 'một phần biển Đông.',\n",
       " '20151209_0145_7276_1_tg_1_5.png': 'như lưới đánh cá dài khoảng 10 m, cao khoảng 3 m.',\n",
       " '20151215_0022_26558_3_tg_3_5.png': '2004 và trên 12% năm 2005. Phát triển nhanh các ngành dịch vụ,',\n",
       " '20151224_0066_26749_1_tg_6_6.png': 'dính đến tôi, đề nghị anh em phóng viên nên hỏi viện trưởng,',\n",
       " '20140603_0043_BCCTC_tg_3_5.png': 'hết sức để khẳng định mình. Đó là ý nghĩa vẹn nguyên của các kỳ thi, và cũng',\n",
       " '20160514_0136_9244_1_tg_1_6.png': 'rồi \".',\n",
       " '20150218_0038_9244_2_tg_3_0.png': 'Mùi ói xông nồng nặc.',\n",
       " '20160602_0181_25439_1_tg_5_5.png': 'chắc hẳn đã hàng trăm, ngàn lần câu hỏi đó tự đến với họ hoặc đến từ người thân,',\n",
       " '20160510_0124_25627_1_tg_3_6.png': 'chết đói.',\n",
       " '20160513_0133_9244_1_tg_3_4.png': 'phục vụ cả địa bàn TP.HCM. Họ được gọi là cấp cứu viên (CCV). Lăn',\n",
       " '20160421_0099_25432_2_tg_2_0.png': 'Chính quyền sai thì sửa, chứ sao lại chỉ sửa chính quyền mà không',\n",
       " '20151109_0047_25344_tg_1_6.png': 'thông qua 20 hội nghị truyền hình có sự tham gia của các quốc gia, những',\n",
       " '20140920_0024_4784_1_tg_1_2.png': 'khắp mâm. Thật kinh ngạc, 42 khối vuông hình sắc cạnh không hơn kém nhau 1 gam.',\n",
       " '20160426_0104_25480_tg_4_0.png': 'Trước đó, Thanh tra TP.HCM cũng có chuyển cho cơ quan điều tra kết quả',\n",
       " '20160119_0076_25849_2_tg_2_3.png': 'Triệu vào trung tâm TP HCM. Trong văn bản gửi UBND TP.HCM, Sở',\n",
       " '20150303_0036_9129_1_tg_1_2.png': 'được Công ty Trường Sơn dựng lên để tạm làm \" nhà vĩnh biệt \", bốn người thợ liệm -',\n",
       " '20160510_0125_26554_2_tg_3_5.png': 'Chính phủ đã phê duyệt chương trình dạy tiếng Việt cho NVƠNN.',\n",
       " '20151209_0144_7398_2_tg_3_2.png': 'chúng đang chứa một thằng cu nhiễm HIV \". Hằng ngày anh Diên phải rời nhà thật sớm',\n",
       " '20160518_0151_25432_1_tg_0_4.png': 'thông tin sớm nhất về việc giao đất ở tại khu qui hoạch dân cư mới tại',\n",
       " '20160513_0135_9415_2_tg_2_3.png': 'giấy tờ các loại đã được tìm thấy như vậy. Mỗi sáng, nhân viên của công ty lại',\n",
       " '20160514_0138_25272_tg_0_4.png': 'chức các lễ hội, như đêm rằm phố cổ mỗi tuần một lần và tổ chức các hội nghị quốc',\n",
       " '20150212_0022_9129_1_tg_0_4.png': '\" Thấy người ta chết thảm thiết rứa, làm răng ai có thể làm ngơ được \".',\n",
       " '20140603_0003_BCCTC_tg_1_2.png': 'đỏ sậm thì lại ngả sang màu... đen cháy. Nhưng nhìn mâm cơm, mẹ vẫn cười.',\n",
       " '20150504_0034_25300_tg_1_7.png': 'thức quản lý tài nguyên nước.',\n",
       " '20160512_0131_25311_tg_1_3.png': '\" tù tội \". Với tiền phí dịch vụ trên 1.000 USD / người, công ty cho biết đã chi',\n",
       " '20160115_0071_26749_2_tg_3_3.png': 'theo cũng sẽ \" chìm xuồng \" như thực tế nhiều vụ \" tách ra điều tra \" của',\n",
       " '20151207_0061_25849_2_tg_7_2.png': 'nếu đi vào làn kiểm soát thứ tư tài xế phải đánh vòng cua tay lái. Đối với',\n",
       " '20160604_0196_9244_2_tg_0_1.png': 'tầm, trên đường xe qua lại như đan mắt lưới. Tiếng còi hụ liên hồi. Anh',\n",
       " '20160113_0069_28472_3_tg_0_1.png': 'quá tải. Tài xế thừa nhận xe mình chở gấp năm lần trọng lượng cho phép (xe chở sắt cây dài',\n",
       " '20151113_0051_25463_tg_2_3.png': 'lên đỡ nên đã bị cắt trọng thương... Sau đó Khoán bỏ trốn, đến ngày 17 - 3 - 2004',\n",
       " '20140603_0023_BCCTC_tg_0_1.png': 'Đã bao giờ bạn tự hỏi thành công là gì mà bao kẻ bỏ cả cuộc đời mình theo đuổi?',\n",
       " '20151224_0141_7818_2_tg_7_1.png': 'chỉ thị khẩn của Chính phủ đã ban hành... Kỳ trước : Từ quán',\n",
       " '20160412_0087_9244_3_tg_1_5.png': 'tuổi ho đàm đã bốn ngày, mệt khó thở, đi chích thuốc về bỗng bất tỉnh, liền gọi',\n",
       " '20150311_0008_9539_1_tg_1_9.png': 'người nông dân chỉ tốt nghiệp tiểu học trường làng, từ bàn',\n",
       " '20140924_0007_5770_2_tg_2_2.png': 'đá gà miền Bắc chỉ biết hắn có hộ khẩu thường trú tại Hà Nội chứ',\n",
       " '20140603_0023_KQBDVN_tg_0_3.png': 'Bờ biển dài 3.260 km, từ Quảng Ninh đến Kiên Giang. Như vậy cứ 100 km2',\n",
       " '20160604_0193_25627_3_tg_0_0.png': '1 - 12 - 2003, chỉ còn ít lâu là Tết Nguyên đán, công ty chuộc ra, đưa trở lại công trường,',\n",
       " '20160525_0170_25463_tg_1_1.png': 'Khoán (đối tượng dùng cưa xăng cưa cánh tay trái của Hải ngày 15 - 3 - 2004)',\n",
       " '20160511_0127_9539_2_tg_5_5.png': 'với ông Ba Phước, không phải chỉ đóng góp xây dựng nghĩa địa này mà ông còn thường',\n",
       " '20140603_0033_BCCTC_tg_0_7.png': 'đến bất ngờ.',\n",
       " '20151208_0146_7105_2_tg_6_1.png': 'nghèo bằng gỗ dừa, mỗi năm trên chục căn. Riêng ông Sáu Sao, ngoài',\n",
       " '20160519_0161_9129_2_tg_3_4.png': 'cũng không cầm được xúc động : \" Dù có một số người bị chấn thương,',\n",
       " '20151016_0044_9129_1_tg_2_6.png': 'quanh \" nhà vĩnh biệt \" nằm âm u bên ngút ngàn rừng núi Trường Sơn.',\n",
       " '20151205_0059_25627_3_tg_2_1.png': 'chỉ kiểm soát được một phần sự việc. Sự việc liên tục xảy ra khiến hai bên không có',\n",
       " '20160412_0092_9539_2_tg_3_6.png': 'đó để chứa hòm thí, lúc nào hòm cũng chất đầy, người cho gỗ,',\n",
       " '20160510_0119_26558_1_tg_4_1.png': 'Trường Chinh do công tác đền bù giải tỏa tương đối khả quan. Ông Dũng đưa một tin đáng',\n",
       " '20160602_0182_25432_1_tg_0_5.png': 'người có thông tin sớm nhất về việc giao đất ở khu qui hoạch dân',\n",
       " '20140603_0015_KQBDVN_tg_1_1.png': 'thành phòng tuyến bảo vệ, kiểm soát và làm chủ vùng biển.',\n",
       " '20160604_0198_25300_tg_0_5.png': 'nhập sâu sẽ khiến hơn 44.000 ha đất nông nghiệp gặp khó khăn về nguồn nước',\n",
       " '20150504_0015_25311_tg_1_4.png': 'khoản phí môi giới và chưa có hướng giải quyết cho số lao động này khi',\n",
       " '20140603_0026_KQBDVN_tg_2_2.png': 'có ảnh hưởng trực tiếp đến sự nghiệp bảo vệ nền độc lập dân tộc và',\n",
       " '20160411_0083_9129_2_tg_4_2.png': 'Văn Định ở tuổi 35, số còn lại đều ở độ tuổi 21 - 25. Bóng tối dần',\n",
       " '20160421_0101_25435_tg_1_3.png': 'nghèo hiếu học, Bữa cơm miễn phí cho bệnh nhân nghèo, Cấp thẻ bảo hiểm y tế',\n",
       " '20160426_0107_25627_2_tg_0_0.png': 'Còn những người khác được bán lại qua các ông chủ nhỏ, không biết số phận ra sao. Lao',\n",
       " '20160428_0109_25627_3_tg_2_5.png': 'tiền bạc. Riêng Hồ Văn Thông, số hộ chiếu AX 0134520, ở Cương Gián,',\n",
       " '20151215_0022_26558_3_tg_5_3.png': 'trình 3 giảm...',\n",
       " '20151224_0066_26749_1_tg_0_0.png': 'Môi giới mại dâm người chưa thành niên ở Bình Dương : Có',\n",
       " '20160220_0143_7606_2_tg_0_5.png': 'rủng rỉnh bởi hàng độc thì bao giờ giá cả cũng không nhẹ nhàng...',\n",
       " '20150323_0043_25288_tg_0_6.png': 'buôn nhằm hạn chế kinh doanh lòng vòng làm nâng giá thuốc; lập ngân',\n",
       " '20160518_0154_25288_tg_0_9.png': 'thuốc tại cơ sở khám chữa bệnh, trách nhiệm của bác sĩ kê đơn',\n",
       " '20140920_0012_49_2_tg_1_0.png': 'Ta yêu hòa bình, ta yêu màu xanh, cho ta sống mãi với màu xanh',\n",
       " '20140603_0018_BCCTC_tg_3_5.png': 'khẳng định mình. Đó là ý nghĩa vẹn nguyên của các kỳ thi, và cũng là bản chất',\n",
       " '20160526_0172_9129_1_tg_0_4.png': 'Xác 19 công nhân làm vàng thuộc Công ty TNHH Trường Sơn tại bãi vàng Phước',\n",
       " '20151109_0048_25432_1_tg_2_2.png': 'đất lấy hạ tầng. Dự án này đã được UBND tỉnh Phú Yên phê duyệt và giao cho UBND',\n",
       " '20160524_0166_9415_2_tg_1_3.png': 'chứ. Từ ngày trở nên thân thiết với các nhân viên của Khai Minh, những người lao',\n",
       " '20160518_0152_25475_tg_0_0.png': 'TP.HCM : vay 500 tỉ đồng triển khai gấp các dự án cấp nước. UBND TP.HCM vừa đề nghị',\n",
       " '20160429_0110_25627_1_tg_3_4.png': '(xóm Vạn An, Vân Diên, Nam Đàn, Nghệ An) - tác giả cuốn nhật ký. Không có',\n",
       " '20160722_0202_26749_1_tg_0_4.png': 'bị cáo Nguyễn Thị Mửng) đã tung ra một số thông tin cho thấy vụ án có khả năng',\n",
       " '20140603_0026_BCCTC_tg_3_5.png': 'Cuộc sống vẫn chào đón họ với NV2, NV3. Quan trọng là họ đã',\n",
       " '20160505_0114_28472_3_tg_1_5.png': 'được gặp mặt PV.',\n",
       " '20160119_0076_25849_2_tg_4_5.png': 'TP. Trạm thu phí đặt tại chân cầu Bình Triệu cho thấy sau khi',\n",
       " '20160510_0125_26554_2_tg_5_3.png': 'của bà con tại nước sở tại để bà con có thể cư trú và làm ăn một cách',\n",
       " '20150216_0009_9129_3_tg_0_5.png': 'tích trong lũ quét, đồng thời quyết định trích từ ngân sách tỉnh',\n",
       " '20160506_0115_26558_1_tg_1_0.png': 'Phân cấp thực hiện cổ phần hóa \" Tốc độ cổ phần hóa không chậm - Phó Chủ tịch Mai Quốc',\n",
       " '20160513_0135_9415_2_tg_4_5.png': 'lại, chị không dám tới và đã nhờ Khai Minh.',\n",
       " '20160504_0112_25849_2_tg_8_7.png': 'tư này mà xe lửa cứ lù lù tiến tới thì không biết hậu quả',\n",
       " '20140603_0017_BCCTC_tg_3_2.png': 'thành \" tử sĩ \". Hai bảy điểm, cao thật đấy. Nhưng cao mà làm gì khi NV1 lấy',\n",
       " '20140603_0039_BCCTC_tg_3_4.png': 'chỉ là khi thành công - bị - trì - hoãn mà thôi. Cuộc sống vẫn chào',\n",
       " '20160414_0094_25283_1_tg_3_1.png': 'đơn từ con và coi như anh Đại không có trên cuộc đời này. Chỉ tay',\n",
       " '20160510_0148_25472_tg_0_3.png': 'hoạch bố trí vốn cho dự án khu triển lãm nông nghiệp, công văn bảo lãnh do lãnh đạo Bộ NN',\n",
       " '20160602_0181_25439_1_tg_3_3.png': 'chế xuất Tân Thuận. Vậy thì khi không khắc phục ngay mà để con đường xuống cấp thê',\n",
       " '20150328_0040_25475_tg_0_4.png': 'hoàn trả vốn gốc và lãi là ngày 31 - 12 - 2004, Công ty Cấp nước TP được ủy quyền',\n",
       " '20160525_0168_25283_1_tg_1_5.png': 'đục với nhau vì Lắm thất nghiệp không tiền bạc nên bị vợ bỏ dắt',\n",
       " '20151127_0005_25600_2_tg_0_1.png': 'nước của bộ đối với DN, đâu là trách nhiệm tự chủ trong sản xuất',\n",
       " '20160506_0116_26554_2_tg_2_8.png': 'Tuổi Trẻ Online.',\n",
       " '20160426_0104_25480_tg_2_6.png': 'phải có các số liệu thực tế về vật liệu bị bớt xén...',\n",
       " '20160510_0121_9129_1_tg_0_1.png': 'huyện Phước Sơn (Quảng Nam) đã hiện ra trước mặt chúng tôi. Khác với vẻ đông vui, nhộn',\n",
       " '20151113_0051_25463_tg_0_1.png': 'về vụ Trương Bảo Hải - nhân viên kiểm lâm hợp đồng ở Chư Prông, Gia Lai - bị một \" lâm tặc \"',\n",
       " '20160113_0069_28472_3_tg_2_3.png': 'làm việc vào tối thứ sáu, rạng sáng thứ bảy phải không? Có gì thì nói',\n",
       " '20160518_0158_25288_tg_0_4.png': 'sắp xếp lại hệ thống các nhà phân phối, nhất là khâu bán buôn nhằm hạn chế kinh',\n",
       " '20160604_0196_9244_2_tg_2_3.png': 'hừ hừ. ĐDV Huê an ủi và lấy y cụ bó thật chặt vòng bụng để bà cụ không',\n",
       " '20151207_0061_25849_2_tg_5_0.png': 'Như vậy, đây sẽ là điều bất ổn khi xe dồn ứ ở phía trước trạm thu phí và cho dù',\n",
       " '20160115_0071_26749_2_tg_1_1.png': 'còn thì tách ra tiếp tục điều tra làm rõ \", ông Nguyễn Thành Thượng trả lời Chiều 31 - 3, Cơ',\n",
       " '20140603_0042_BCCTC_tg_0_5.png': 'Cuộc sống sẽ chỉ cho bạn có những người đạt được thành công theo một cách giản dị đến',\n",
       " '20140603_0033_BCCTC_tg_2_5.png': 'và quyết tâm, đã chiến thắng hoàn cảnh để theo đuổi ước mơ từ ngày thơ bé.',\n",
       " '20160604_0193_25627_3_tg_2_2.png': 'không có sự hợp tác, tin cậy..., mệt mỏi từ hai phía \". Không tiền bạc, sức',\n",
       " '20140603_0023_KQBDVN_tg_2_1.png': 'Vùng biển và hải đảo nước ta có vị trí chiến lược hết sức to lớn, có',\n",
       " '20140924_0007_5770_2_tg_0_0.png': 'Cả sới gà náo động. Lượng tiền \" cốp \" tăng chóng mặt, tỉ lệ cá cược thay đổi liên tục. Chỉ trong',\n",
       " '20140603_0011_KQBDVN_tg_1_4.png': 'Có khí hậu biển là vùng nhiệt đới tạo điều kiện cho sinh vật biển phát triển, tồn tại tốt.',\n",
       " '20160518_0155_25344_tg_0_5.png': 'và chưa thành công, chỉ rõ những cách tiếp cận thực sự có hiệu quả trong giảm',\n",
       " '20151224_0141_7818_2_tg_5_3.png': 'các điểm thu mua như trước mà chủ yếu mua bán qua điện thoại,',\n",
       " '20140603_0023_BCCTC_tg_2_3.png': 'nhỏ và chưa bao giờ được chính thức ra sân.',\n",
       " '20160412_0092_9539_2_tg_1_4.png': 'chôn cất. Ông cho xây cổng, làm hàng rào và nhà nghỉ mát với tổng',\n",
       " '20151205_0059_25627_3_tg_0_3.png': 'có y tá đến đưa đi bệnh viện. 12 người trong tù ra, số còn lại thất nghiệp',\n",
       " '20151016_0044_9129_1_tg_0_4.png': 'thảm thiết rứa, làm răng ai có thể làm ngơ được \". Xác 19 công',\n",
       " '20160519_0161_9129_2_tg_1_6.png': 'những cây rừng lớn nhỏ.',\n",
       " '20151208_0146_7105_2_tg_4_3.png': 'Tre), Chợ Gạo (Tiền Giang)... các ông vẫn khăn gói lên đường làm giúp mà',\n",
       " '20140918_0010_49_1_tg_3_4.png': '30 năm, những dòng chữ rắn rỏi của một sinh viên, viết giữa đạn bom ác liệt, khoảng',\n",
       " '20140603_0026_KQBDVN_tg_0_0.png': 'KHÁI QUÁT VỀ BIỂN ĐẢO VIỆT NAM',\n",
       " '20160602_0182_25432_1_tg_2_7.png': 'qua một số chủ sở hữu đất ở đã đầu tư thuê nâng cấp mặt bằng',\n",
       " '20151109_0046_25302_tg_1_4.png': 'Hằng nhấn mạnh. Về phòng chống tội phạm ma túy, trong ba năm qua số người',\n",
       " '20140603_0043_KQBDVN_tg_1_5.png': 'Có khí hậu biển là vùng nhiệt đới tạo điều kiện cho sinh vật biển phát triển, tồn',\n",
       " '20151224_0066_26749_1_tg_2_2.png': 'cô gái, trong đó có hai người chưa thành niên, đến khách',\n",
       " '20151209_0145_7276_1_tg_5_1.png': 'trong tuyệt vọng. Người thợ săn già nhanh chóng hạ',\n",
       " '20140603_0042_KQBDVN_tg_1_3.png': 'châu Úc với Trung Đông. Giao lưu quốc tế thuận lợi, phát triển ngành biển.',\n",
       " '20160426_0107_25627_2_tg_2_2.png': 'được phát 25 ringgit (khoảng 100.000 đồng VN) ăn trong sáu ngày. Sau nhiều',\n",
       " '20160115_0072_26558_3_tg_3_4.png': 'bàn TP đạt 12% năm 2004 và trên 12% năm 2005. Phát triển nhanh',\n",
       " '20160722_0202_26749_1_tg_2_6.png': 'quả tang hôm đó là các ông Lý, Thành, Thu và Phương.',\n",
       " '20160411_0086_9244_1_tg_4_0.png': 'Thế là tôi cùng với êkip cấp cứu gồm BS Hà Thanh Hà, ĐDV Nguyễn Thị Kim Chi, Nguyễn',\n",
       " '20160512_0132_9129_2_tg_2_4.png': 'người còn lại bới đào tìm thi thể những người bất hạnh.',\n",
       " '20160429_0110_25627_1_tg_1_6.png': 'làm việc tại đó.',\n",
       " '20160524_0166_9415_2_tg_3_1.png': 'tìm kiếm địa chỉ và liên lạc với chủ nhân những giấy tờ đã tìm được, mời người đến nhận,',\n",
       " '20150326_0043_25435_tg_0_1.png': 'tiền quyên góp được ngay trong buổi ra mắt chi hội bảo trợ bệnh',\n",
       " '20151109_0048_25432_1_tg_0_0.png': 'Phú Yên : cán bộ làm sai, dân lãnh đủ. Hàng trăm hộ dân Phú Yên vừa nhận được',\n",
       " '20160526_0172_9129_1_tg_2_6.png': 'ngàn rừng núi Trường Sơn.',\n",
       " '20160511_0128_9244_1_tg_1_5.png': 'bình phục là tôt rồi \".',\n",
       " '20140920_0012_49_2_tg_3_2.png': 'B.52, con này bay nhanh quá, phong cho nó là F.4 vậy, cứ',\n",
       " '20150212_0022_9129_1_tg_4_0.png': 'Giám đốc Lại Văn Quyền mắt đỏ, mặt phờ phạc vì thiếu ngủ và lo lắng',\n",
       " '20160414_0094_25283_1_tg_1_3.png': 'tên, kể hoàn cảnh của từng người : vợ chồng Trường - Trinh có hai con',\n",
       " '20140603_0039_BCCTC_tg_1_6.png': 'hạnh phúc ấy long lanh in trong mắt mẹ.',\n",
       " '20140603_0017_BCCTC_tg_1_0.png': 'Thành công là khi bố và con trai có dũng khí bước vào bếp, nấu những',\n",
       " '20160506_0115_26558_1_tg_3_2.png': 'Phú Hữu, quận 7 để giảm 25% lượng xe tải vào TP. Ông thông tin : \" Nhà nước chỉ',\n",
       " '20160518_0151_25432_1_tg_4_0.png': 'Trong lúc nhiều công dân có đất tại khu dân cư mới Xuân Hải bất ngờ không',\n",
       " '20160510_0121_9129_1_tg_2_3.png': 'với người dân Khâm Đức, với những ai đến bãi xác này khi họ nhìn vào nét đăm chiêu và sự',\n",
       " '20160426_0104_25480_tg_0_4.png': 'tặng anh Trương Xuân Đại 150.000 đồng, một cô gái tên Nhung ở Tân Bình gửi',\n",
       " '20151127_0005_25600_2_tg_2_3.png': 'văn 999 ngày 26 - 2 - 1998 mà gần đây bị cáo mới tìm thấy \". \" Đó',\n",
       " '20160525_0171_25288_tg_0_3.png': 'do giá một số mặt hàng của công ty này bán tại VN với giá cao',\n",
       " '20160602_0181_25439_1_tg_1_1.png': 'ở đường liên cảng A5 10 triệu đồng. Đừng để người dân đặt cược cho niềm tin!',\n",
       " '20160510_0148_25472_tg_2_1.png': 'Oanh về chi tiết việc sử dụng những khoản vay NH cũng như những khoản vay của các công ty',\n",
       " '20151127_0005_25600_2_tg_2_2.png': 'việc xác nhận là có chủ trương của bộ? \" ông Luân : \" Có, thể hiện ở công',\n",
       " '20160426_0104_25480_tg_0_5.png': 'tặng 100.000 đ, một thanh niên tên Hà đến gửi 200.000 đ.',\n",
       " '20160510_0121_9129_1_tg_2_2.png': 'tử biệt sinh ly đầy những đoạn trường này nhưng vẫn buồn bã, vẫn đầy não nề thương cảm',\n",
       " '20160510_0148_25472_tg_2_0.png': 'Ba phần tư thời gian còn lại của ngày làm việc được HĐXX tập trung thẩm vấn Lã Thị Kim',\n",
       " '20160602_0181_25439_1_tg_1_0.png': 'Ban biên tập báo Tuổi Trẻ cũng quyết định gửi tặng nhóm công nhân đã tố cáo tiêu cực',\n",
       " '20160525_0171_25288_tg_0_2.png': '\" Chúng tôi đang yêu cầu Công ty Sanofi Synthelabo giải trình lý',\n",
       " '20140603_0017_BCCTC_tg_1_1.png': 'món ăn mẹ thích nhân ngày 8 - 3. Món canh có thể hơi mặn, món cá sốt đáng',\n",
       " '20160414_0094_25283_1_tg_1_2.png': 'nhân 20 người đó còn bám trụ lại ở Sài Gòn. Ngồi với chúng tôi anh kể',\n",
       " '20150212_0022_9129_1_tg_4_1.png': 'nói vắn tắt về thảm trạng : \" Thấy trời mưa lớn, trưa 13 - 11',\n",
       " '20160518_0151_25432_1_tg_4_1.png': 'hiểu chuyện gì đang xảy ra thì tiếp đó họ lại nhận được giấy thông báo',\n",
       " '20160506_0115_26558_1_tg_3_3.png': 'cần hỗ trợ 30 tỉ đồng tiền mặt bằng, còn các DN vận tải biển đồng ý hợp tác',\n",
       " '20160518_0153_25303_tg_1_4.png': 'dưới mọi hình thức.',\n",
       " '20160411_0086_9244_1_tg_4_1.png': 'Văn Huệ, lái xe Nguyễn Văn Nghĩa lên đường.',\n",
       " '20140603_0026_BCCTC_tg_1_6.png': 'món quà quý giá, hạnh phúc ấy long lanh in trong mắt mẹ.',\n",
       " '20140920_0012_49_2_tg_3_3.png': 'thế mỗi con là một cái tên tương xứng với không lực Hoa Kỳ lần',\n",
       " '20160511_0128_9244_1_tg_1_4.png': 'cầm ống nghe : \" Ồ không có gì đâu! Nhiệm vụ của chúng tôi mà. Anh ấy',\n",
       " '20151109_0048_25432_1_tg_0_1.png': 'thông báo trả lại tiền sử dụng 350 ha đất đã cấp sổ đỏ ở các khu dân cư mới xã',\n",
       " '20150326_0043_25435_tg_0_0.png': '800 triệu đồng ủng hộ bệnh nhân nghèo. 800 triệu đồng là số',\n",
       " '20160524_0166_9415_2_tg_3_0.png': 'Ở văn phòng, Phi luôn tay luôn miệng với cái máy điện thoại. Nhận thông tin báo mất,',\n",
       " '20140603_0043_KQBDVN_tg_1_4.png': 'ngành biển.',\n",
       " '20151109_0046_25302_tg_1_5.png': 'nghiện tăng ở 53 / 64 tỉnh thành, chỉ 40% người nghiện được đưa đi cai nghiện',\n",
       " '20160115_0072_26558_3_tg_3_5.png': 'các ngành dịch vụ, tái cấu trúc các ngành công nghiệp.',\n",
       " '20160426_0107_25627_2_tg_2_3.png': 'cuộc làm việc với đại diện công ty không thành, họ bắt chúng tôi làm đơn',\n",
       " '20140603_0042_KQBDVN_tg_1_2.png': 'Có vị trí chiến lược quan trọng : nối liền Thái Bình Dương với Ấn Độ Dương, châu Á với châu Âu,',\n",
       " '20151209_0145_7276_1_tg_5_0.png': 'Trên cheo lưới, gần chục con chim đang đập cánh phành phạch',\n",
       " '20151224_0066_26749_1_tg_2_3.png': 'sạn Ngọc Vân 2 để bán dâm thì bị công an bắt quả tang. Luật',\n",
       " '20160602_0182_25432_1_tg_2_6.png': 'xã Xuân Hải khoảng 2 km. Sau khi hoàn tất thủ tục, thời gian',\n",
       " '20140603_0026_KQBDVN_tg_0_1.png': 'Nước ta giáp với biển Đông ở hai phía Đông và Nam. Vùng biển Việt',\n",
       " '20151205_0059_25627_3_tg_0_2.png': 'Hồ Văn Trương bị té lầu trong khi làm việc. Từ chiều đến 11 giờ đêm mới',\n",
       " '20160412_0092_9539_2_tg_1_5.png': 'kinh phí gần 45 triệu đồng, trong đó phần của ông góp thêm trên 27 triệu,',\n",
       " '20140918_0010_49_1_tg_3_5.png': 'lặng giữa hai trận đánh...',\n",
       " '20151208_0146_7105_2_tg_4_2.png': 'Châu Thành),Thạnh Ngãi (huyện Mỏ Cày) hay Mỹ Thạnh An (thị xã Bến',\n",
       " '20151016_0044_9129_1_tg_0_5.png': 'nhân làm vàng thuộc Công ty TNHH Trường Sơn tại bãi vàng',\n",
       " '20140603_0023_KQBDVN_tg_2_0.png': 'Có tài nguyên và khoáng sản phong phú, đa dạng, quý hiếm.',\n",
       " '20160604_0193_25627_3_tg_2_3.png': 'khỏe vơi đi cùng cả số tư trang ít ỏi trên người cũng được đánh đổi lấy',\n",
       " '20140603_0033_BCCTC_tg_2_4.png': 'bại. Trái lại, thành công đã nở hoa khi cậu bé năm xưa, với bao nghị lực',\n",
       " '20140603_0023_BCCTC_tg_2_2.png': 'bao nỗ lực khổ luyện, cậu bé trở thành cầu thủ dự bị trong một đội bóng',\n",
       " '20151224_0141_7818_2_tg_5_2.png': 'kết. Riêng các đầu nậu, ông Trúc than thở : \" Khó bội phần vì họ không tổ chức',\n",
       " '20160518_0155_25344_tg_0_4.png': 'nghiên cứu hàng loạt các trường hợp cụ thể minh họa những mô hình thành công',\n",
       " '20140924_0007_5770_2_tg_0_1.png': 'ít phút, lượng tiền cược trên sàn đã lên tới vài chục triệu đồng. Đã hết hồ thứ sáu (mỗi',\n",
       " '20160518_0158_25288_tg_0_5.png': 'doanh lòng vòng làm nâng giá thuốc; lập ngân hàng dữ liệu giá thuốc (giá thuốc cùng',\n",
       " '20160113_0069_28472_3_tg_2_2.png': '\" Xin gặp V. H. khó quá, tại sao H. không chịu gặp? Nghe nói V. H. có lên Dầu Giây',\n",
       " '20151113_0051_25463_tg_0_0.png': 'Sự thật vụ kiểm lâm bị \" cưa tay \". TT - Tuổi Trẻ đã đưa tin (theo nguồn tin TTXVN)',\n",
       " '20140603_0042_BCCTC_tg_0_4.png': 'nể phục? Vậy thì bạn hãy dành chút thời gian để lặng mình suy ngẫm.',\n",
       " '20160115_0071_26749_2_tg_1_0.png': '\" Chúng tôi thống nhất với cơ quan điều tra vụ nào đã kết luận thì đưa ra xử trước,',\n",
       " '20151207_0061_25849_2_tg_5_1.png': 'thực hiện giải pháp xả cảng cũng khó thông thoát dòng xe, chưa kể đến tình huống',\n",
       " '20160604_0196_9244_2_tg_2_2.png': 'ngả đường để chuẩn bị đưa về Bệnh viện Chợ Rẫy, quận 5. Cụ già rên',\n",
       " '20150328_0040_25475_tg_0_5.png': 'ký hợp đồng tín dụng nhận vốn vay.',\n",
       " '20160602_0181_25439_1_tg_3_2.png': 'công trình đường liên cảng A5 chắc là nhằm phục vụ hoạt động của các nhà đầu tư trong Khu',\n",
       " '20160510_0148_25472_tg_0_2.png': 'đồng. Đại diện NH Công thương Ba Đình cho biết ngoài công văn của Chính phủ khẳng định sẽ có kế',\n",
       " '20160510_0121_9129_1_tg_0_0.png': 'Họ đã chết trên đường mưu sinh. Hơn 2 giờ chiều, vẫn mưa lất phất, thị trấn Khâm Đức,',\n",
       " '20151127_0005_25600_2_tg_0_0.png': 'Ông cũng đề nghị HĐXX phân định rõ \" đâu là trách nhiệm quản lý nhà',\n",
       " '20160525_0168_25283_1_tg_1_4.png': 'nhỏ không biết bây giờ lang thang ở đâu; vợ chồng Mai Văn Lắm lục',\n",
       " '20160504_0112_25849_2_tg_8_6.png': '... \". Quả thật nếu như đang có ùn tắc giao thông trên ngã',\n",
       " '20160513_0135_9415_2_tg_4_4.png': 'lên thành phố bị giật mất giỏ xách, có điện thoại hẹn đến Q. 9 để nhận',\n",
       " '20160506_0115_26558_1_tg_1_1.png': 'Bình dẫn chứng - có 109 doanh nghiệp (DN) cổ phần hóa, năm 2003 mình làm được 37.',\n",
       " '20150216_0009_9129_3_tg_0_4.png': 'tập trung khắc phục hậu quả, tìm kiếm những người bị mất',\n",
       " '20160510_0125_26554_2_tg_5_2.png': 'Thưa ông, một vấn đề được nhiều NVƠNN băn khoăn là tư cách pháp nhân',\n",
       " '20160119_0076_25849_2_tg_4_4.png': 'hướng ngoại thành và các tỉnh qua cầu Bình Triệu về trung tâm',\n",
       " '20160505_0114_28472_3_tg_1_4.png': 'tra kiểm soát giao thông địa bàn Dầu Giây, Trảng Bom, Thống Nhất, Đồng Nai - đề nghị',\n",
       " '20160414_0094_25283_1_tg_3_0.png': 'Ông quả quyết rằng nếu đây là sự thật thì ông sẽ ra làng, xã làm',\n",
       " '20140603_0039_BCCTC_tg_3_5.png': 'đón họ với NV2, NV3. Quan trọng là họ đã nỗ lực hết sức',\n",
       " '20140603_0017_BCCTC_tg_3_3.png': 'tới hai bảy phẩy năm? Đó thật ra không phải là thất bại, chỉ là khi',\n",
       " '20160518_0152_25475_tg_0_1.png': 'Quĩ hỗ trợ phát triển cho TP vay 500 tỉ đồng với lãi suất 7,5% / năm để triển',\n",
       " '20160524_0166_9415_2_tg_1_2.png': 'thiết vì \" đi bộ, đi xe đạp, ngồi cố định một chỗ mới có nhiều cơ hội nhìn xuống đường \"',\n",
       " '20160526_0172_9129_1_tg_0_5.png': 'Thành (Phước Sơn) đã được đưa về thị trấn này.',\n",
       " '20151109_0048_25432_1_tg_2_3.png': 'huyện Sông Cầu thực hiện. Sơ đồ qui hoạch được chính quyền sở tại công bố công',\n",
       " '20160511_0128_9244_1_tg_3_6.png': 'ca cấp cứu đường Tô Hiến Thành đang gọi.',\n",
       " '20140603_0018_BCCTC_tg_3_4.png': 'Cuộc sống vẫn chào đón họ với NV2, NV3. Quan trọng là họ đã nỗ lực hết sức để',\n",
       " '20140920_0012_49_2_tg_1_1.png': 'này, màu xanh tương lai, màu xanh mà ta phải tranh đấu. Trong',\n",
       " '20140603_0026_BCCTC_tg_3_4.png': 'là thất bại, chỉ là khi thành công - bị - trì - hoãn mà thôi.',\n",
       " '20160722_0202_26749_1_tg_0_5.png': 'bỏ lọt người, lọt tội liên quan đến một số cán bộ nhà nước, trong đó có ông Phương,',\n",
       " '20160429_0110_25627_1_tg_3_5.png': 'tiền ăn, chúng tôi phải lội suối đi vào rừng mò cua bắt cá, kiếm rau, xin đu đủ',\n",
       " '20160517_0150_25272_tg_0_4.png': 'tế và mở các tour du lịch làng nghề truyền thống.',\n",
       " '20151224_0066_26749_1_tg_0_1.png': 'sót người, lọt tội? Từ ngày 30 - 3, Tòa án nhân dân tỉnh Bình',\n",
       " '20151215_0022_26558_3_tg_5_2.png': 'và hoạt động văn hóa. Tiếp tục tập trung nguồn lực cho chương',\n",
       " '20160428_0109_25627_3_tg_2_4.png': 'dùng trong những ngày ở tù. Họ đếm từng ngày trôi đi trong gánh nặng',\n",
       " '20160426_0107_25627_2_tg_0_1.png': 'động tiếp tục bị bán tứ tán. Các ông chủ chặn xe chở lao động VN giành nhau người,',\n",
       " '20160421_0101_25435_tg_1_2.png': 'tàn tật và trẻ bại liệt, Âm thanh và tiếng nói cho trẻ khiếm thính, Học bổng cho HSSV',\n",
       " '20160411_0083_9129_2_tg_4_3.png': 'buông xuống \" thung lũng vàng \", mái lều vĩnh biệt của những người',\n",
       " '20160518_0154_25288_tg_0_8.png': 'vực) để có cơ sở quản lý giá; quản lý khâu cung ứng, sử dụng',\n",
       " '20150323_0043_25288_tg_0_7.png': 'hàng dữ liệu giá thuốc (giá thuốc cùng loại ở nước sản xuất, ở các nước',\n",
       " '20160220_0143_7606_2_tg_0_4.png': 'không? \". Khách vào các quán \" cao cấp \" loại này thường phải có túi tiền',\n",
       " '20140603_0026_KQBDVN_tg_2_3.png': 'xây dựng chủ nghĩa xã hội, có liên quan trực tiếp đến sự phồn vinh',\n",
       " '20150504_0015_25311_tg_1_5.png': 'họ không có một đồng tiền lương nào trong những ngày vất vả nơi xứ lạ.',\n",
       " '20160604_0198_25300_tg_0_4.png': 'bình nhiều năm cùng thời kỳ. Dự báo nếu tiếp tục không mưa và nước mặn xâm',\n",
       " '20140603_0015_KQBDVN_tg_1_0.png': 'Trong đó có 2 quần đảo Hoàng Sa, Trường Sa và 2.577 đảo lớn, nhỏ, gần và xa bờ, hợp',\n",
       " '20160602_0182_25432_1_tg_0_4.png': 'đường Qui Nhơn - Sông Cầu vừa bắt đầu manh nha hình thành, nhiều',\n",
       " '20160519_0161_9129_2_tg_3_5.png': 'nhưng tất cả họ đều bị chết ngạt. Họ đều còn rất trẻ... \".',\n",
       " '20151208_0146_7105_2_tg_6_0.png': 'Hai người bạn đồng hành này cũng cất nhà tình thương cho người',\n",
       " '20160510_0119_26558_1_tg_4_0.png': 'Thời gian xây dựng cảng chỉ mất một năm. Ông Dũng cũng cho biết sẽ cố gắng khởi công sớm đường',\n",
       " '20160412_0092_9539_2_tg_3_7.png': 'kẻ ra công đóng...',\n",
       " '20151205_0059_25627_3_tg_2_0.png': 'Ông Tuấn Anh nói : \" Lỗi không của riêng ai, đây là rủi ro trong làm ăn công ty',\n",
       " '20140924_0007_5770_2_tg_2_3.png': 'không ai biết chính xác hắn làm nghề gì. Hắn thường hay bê gà đi khắp',\n",
       " '20150311_0008_9539_1_tg_1_8.png': 'lố nhố mấy chục công nhân làm việc mà thầm khâm phục',\n",
       " '20160412_0087_9244_3_tg_1_4.png': 'lúc 1 giờ sáng 17 - 10 - 2003 tại ngôi nhà đường Âu Dương Lân, quận 8, một phụ nữ 56',\n",
       " '20151224_0141_7818_2_tg_7_0.png': 'Và như vậy nguồn động vật rừng vẫn âm thầm chảy về thành phố, dù',\n",
       " '20140603_0023_BCCTC_tg_0_0.png': 'Bản chất của thành công',\n",
       " '20140603_0033_BCCTC_tg_0_6.png': 'Cuộc sống sẽ chỉ cho bạn có những người đạt được thành công theo một cách giản dị',\n",
       " '20160511_0127_9539_2_tg_5_4.png': 'nhất là không bao giờ còn cảnh \" xóc chéo \" giữa đồng nước nổi nữa... Riêng',\n",
       " '20160525_0170_25463_tg_1_0.png': 'Theo điều tra của cơ quan chức năng, Hải là người đã thuê Hoàng Văn',\n",
       " '20160604_0193_25627_3_tg_0_1.png': 'hứa giải quyết về trước tết, lại làm việc và sống cầm hơi như cũ. Ngày 2 - 1 - 2004,',\n",
       " '20140603_0023_KQBDVN_tg_0_2.png': 'Đông.',\n",
       " '20160604_0196_9244_2_tg_0_0.png': 'Chiếc xe cấp cứu của chúng tôi băng băng với tốc độ chóng mặt. Đang giờ tan',\n",
       " '20151207_0061_25849_2_tg_7_3.png': 'các loại xe tải trọng cao và dài như xe chở container, đặc biệt là loại container',\n",
       " '20160115_0071_26749_2_tg_3_2.png': 'trưởng cùng ba đối tượng. Liệu rằng việc tách ra để điều tra xử lý tiếp',\n",
       " '20160512_0131_25311_tg_1_2.png': 'không được giải quyết khi bị tai nạn lao động, 6 / 17 người đã nếm mùi',\n",
       " '20150504_0034_25300_tg_1_6.png': 'cầu nước lớn nhất, huy động nhiều đối tượng tham gia thực hiện phương',\n",
       " '20140921_0020_4899_2_tg_1_4.png': 'khuôn mặt của anh thợ máy Kha vừa quen lúc nãy.',\n",
       " '20151113_0051_25463_tg_2_2.png': 'có cãi vã nhau. Khoán đã dùng cưa đang nổ gí vào người Hải, Hải đưa tay trái',\n",
       " '20160113_0069_28472_3_tg_0_0.png': 'Trước đó, sáng 28 - 3 - 2004 chúng tôi rong ruổi theo chiếc xe 43H-016... ì ạch trên đường vì',\n",
       " '20160513_0135_9415_2_tg_2_2.png': 'giấy tờ dạo nào, nay là trưởng phòng báo mất Công ty Khai Minh, cất giữ hàng ngàn',\n",
       " '20160518_0151_25432_1_tg_0_5.png': 'xã Xuân Hải, huyện Sông Cầu, tỉnh Phú Yên.',\n",
       " '20151209_0144_7398_2_tg_3_3.png': 'để đi Đà Nẵng bốc gạch thuê công nhật 30.000 đồng. Nơi này không ai biết',\n",
       " '20160510_0125_26554_2_tg_3_4.png': 'giao lưu, học tiếng Việt, đi tham quan, tìm hiểu văn hóa truyền thống.',\n",
       " '20150303_0036_9129_1_tg_1_3.png': 'vốn cũng là công nhân đào vàng - đang tiếp tục công việc của họ. \" Chúng tôi đang',\n",
       " '20160119_0076_25849_2_tg_2_2.png': 'chiều nếu hoàn thành dự án) đối với xe lưu thông hướng từ ga Bình',\n",
       " '20140603_0003_BCCTC_tg_1_3.png': 'Bởi vì hai bố con không thể thành công trên \" chiến trường \" bếp núc, nhưng lại thành công',\n",
       " '20150212_0022_9129_1_tg_0_5.png': 'Xác 19 công nhân làm vàng thuộc Công ty TNHH Trường Sơn tại bãi vàng',\n",
       " '20160514_0138_25272_tg_0_5.png': 'tế và mở các tour du lịch làng nghề truyền thống.',\n",
       " '20160513_0133_9244_1_tg_3_5.png': 'theo những vòng xe cấp cứu. Buổi trưa 14 - 11 - 2003 khi tôi đang ngồi nói',\n",
       " '20160602_0181_25439_1_tg_5_4.png': 'cảnh đời tan nát như thế sao! Vì sao họ đã làm điều đó? Ba năm trôi qua,',\n",
       " '20140920_0024_4784_1_tg_1_3.png': 'Bác sĩ Dung giở sổ đọc to : anh Kiều 5 lạng, bác Vui 3, chị Hoa 4... Sau mỗi câu,',\n",
       " '20160426_0104_25480_tg_4_1.png': 'thanh tra công trình, nhưng do đặc điểm của thanh tra trong vụ này là lấy',\n",
       " '20160421_0099_25432_2_tg_2_1.png': 'sửa bên dân? Tôi đã chấp nhận cho trả lại tiền và lãi ngân hàng',\n",
       " '20151109_0047_25344_tg_1_7.png': 'cuộc đối thoại trực tuyến...',\n",
       " '20151224_0066_26749_1_tg_6_7.png': 'lãnh đạo cơ quan điều tra, vì nếu nói thì bao giờ tôi cũng',\n",
       " '20140603_0043_BCCTC_tg_3_4.png': 'thôi. Cuộc sống vẫn chào đón họ với NV2, NV3. Quan trọng là họ đã nỗ lực',\n",
       " '20151209_0145_7276_1_tg_1_4.png': 'gần một bụi rậm, ông H. cúi xuống thò tay kéo ra một cheo lưới giống',\n",
       " '20151215_0022_26558_3_tg_3_4.png': 'đưa tốc độ tăng trưởng GDP trên địa bàn TP đạt 12% năm',\n",
       " '20140603_0017_KQBDVN_tg_0_3.png': 'Bờ biển dài 3.260 km, từ Quảng Ninh đến Kiên Giang. Như vậy cứ 100 km2',\n",
       " '20160512_0129_9244_1_tg_3_5.png': 'chị bỗng ĐDV trực ban cho biết có ca cấp cứu đường Tô Hiến Thành đang gọi.',\n",
       " '20160411_0083_9129_2_tg_2_5.png': 'cùng 10 người còn lại bới đào tìm thi thể những người bất hạnh.',\n",
       " '20160514_0137_25272_tg_0_2.png': 'phố cổ Hội An, đồng thời tổ chức chợ đêm, các quán bar, cà phê, các khu vui',\n",
       " '20160412_0088_9415_1_tg_1_3.png': 'anh cũng đã từng nhặt được giấy tờ rơi rớt, công ty chúng tôi sẽ giúp anh',\n",
       " '20151109_0048_25432_1_tg_4_5.png': 'ngày 15 - 12 - 2003 của UBND tỉnh Phú Yên là phải thu hồi đất của các hộ dân ngoài',\n",
       " '20150215_0031_9129_2_tg_3_1.png': 'Đau lòng lắm nhưng rồi mình cũng phải ráng. Toàn là người',\n",
       " '20160722_0202_26749_1_tg_6_3.png': 'cáo với Viện kiểm sát cấp trên. Mình cũng ở cấp lãnh đạo,',\n",
       " '20160504_0147_25627_3_tg_1_4.png': 'ở TP.HCM, chúng tôi làm việc trực tiếp với đại diện Công ty Bitocimex. Giám',\n",
       " '20151016_0044_9129_1_tg_4_1.png': 'lo lắng nói vắn tắt về thảm trạng : \" Thấy trời mưa lớn, trưa 13 - 11',\n",
       " '20160603_0192_25272_tg_0_2.png': 'bộ tại 6 đường phố chính của khu phố cổ Hội An, đồng thời tổ chức chợ đêm, các',\n",
       " '20151205_0058_25627_2_tg_1_0.png': 'Nhiều người kiệt sức, chúng tôi phải tự cứu mình. 12 người đi bộ 7 km đến',\n",
       " '20151208_0146_7105_2_tg_0_6.png': 'người sức trẻ đã là khó, huống hồ đây là hai ông già, nhưng nghĩ đến việc',\n",
       " '20160524_0167_25464_1_tg_3_3.png': 'quyền sử dụng đất đối với trường hợp thuộc thẩm quyền quyết định của UBND cấp huyện là không ổn.',\n",
       " '20150220_0001_9244_3_tg_0_3.png': 'bệnh viện nước ối tràn ra đầy băng ca... Lâu rồi cũng quen... \".',\n",
       " '20160523_0163_9244_1_tg_1_3.png': 'thoại, có tiếng chuông reo vang, Trường cầm ống nghe : \" Ồ không có gì đâu! Nhiệm vụ',\n",
       " '20160412_0092_9539_2_tg_5_1.png': 'chính nhờ khu nghĩa địa Từ Thiện mà qua mấy mùa nước lũ năm 2000,',\n",
       " '20151126_0056_25600_1_tg_1_2.png': 'với bộ trưởng Lê Huy Ngọ về những vấn đề gì? \". \" Tôi muốn anh Ngọ đánh giá',\n",
       " '20140603_0040_KQBDVN_tg_2_3.png': 'sự phồn vinh của đất nước, đến văn minh và hạnh phúc của nhân dân.',\n",
       " '20160426_0105_25480_tg_3_5.png': 'chưa thể dùng làm chứng cứ điều tra. Do vậy cơ quan điều tra đã phải',\n",
       " '20151207_0061_25849_2_tg_1_5.png': 'đặt trạm thu phí ban đầu ở giữa cầu Đúc Nhỏ và cầu Ông Dầu trên quốc lộ 13 không thể',\n",
       " '20160125_0080_25627_1_tg_3_5.png': '- Nguyễn Văn Toàn (xóm Vạn An, Vân Diên, Nam Đàn, Nghệ An) -',\n",
       " '20160115_0071_26749_2_tg_5_4.png': 'làm đúng theo pháp luật, không bị sức ép nào đâu. VKS tỉnh đã',\n",
       " '20160412_0090_9415_1_tg_3_5.png': 'cặp, cẩn trọng như giấy tờ của chính mình...',\n",
       " '20140921_0020_4899_2_tg_7_2.png': 'Còn với những người thợ khoan hầm Sông Đà, sự kiện như thế đã từng diễn ra và giờ đây trước',\n",
       " '20140925_0043_5770_3_tg_1_3.png': 'dân đá gà chuyên nghiệp hẳn chưa quên con gà ô rụt của Sự \" già \" người Thái',\n",
       " '20140927_0033_5932_1_tg_2_1.png': 'va phải đá ngầm bị chìm ngoài cửa Sót, ông Đỉnh lại được dân quân xã cử đi',\n",
       " '20140603_0037_BCCTC_tg_2_0.png': 'Thành công còn là hình ảnh một cậu bé bị dị tật ở chân, không bao giờ đi lại',\n",
       " '20151224_0141_7818_2_tg_1_6.png': 'tỏa khắp căn nhà.',\n",
       " '20160511_0127_9539_2_tg_3_2.png': 'có sơ đồ những ngôi mộ được chôn theo vị trí đã được qui định theo giới tính, lứa',\n",
       " '20160527_0173_25432_1_tg_1_2.png': 'người dân từ thành phố Qui Nhơn (Bình Định) và huyện Sông Cầu (Phú Yên)',\n",
       " '20160113_0068_25272_tg_0_1.png': 'cho biết tỉnh sẽ đầu tư xây dựng khu phố đi bộ tại 6 đường phố chính của khu',\n",
       " '20160419_0095_25302_tg_1_2.png': '\" Tệ nạn mại dâm vẫn đang diễn biến phức tạp, riêng TP.HCM có tới 10.00 gái bán dâm,',\n",
       " '20150212_0022_9129_1_tg_2_7.png': 'Trường Sơn.',\n",
       " '20140603_0003_BCCTC_tg_3_1.png': 'Sau mỗi mùa thi đại học, có bao \" sĩ tử \" buồn rầu khi biết mình trở thành \" tử',\n",
       " '20160505_0114_28472_3_tg_5_0.png': 'Bất cứ nhà xe nào, doanh nghiệp kinh doanh vận tải nào cũng có trên tay một tập giấy - loại giấy',\n",
       " '20160119_0076_25849_2_tg_0_0.png': 'Nhiều cuộc họp giữa đại diện HĐND TP.HCM và lãnh đạo UBND TP',\n",
       " '20150303_0036_9129_1_tg_3_1.png': 'được một xác. 40 km từ bãi Phước Thành ra đây phải đi suốt một ngày đêm, mãi',\n",
       " '20160510_0125_26554_2_tg_1_6.png': 'kiều về đầu tư, kinh doanh ở trong nước.',\n",
       " '20151209_0144_7398_2_tg_1_1.png': '\" Sự kỳ thị thật là khủng khiếp và đau lòng. Nó làm tôi đau đớn y như',\n",
       " '20150216_0009_9129_3_tg_4_0.png': 'Nhưng rồi những người đào vàng cũng sẽ vào. Khi đã đưa hết người nằm',\n",
       " '20160604_0194_25475_tg_0_0.png': 'TP.HCM : vay 500 tỉ đồng triển khai gấp các dự án cấp nước. UBND TP.HCM vừa đề',\n",
       " '20160518_0159_25475_tg_0_2.png': 'dự án cấp nước đang thực hiện gồm : hệ thống cấp nước sông Sài Gòn giai đoạn 1 và các',\n",
       " '20160513_0135_9415_2_tg_0_0.png': 'Vừa thấy bóng anh Nghĩa đi vào là mấy chị ở xóm ve chai ở P. 17, Gò',\n",
       " '20160421_0099_25432_2_tg_0_3.png': 'huyện cùng nhiều cán bộ địa phương bị kỷ luật cách chức. Trả lời phỏng vấn,',\n",
       " '20151127_0005_25600_2_tg_4_4.png': 'xác nhận vào công văn nhưng lại không kiểm tra việc sử dụng vốn, để',\n",
       " '20140920_0024_4784_1_tg_3_1.png': 'Giá nấu thuê 5 - 10 triệu đồng / nồi tùy ở thân sơ và cam kết chủ thợ.',\n",
       " '20160510_0124_25627_1_tg_1_5.png': 'khu rừng, nơi không có bóng dáng người dân, chỉ có ít người Indo đang làm việc tại đó.',\n",
       " '20160603_0190_9244_2_tg_1_5.png': 'Chi tiêm một mũi thuốc thông tiểu.',\n",
       " '20160514_0136_9244_1_tg_3_5.png': 'vòng xe cấp cứu. Buổi trưa 14 - 11 - 2003 khi tôi đang ngồi nói chuyện',\n",
       " '20160220_0143_7606_2_tg_4_0.png': 'Chúng tôi đặt vấn đề muốn mua ít thịt rừng về thành phố, nhờ chủ quán giúp',\n",
       " '20140603_0025_KQBDVN_tg_1_4.png': 'lợi, phát triển ngành biển.',\n",
       " '20150218_0038_9244_2_tg_1_3.png': 'nhân. Người bệnh là một bà cụ lớn tuổi, bị bí tiểu bụng căng lên như cái',\n",
       " '20140603_0017_KQBDVN_tg_2_1.png': 'Vùng biển và hải đảo nước ta có vị trí chiến lược hết sức to lớn, có ảnh',\n",
       " '20151215_0022_26558_3_tg_1_6.png': 'hướng mạnh về cơ sở.',\n",
       " '20160603_0185_25300_tg_1_3.png': '2010 và cho 100% dân số vào năm 2020 thì phải có ba yếu tố : tạo ra nhiều hơn',\n",
       " '20151209_0145_7276_1_tg_3_6.png': 'đàn chim bay về ngọn núi trước mặt tôi.',\n",
       " '20151224_0066_26749_1_tg_4_5.png': 'về việc ông Phương nhậu nhẹt, đi chung với các đối tượng',\n",
       " '20160512_0132_9129_2_tg_4_3.png': 'của những người đào vàng bất hạnh phần phật trước ngọn gió từ hướng rừng thổi tới',\n",
       " '20160722_0202_26749_1_tg_4_1.png': 'chưa xác định có tham gia vào vụ mua dâm. Nhậu nhẹt, rồi sau',\n",
       " '20150215_0031_9129_2_tg_1_3.png': 'gượng dậy được. Chỉ một phút sau tôi đã nhận ra cả trại bị cuốn',\n",
       " '20160526_0172_9129_1_tg_4_1.png': 'về thảm trạng : \" Thấy trời mưa lớn, trưa 13 - 11 chúng tôi cho anh em nghỉ việc,',\n",
       " '20160412_0088_9415_1_tg_3_1.png': 'đường Lê Lợi đã mừng rỡ vẫy : \" Có nè... \". Anh móc trong túi áo ra ba chứng',\n",
       " '20160510_0119_26558_1_tg_0_4.png': 'thêm nguyên nhân gây ra sự trì trệ trong phát triển kinh tế...',\n",
       " '20160523_0163_9244_1_tg_3_1.png': 'băng ca, lái xe chở thẳng đến bệnh viện. Sau khi hoàn thành thủ tục nhập viện là xong',\n",
       " '20150220_0001_9244_3_tg_2_1.png': 'khi bình phục, chị ấy viết thư cảm ơn y BS khoa cấp cứu. Trò',\n",
       " '20160524_0167_25464_1_tg_1_1.png': 'mất bao nhiêu đều có giá cả. Nay dự thảo nghị định nêu rất rõ anh nào \" tự đặt ra các thủ',\n",
       " '20140603_0006_BCCTC_tg_0_5.png': 'Vậy thì bạn hãy dành chút thời gian để lặng mình suy ngẫm.',\n",
       " '20151208_0146_7105_2_tg_2_4.png': 'trong ấp Tiên Long 1 tham gia như : Năm Kiếm, Chín Thái, Hai Sết,',\n",
       " '20151205_0058_25627_2_tg_3_2.png': 'Chúng tôi muốn làm việc kiếm tiền, kiếm sống và trả những khoản',\n",
       " '20160602_0182_25432_1_tg_4_0.png': 'Trong lúc nhiều công dân có đất tại khu dân cư mới Xuân Hải',\n",
       " '20140603_0040_KQBDVN_tg_0_1.png': 'Nước ta giáp với biển Đông ở hai phía Đông và Nam. Vùng biển Việt Nam là một phần biển',\n",
       " '20140603_0039_KQBDVN_tg_1_5.png': 'thuận lợi, phát triển ngành biển.',\n",
       " '20150326_0005_25475_tg_0_2.png': 'với lãi suất 7,5% / năm để triển khai gấp các dự án cấp nước',\n",
       " '20151126_0056_25600_1_tg_3_0.png': 'Công văn 327 có ghi đồng ý như đề nghị của Bộ KHĐT cho phép Công ty Tiếp thị vay vốn',\n",
       " '20140927_0033_5932_1_tg_0_3.png': 'Khi biển phía Bắc hết mùa nắng ấm, họ di chuyển vào biển Phan Thiết',\n",
       " '20140925_0043_5770_3_tg_3_1.png': 'dùng cả kim tẩm độc châm vào mình gà. Dính phải những \" độc chiêu \" này, nạn nhân',\n",
       " '20160113_0067_25288_tg_0_3.png': 'giá một số mặt hàng của công ty này bán tại VN với giá cao hơn',\n",
       " '20160113_0069_28472_3_tg_4_4.png': 'rất linh hoạt, trình giấy tại cửa trạm hoặc đưa cho anh CSGT đứng phía',\n",
       " '20140921_0020_4899_2_tg_5_0.png': 'Thành tích ấy được xem như một kỳ tích của thợ khoan hầm VN. Sau này, chính họ đã được Nhà',\n",
       " '20151224_0142_7606_2_tg_1_4.png': 'Tên của hàng chục loại thú rừng khác nhau từ có chân đến bò sát nằm rõ',\n",
       " '20160125_0080_25627_1_tg_1_7.png': 'làm việc tại đó.',\n",
       " '20151207_0061_25849_2_tg_3_7.png': 'chứa khi lượng xe cùng lúc dồn đến trạm.',\n",
       " '20160419_0096_25303_tg_0_4.png': 'Văn Sơn làm thuyền trưởng. Các nhân viên kiểm tra đã phát hiện',\n",
       " '20160527_0173_25432_1_tg_3_0.png': 'Một số người đã xin được giấy phép UBND xã Xuân Hải để đổ đất nâng mặt',\n",
       " '20160511_0127_9539_2_tg_1_0.png': 'Ông còn vận động để người bạn thân là Trần Văn Trọng đang sống ở quận Bình Thạnh,',\n",
       " '20151224_0141_7818_2_tg_3_4.png': 'giờ hiếm lắm, nhà chỉ còn mỗi một con cheo khoảng 1,8 kg... \". Hỏi mua',\n",
       " '20140603_0037_BCCTC_tg_0_2.png': 'chăng đó là kết quả hoàn hảo trong công việc, sự chính xác đến từng chi tiết? Hay đó',\n",
       " '20151207_0061_25849_2_tg_3_5.png': 'bị vướng giải tỏa một số hộ dân nên đường vào trạm bị uốn cong',\n",
       " '20160125_0080_25627_1_tg_1_5.png': 'ngày thứ nhất. Họ đưa chúng tôi đến khu vực công trường bên cạnh khu',\n",
       " '20151224_0142_7606_2_tg_1_6.png': '100 bàn nhậu, bình quân mỗi bàn nướng khoảng 1/2 kg thịt rừng thì con',\n",
       " '20140921_0020_4899_2_tg_5_2.png': 'đường bộ lớn nhất Đông Nam Á hiện tại) lại có tính phức tạp rất cao, địa chất không ổn định,',\n",
       " '20160412_0090_9415_1_tg_1_5.png': 'mắc gì mà nhanh chóng hưởng ứng : \" Tốt quá.',\n",
       " '20160113_0069_28472_3_tg_4_6.png': 'CSGT kiểm tra trong giấy có... gì?',\n",
       " '20160113_0067_25288_tg_0_1.png': 'Trẻ chiều tối 22 - 3, một lãnh đạo thanh tra Bộ Y tế cho biết : \"',\n",
       " '20140925_0043_5770_3_tg_3_3.png': 'ít kẻ bị khuynh gia bại sản và cũng có không ít người sống bám vào nó. Điều',\n",
       " '20140927_0033_5932_1_tg_0_1.png': 'biển cửa Sót cạn \" hàng \", họ rủ nhau sang lặn ở biển cửa Lò, Quỳnh Lưu (Nghệ',\n",
       " '20151209_0145_7276_2_tg_1_8.png': 'du lịch này.',\n",
       " '20140603_0037_BCCTC_tg_0_0.png': 'BẢN CHẤT CỦA THÀNH CÔNG',\n",
       " '20151224_0141_7818_2_tg_3_6.png': 'Đồng Nai...',\n",
       " '20160511_0127_9539_2_tg_1_2.png': 'rộng 7.089 m2. Tiếp đến, ông Ba Phước cho thuê xe cơ giới đến đào đắp, nâng cao',\n",
       " '20160527_0173_25432_1_tg_3_2.png': 'Còn UBND huyện Sông Cầu lại không trả lời dứt khoát, cứ hẹn lần hẹn lữa',\n",
       " '20160419_0096_25303_tg_0_6.png': 'gồm : tủ lạnh, máy giặt, loa thùng và ampli...',\n",
       " '20160504_0147_25627_3_tg_3_4.png': 'nhảy xe khách, đi bộ hàng chục kilômet, qua hàng rào cảnh sát các nước, may nhờ một',\n",
       " '20151205_0058_25627_2_tg_3_0.png': 'Điều đó sai sự thật vì mỗi người đến đây đã mất 25 - 28 triệu đồng /',\n",
       " '20140603_0006_BCCTC_tg_0_7.png': 'cách giản dị đến bất ngờ.',\n",
       " '20151208_0146_7105_2_tg_2_6.png': 'từ thiện dân lập \" gồm đủ ngành nghề thợ mộc, thợ hồ...',\n",
       " '20150220_0001_9244_3_tg_2_3.png': 'bức thư cảm ơn ấy thật sự là \" cấp cứu và hồi sức \" cho anh',\n",
       " '20160524_0167_25464_1_tg_1_3.png': 'chính mà theo qui định đã đủ điều kiện để thực hiện \", anh đó sẽ bị cảnh cáo hoặc hạ bậc lương...',\n",
       " '20160523_0163_9244_1_tg_3_3.png': 'phục vụ cả địa bàn TP.HCM. Họ được gọi là cấp cứu viên (CCV). Lăn theo những vòng',\n",
       " '20151126_0056_25600_1_tg_3_2.png': 'đại diện Viện Kiểm sát hỏi tiếp ông Ngọ. \" Là vốn tín dụng ưu đãi theo kế hoạch của',\n",
       " '20140603_0041_KQBDVN_tg_0_5.png': 'Biển có vùng nội thủy, lãnh hải, vùng đặc quyền kinh tế và thềm lục địa với diện',\n",
       " '20150326_0005_25475_tg_0_0.png': 'TP.HCM : vay 500 tỉ đồng triển khai gấp các dự án cấp nước. UBND',\n",
       " '20140603_0039_KQBDVN_tg_1_7.png': 'phát triển, tồn tại tốt.',\n",
       " '20140603_0040_KQBDVN_tg_0_3.png': 'Bờ biển dài 3.260 km, từ Quảng Ninh đến Kiên Giang. Như vậy cứ 100 km2 thì có 1 km bờ biển',\n",
       " '20160602_0182_25432_1_tg_4_2.png': 'được giấy thông báo của Phòng Tài chính - kế hoạch huyện Sông Cầu về',\n",
       " '20160426_0105_25480_tg_1_5.png': 'tra, chưa có kết luận cuối cùng.',\n",
       " '20140603_0043_BCCTC_tg_1_4.png': 'lại thành công khi tặng mẹ \" đoá hồng \" của tình yêu. Một món quà ý nghĩa hơn cả',\n",
       " '20151209_0145_7276_1_tg_3_4.png': 'ngàn bạc \". Trên nền trời xám xịt, tôi bắt đầu nghe tiếng chim kêu',\n",
       " '20160603_0185_25300_tg_1_1.png': 'thường trú của Chương trình Phát triển Liên Hiệp Quốc (UNDP) tại Hà Nội, khẳng định',\n",
       " '20151215_0022_26558_3_tg_1_4.png': 'cơ sở Đảng. Tiếp tục đổi mới và nâng cao công tác cán bộ. Tiếp tục',\n",
       " '20140603_0017_KQBDVN_tg_2_3.png': 'chủ nghĩa xã hội, có liên quan trực tiếp đến sự phồn vinh của đất nước,',\n",
       " '20160115_0072_26558_3_tg_5_1.png': 'văn hóa; khắc phục những sơ hở, tiêu cực trong quản lý và hoạt động',\n",
       " '20160411_0083_9129_2_tg_0_5.png': 'tivi ở trại bên về, một số vừa sửa lại mái trại bị dột vì mưa',\n",
       " '20150218_0038_9244_2_tg_1_1.png': 'dừng, các anh chị em CCV mỗi người một việc. BS Hà chuẩn bị y cụ, ĐDV Kim Chi',\n",
       " '20140603_0025_KQBDVN_tg_1_6.png': 'phát triển, tồn tại tốt.',\n",
       " '20160220_0143_7606_2_tg_4_2.png': 'thị trấn, người chủ quán có hàng ria mép trở về cho biết có cái đùi heo rừng',\n",
       " '20160514_0136_9244_1_tg_3_7.png': 'Tô Hiến Thành đang gọi.',\n",
       " '20160412_0088_9415_1_tg_3_3.png': 'thỉnh thoảng cũng thấy. Gặp giấy của người quen thì trả, chẳng biết của ai',\n",
       " '20160526_0172_9129_1_tg_4_3.png': 'thì thảm nạn xảy ra. Dòng lũ từ trên núi ào xuống cuốn đất đá theo, đẩy cả',\n",
       " '20150215_0031_9129_2_tg_1_1.png': 'vùng dậy. Lũ ống xuất hiện, kèm theo lở núi đổ ào xuống trại. Tôi và',\n",
       " '20160722_0202_26749_1_tg_4_3.png': 'khi đến chỗ đó ông Phương chưa vào phòng, lúc công an lập',\n",
       " '20160512_0132_9129_2_tg_4_1.png': 'đội trưởng Võ Văn Chiến ở tuổi 47, bảo vệ Hoàng Văn Định ở tuổi 35, số còn lại đều',\n",
       " '20160513_0135_9415_2_tg_0_2.png': 'lựa đây \". Anh Nghĩa xắn tay áo lên cùng với mấy chị xáo tung mớ vỏ hộp, giấy vụn',\n",
       " '20160518_0159_25475_tg_0_0.png': 'TP.HCM : vay 500 tỉ đồng triển khai gấp các dự án cấp nước. UBND TP.HCM vừa đề',\n",
       " '20160518_0151_25432_1_tg_2_5.png': 'khoảng 2 km. Sau khi hoàn tất thủ tục, thời gian qua một số chủ sở hữu',\n",
       " '20151209_0144_7398_2_tg_1_3.png': 'xét nghiệm HIV cho kết quả dương tính. Chúng tôi chưa kịp làm được',\n",
       " '20160604_0194_25475_tg_0_2.png': 'khai gấp các dự án cấp nước đang thực hiện gồm : hệ thống cấp nước sông Sài',\n",
       " '20150216_0009_9129_3_tg_4_2.png': 'trẻ của họ, nghĩ đến những bất trắc vốn chứa đầy nơi các hầm đào',\n",
       " '20150303_0036_9129_1_tg_3_3.png': 'Đêm kinh hoàng. Ở văn phòng Công ty Trường Sơn, cách bãi xác chừng 150 m, cũng',\n",
       " '20160119_0076_25849_2_tg_0_2.png': 'khi dự án còn dở dang, manh mún? Thậm chí, một phó chủ tịch',\n",
       " '20160510_0125_26554_2_tg_1_4.png': 'dụng hợp lý, không nhất thiết việc gì cũng phải báo cáo lên trên nữa. Thứ',\n",
       " '20160505_0114_28472_3_tg_5_2.png': 'xếp, chi phí khác, còn một loại chi phí cho CSGT được viết thành hàng rất rõ theo từng',\n",
       " '20140603_0003_BCCTC_tg_3_3.png': 'phẩy năm? Đó thật ra không phải là thất bại, chỉ là khi thành công - bị - trì - hoãn mà',\n",
       " '20150212_0022_9129_1_tg_2_5.png': 'chiêu và sự thinh lặng đầy buồn thảm của hàng chục công nhân đứng',\n",
       " '20160419_0095_25302_tg_1_0.png': 'Gái bán dâm chủ yếu trong lứa tuổi 18 - 30, phần lớn là ít học, nghèo khó, còn lại',\n",
       " '20160513_0133_9244_1_tg_1_5.png': 'ấy bình phục là tôt rồi \".',\n",
       " '20160510_0148_25472_tg_4_4.png': 'xét nội dung giải trình đối với một số khoản chi mà Lã Thị Kim Oanh cho rằng tòa',\n",
       " '20151127_0005_25600_2_tg_4_6.png': 'không? \", chủ tọa Nguyễn Hùng Cường hỏi ông Luân.',\n",
       " '20160421_0099_25432_2_tg_0_1.png': 'định đây là việc làm sai trái của chính quyền huyện Sông Cầu, vụ việc này',\n",
       " '20140927_0033_5932_1_tg_2_3.png': 'tai có hơi lãng đôi chút nhưng ông Đỉnh vẫn chưa quên chuyện lặn. Ông nói',\n",
       " '20140925_0043_5770_3_tg_1_1.png': 'nữa, nếu đá cũng chỉ vài hồ là bỏ chạy sớm. Phải xem phong độ, hôm ra trận',\n",
       " '20140921_0020_4899_2_tg_7_0.png': 'Khi bài báo này đến tay bạn đọc cũng là lúc những mũi khoan bắc và nam hầm đường bộ Hải Vân gặp',\n",
       " '20160115_0071_26749_2_tg_5_6.png': 'mua dâm bị dư luận lên tiếng?',\n",
       " '20160125_0080_25627_1_tg_3_7.png': 'suối đi vào rừng mò cua bắt cá, kiếm rau, xin đu đủ... ăn',\n",
       " '20151224_0142_7606_2_tg_3_4.png': 'thọc huyết, làm sạch lông cất trong tủ lạnh, ở đây còn nuôi sống các con',\n",
       " '20160113_0068_25272_tg_0_3.png': 'giải trí mở cửa phục vụ theo yêu cầu của du khách. Tại các điểm du lịch này',\n",
       " '20160527_0173_25432_1_tg_1_0.png': 'Họ lập tức thông báo với người thân và bạn bè đến nộp đơn xin mua đất xây',\n",
       " '20160511_0127_9539_2_tg_3_0.png': 'Trong khu nghĩa địa có căn nhà mát để người đến thăm mộ, đắp mộ có chỗ',\n",
       " '20151224_0141_7818_2_tg_1_4.png': 'và gặp vợ chồng người em của ông ta là Tám Nhiều đang lui cui trong',\n",
       " '20140603_0037_BCCTC_tg_2_2.png': 'bao nỗ lực khổ luyện, cậu bé trở thành cầu thủ dự bị trong một đội bóng nhỏ,',\n",
       " '20160412_0092_9539_2_tg_5_3.png': 'đưa vào đây an táng. Không còn cảnh phải chôn vùi dưới nước hay chở lên',\n",
       " '20160510_0119_26558_1_tg_2_4.png': 'được \". Hạ tầng cơ sở là yếu tố quan trọng hấp dẫn nhà đầu tư.',\n",
       " '20160523_0163_9244_1_tg_1_1.png': 'cứu. Buổi sáng 10 - 11 - 2003 tôi ngồi ở phòng cấp cứu 115 của Bệnh viện Trưng Vương. Trên',\n",
       " '20160524_0167_25464_1_tg_3_1.png': 'phát biểu thì lại bảo phải đẩy mạnh cho huyện vì chỗ chúng tôi mới nhiều việc \" - Thứ trưởng Võ nói ngay.',\n",
       " '20150220_0001_9244_3_tg_0_1.png': 'chịu được... Những ca cấp cứu tai nạn giao thông tanh nồng mùi',\n",
       " '20151208_0146_7105_2_tg_0_4.png': 'làm nhà tình thương. Có lắm cây dừa ở sâu cách xa sông rạch, sau',\n",
       " '20140603_0006_BCCTC_tg_2_5.png': 'lực và quyết tâm, đã chiến thắng hoàn cảnh để theo đuổi ước mơ từ',\n",
       " '20151205_0058_25627_2_tg_1_2.png': 'khát, ngủ tạm nơi vỉa hè. Không có giấy thông hành, chúng tôi mất cả quyền tự',\n",
       " '20160603_0192_25272_tg_0_0.png': 'Sẽ tổ chức phố đi bộ tại Hội An. Chủ tịch UBND tỉnh Quảng Nam',\n",
       " '20160504_0147_25627_3_tg_1_6.png': 'Anh (phó giám đốc công ty) cùng người phụ trách mảng lao động trực tiếp',\n",
       " '20151016_0044_9129_1_tg_4_3.png': 'Khoảng 11 g 30 đêm 13, lúc anh em đang ngủ thì thảm nạn xảy ra.',\n",
       " '20140603_0040_KQBDVN_tg_2_1.png': 'Vùng biển và hải đảo nước ta có vị trí chiến lược hết sức to lớn, có ảnh hưởng trực tiếp đến sự',\n",
       " '20151126_0056_25600_1_tg_1_0.png': 'Muốn biết đúng hay sai, tòa phải nhờ... hội đồng thẩm định Hội đồng xét xử',\n",
       " '20160514_0136_9244_1_tg_1_5.png': 'gì đâu! Nhiệm vụ của chúng tôi mà. Anh ấy bình phục là tôt',\n",
       " '20140603_0017_KQBDVN_tg_0_1.png': 'Nước ta giáp với biển Đông ở hai phía Đông và Nam. Vùng biển Việt Nam là',\n",
       " '20160428_0109_25627_3_tg_4_0.png': 'Đôi mắt thâm quầng và nước da xanh mét, Thông nói : \" Dẫu sao chúng tôi',\n",
       " '20151215_0022_26558_3_tg_3_6.png': 'tái cấu trúc các ngành công nghiệp.',\n",
       " '20140603_0043_BCCTC_tg_3_6.png': 'là bản chất của thành công.',\n",
       " '20151224_0066_26749_1_tg_6_5.png': 'tăm thì mình không theo dõi. Để khách quan hơn, các vấn đề',\n",
       " '20160722_0202_26749_1_tg_6_1.png': 'việc đảng viên đi vào những chỗ không lành mạnh. Những dư',\n",
       " '20150215_0031_9129_2_tg_3_3.png': 'Niên ngậm ngùi nói. Bác sĩ pháp y Nguyễn Liêm - người phụ trách',\n",
       " '20160412_0088_9415_1_tg_1_1.png': 'với một anh lái xe ôm bất kỳ. \" Tôi là nhân viên Công ty báo mất Khai Minh',\n",
       " '20160514_0137_25272_tg_0_0.png': 'Sẽ tổ chức phố đi bộ tại Hội An. Chủ tịch UBND tỉnh Quảng Nam Nguyễn Xuân Phúc',\n",
       " '20140603_0003_BCCTC_tg_1_1.png': 'thích nhân ngày 8 - 3. Món canh có thể hơi mặn, món cá sốt đáng lẽ phải có màu',\n",
       " '20160119_0076_25849_2_tg_2_0.png': 'Vì vậy Cienco 5 đã đề nghị đặt trạm thu phí tạm ngay chân cầu Bình Triệu 2',\n",
       " '20150303_0036_9129_1_tg_1_1.png': 'tôi dừng lại hỏi về tình hình bãi vàng. \" Nhà vĩnh biệt \". Bên chiếc lều bạt mới',\n",
       " '20151209_0144_7398_2_tg_3_1.png': 'dám chơi với con anh, lúc nào bên tai chúng cũng văng vẳng câu chuyện \" nhà',\n",
       " '20160513_0135_9415_2_tg_2_0.png': '\" Nếu nhặt được, chúng tôi sẽ cất giữ \", ai cũng hồ hởi hứa như vậy. Tìm và trả.',\n",
       " '20151109_0047_25344_tg_1_5.png': 'thôn \". Các trường hợp nghiên cứu này sẽ được trình bày và thảo luận',\n",
       " '20160421_0099_25432_2_tg_2_3.png': 'cho phép, chắc chắn là có cái gì bên trong nữa... Cũng có ý kiến cho rằng',\n",
       " '20151127_0005_25600_2_tg_6_4.png': 'như trong việc thiếu kiểm tra, theo dõi tình hình Công ty Tiếp thị.',\n",
       " '20160426_0104_25480_tg_4_3.png': 'đó làm chứng cứ. Theo cơ quan điều tra, vụ việc sẽ không bị \" chìm xuồng \"',\n",
       " '20140920_0024_4784_1_tg_1_1.png': 'theo nét thước chia đôi khối cao. Rồi như lên đồng, cả Tú liên tục cắt ngang dọc',\n",
       " '20160602_0181_25439_1_tg_5_6.png': 'bạn bè đi kèm sự chua chát, ngậm ngùi.',\n",
       " '20160513_0133_9244_1_tg_3_7.png': 'đường Tô Hiến Thành đang gọi.',\n",
       " '20160510_0124_25627_1_tg_3_5.png': 'chúng tôi phải lội suối đi vào rừng mò cua bắt cá, kiếm rau, xin đu đủ... ăn cho khỏi',\n",
       " '20140603_0023_KQBDVN_tg_0_0.png': 'Khái quát về biển đảo Việt Nam',\n",
       " '20160604_0193_25627_3_tg_0_3.png': 'đến đưa đi bệnh viện. 12 người trong tù ra, số còn lại thất nghiệp không',\n",
       " '20140603_0033_BCCTC_tg_0_4.png': 'sang, được mọi người nể phục? Vậy thì bạn hãy dành chút thời gian để lặng mình',\n",
       " '20160525_0170_25463_tg_1_2.png': 'và Hoàng Quý Trung, ở cùng xã Ia Me, Chư Prông, Gia Lai, vào khu vực',\n",
       " '20160511_0127_9539_2_tg_5_6.png': 'xuyên góp công góp của vào các chương trình của địa phương như làm cầu,',\n",
       " '20140603_0023_BCCTC_tg_0_2.png': 'Phải chăng đó là kết quả hoàn hảo trong công việc, sự chính xác đến từng chi tiết?',\n",
       " '20151224_0141_7818_2_tg_7_2.png': 'nhậu đến vựa thú rừng.',\n",
       " '20160412_0087_9244_3_tg_1_6.png': 'cấp cứu.',\n",
       " '20140924_0007_5770_2_tg_2_1.png': 'chơi bạc gà của Tuấn \" cụt \" chưa ăn thua gì so với Hậu \" trọc \". Dân',\n",
       " '20140927_0033_5932_1_tg_4_5.png': 'mắt tây.',\n",
       " '20160113_0069_28472_3_tg_0_2.png': 'cộng thêm một chiếc xe cơ giới). Ra tới Tazon, Bình Thuận, anh mới than : \" Tôi đi chỉ từ TP.HCM',\n",
       " '20151113_0051_25463_tg_2_0.png': 'Lúc này Khoán có mâu thuẫn, cãi vã với một số công nhân làm việc ở thủy điện Ia Me',\n",
       " '20150504_0034_25300_tg_1_4.png': 'thì phải có ba yếu tố : tạo ra nhiều hơn nữa các nguồn đầu tư trong và',\n",
       " '20140603_0042_BCCTC_tg_2_4.png': 'khi cậu bé năm xưa, với bao nghị lực và quyết tâm, đã chiến thắng hoàn cảnh để theo đuổi',\n",
       " '20160512_0131_25311_tg_1_0.png': 'Tuy nhiên theo các lao động này, bảy tháng qua họ chỉ có việc làm ít ngày,',\n",
       " '20160115_0071_26749_2_tg_3_0.png': 'Nhưng đến nay đã ba năm kể từ thời điểm đường dây mua bán dâm bị phanh',\n",
       " '20151207_0061_25849_2_tg_7_1.png': 'có tâm lý chạy thẳng vào làn kiểm soát đầu tiên hoặc thứ hai từ bên trái qua,',\n",
       " '20160604_0196_9244_2_tg_0_2.png': 'Nghĩa lái xe bất ngờ thắng gấp vì từ ngã ba một chiếc Spacy phóng ngang',\n",
       " '20160602_0182_25432_1_tg_0_6.png': 'cư mới tại xã Xuân Hải, huyện Sông Cầu, tỉnh Phú Yên.',\n",
       " '20160530_0178_9244_2_tg_1_5.png': 'ĐDV Kim Chi tiêm một mũi thuốc thông tiểu.',\n",
       " '20140603_0015_KQBDVN_tg_1_2.png': 'Có vị trí chiến lược quan trọng : nối liền Thái Bình Dương và Ấn Độ Dương, châu Á với châu Âu,',\n",
       " '20160604_0198_25300_tg_0_6.png': 'tưới vào cuối vụ đông xuân.',\n",
       " '20140603_0026_KQBDVN_tg_2_1.png': 'Vùng biển và hải đảo nước ta có vị trí chiến lược hết sức to lớn,',\n",
       " '20151205_0059_25627_3_tg_2_2.png': 'sự hợp tác, tin cậy..., mệt mỏi từ hai phía \". Không tiền bạc, sức khỏe vơi đi cùng',\n",
       " '20160412_0092_9539_2_tg_3_5.png': 'đã sơn màu nâu và nhiều bia đá chưa khắc tên. Chú bảo : - Trại hòm',\n",
       " '20160510_0119_26558_1_tg_4_2.png': 'mừng : Vài ngày nữa TP sẽ được cung cấp một lượng nước sạch bằng nửa lượng nước hiện có, và',\n",
       " '20151208_0146_7105_2_tg_6_2.png': 'giúp nhà tình thương còn đóng giường tặng những gia đình nghèo.',\n",
       " '20151016_0044_9129_1_tg_2_5.png': 'thinh lặng đầy buồn thảm của hàng chục công nhân đứng tản mát',\n",
       " '20160722_0202_26749_1_tg_0_7.png': 'người chưa thành niên nhưng không bị khởi tố, truy tố.',\n",
       " '20140603_0026_BCCTC_tg_3_6.png': 'nỗ lực hết sức để khẳng định mình. Đó là ý nghĩa vẹn nguyên',\n",
       " '20140920_0012_49_2_tg_1_3.png': 'có ý nghĩa biết bao nhiêu. Ta càng yêu quí cuộc sống đến bao',\n",
       " '20140603_0018_BCCTC_tg_3_6.png': 'của thành công.',\n",
       " '20151109_0048_25432_1_tg_2_1.png': 'theo phương thức chuyển giao quyền sử dụng đất xây dựng nhà ở. Thực chất là đổi',\n",
       " '20160511_0128_9244_1_tg_3_4.png': 'cấp cứu viên (CCV). Lăn theo những vòng xe cấp cứu. Buổi trưa 14 - 11 - 2003',\n",
       " '20160524_0166_9415_2_tg_1_0.png': 'Đi tìm giấy tờ rơi, những trạm trung chuyển rác và các điểm thu mua phế liệu là \" mối',\n",
       " '20160518_0152_25475_tg_0_3.png': 'giai đoạn 1 và các tiểu dự án mạng cấp nước cấp 1, 2, 3. Hạn chót hoàn trả vốn',\n",
       " '20150323_0043_25288_tg_0_5.png': 'nghị Bộ Y tế sắp xếp lại hệ thống các nhà phân phối, nhất là khâu bán',\n",
       " '20160411_0083_9129_2_tg_4_1.png': 'người, chỉ trừ đội trưởng Võ Văn Chiến ở tuổi 47, bảo vệ Hoàng',\n",
       " '20160115_0072_26558_3_tg_1_5.png': 'Đảng theo phương châm hướng mạnh về cơ sở.',\n",
       " '20160426_0107_25627_2_tg_0_3.png': 'cầu cứu các nơi nhưng đều tuyệt vọng. Kuala Lumpur ngày thứ 39. Cuộc sống thật',\n",
       " '20160421_0101_25435_tg_1_0.png': 'Trong năm nay, chi hội sẽ thực hiện một số kế hoạch làm từ thiện như : Vì nụ cười trẻ',\n",
       " '20160428_0109_25627_3_tg_2_6.png': 'Nghi Xuân, Hà Tĩnh, ngày 21 - 3 - 2004 đã về đến TP.HCM sau cuộc hành',\n",
       " '20151215_0022_26558_3_tg_5_0.png': 'Nâng cao năng lực quản lý nhà nước trên các lĩnh vực kinh doanh',\n",
       " '20151224_0066_26749_1_tg_0_3.png': 'giới mại dâm, mua dâm người chưa thành niên có qui mô',\n",
       " '20160525_0168_25283_1_tg_1_6.png': 'con về quê; Trương Xuân Đào dạt về tận Định Quán (Đồng Nai) làm',\n",
       " '20151127_0005_25600_2_tg_0_2.png': 'kinh doanh của DN, đặc biệt trong bối cảnh thực hiện \" phi chủ quản \" đối',\n",
       " '20160426_0104_25480_tg_2_5.png': 'nhân sai phạm, cơ quan điều tra buộc phải chứng minh bằng chứng cứ, tức',\n",
       " '20160510_0121_9129_1_tg_0_2.png': 'nhịp mọi ngày, \" phố vàng \" - cái tên được mọi người quen gọi cho Khâm Đức - hôm nay',\n",
       " '20160510_0148_25472_tg_0_0.png': 'Lã Thị Kim Oanh : NH khẳng định \" Cho vay vì có bảo lãnh \". Hội đồng xét xử phúc thẩm Lã Thị Kim Oanh',\n",
       " '20160602_0181_25439_1_tg_3_0.png': 'Lại nữa, khi thanh tra đã xác định sai phạm sao không xử lý mà để \" ngâm \" lâu ngày',\n",
       " '20140603_0039_BCCTC_tg_3_7.png': 'và cũng là bản chất của thành công.',\n",
       " '20140603_0017_BCCTC_tg_3_1.png': 'Sau mỗi mùa thi đại học, có bao \" sĩ tử \" buồn rầu khi biết mình trở',\n",
       " '20160414_0094_25283_1_tg_3_2.png': 'vào đứa con gái của mình, anh Đại nói : \" Vợ chồng tôi khổ ít,',\n",
       " '20160510_0125_26554_2_tg_5_0.png': 'Ngoài ra, nếu bà con có nhu cầu thờ cúng, xây chùa chiền ở nước ta, nếu',\n",
       " '20160119_0076_25849_2_tg_4_6.png': 'xe nộp phí sẽ khó thông thoát nhanh vì muốn qua trạm là xe',\n",
       " '20150216_0009_9129_3_tg_0_6.png': 'hỗ trợ mỗi nạn nhân thiệt mạng 1 triệu đồng và 500.000 ngàn',\n",
       " '20160504_0112_25849_2_tg_8_4.png': 'sẽ xảy ra ngay tại đây - chỗ đường xe lửa này chứ chưa nói',\n",
       " '20160506_0115_26558_1_tg_1_3.png': 'Sở Tài chính làm không nổi. Tôi nghĩ giải quyết được hết. Không ai muốn chậm, nhưng',\n",
       " '20140924_0007_5770_2_tg_0_3.png': 'bại. Sới tạm nghỉ cho hai đấu thủ hồi sức, dân đá gà tản ra ngồi uống nước. Tuấn',\n",
       " '20150311_0008_9539_1_tg_3_8.png': 'đè xuống và đổ nhanh đất lấp lại.',\n",
       " '20160412_0087_9244_3_tg_3_4.png': '. Lường trước những tình huống như thế nên cả khoa đều ý thức được thái độ và tinh',\n",
       " '20151224_0141_7818_2_tg_5_0.png': 'Chi cục kiểm lâm đã bố trí chốt chặn không cho người vào rừng săn bắn',\n",
       " '20140603_0023_BCCTC_tg_2_0.png': 'Thành công còn là hình ảnh một cậu bé bị dị tật ở chân, không bao giờ đi lại',\n",
       " '20160518_0155_25344_tg_0_6.png': 'nghèo ở qui mô lớn trong nhiều khung cảnh kinh tế, xã hội và định chế.',\n",
       " '20160604_0193_25627_3_tg_2_1.png': 'kiểm soát được một phần sự việc. Sự việc liên tục xảy ra khiến hai bên',\n",
       " '20140603_0023_KQBDVN_tg_2_2.png': 'ảnh hưởng trực tiếp đến sự nghiệp bảo vệ nền độc lập dân tộc và',\n",
       " '20160604_0196_9244_2_tg_2_0.png': 'Thấy ổn, cùng với người nhà, CCV chuyển bệnh nhân ra băng ca, đưa lên xe.',\n",
       " '20151207_0061_25849_2_tg_5_3.png': 'nhiệm về trạm thu phí tạm bợ và không bảo đảm an toàn giao thông ở ngay cửa',\n",
       " '20160115_0071_26749_2_tg_1_2.png': 'quan cảnh sát điều tra Công an Bình Dương cũng cho biết đã thống nhất với VKS',\n",
       " '20140921_0020_4899_2_tg_3_4.png': 'ca là một bánh chưng, bánh mì, tô mì tôm trước khi về nhà tự túc mỗi bữa cơm.',\n",
       " '20140603_0042_BCCTC_tg_0_6.png': 'bất ngờ',\n",
       " '20151113_0051_25463_tg_0_2.png': 'cưa tay, gây thương tích phải vào Bệnh viện tỉnh Gia Lai để cấp cứu vào chiều',\n",
       " '20160113_0069_28472_3_tg_2_0.png': 'Tuy không nói chuyện được với PV sau rất nhiều lần gọi, nhưng các cuộc gọi từ số máy',\n",
       " '20160518_0158_25288_tg_0_7.png': 'khâu cung ứng, sử dụng thuốc tại cơ sở khám chữa bệnh, trách nhiệm của bác sĩ',\n",
       " '20151126_0056_25600_1_tg_5_4.png': 'tranh thủ \" xin HĐXX cho \" phát biểu vài lời \", cho hay ông về bộ tháng 10 - 1997, khi',\n",
       " '20140603_0026_KQBDVN_tg_0_3.png': 'Bờ biển dài 3.260 km, từ Quảng Ninh đến Kiên Giang. Như vậy cứ 100',\n",
       " '20160602_0182_25432_1_tg_2_4.png': 'Sông Cầu thực hiện. Sơ đồ qui hoạch được chính quyền sở tại',\n",
       " '20160519_0161_9129_2_tg_1_5.png': 'một đầm lầy với khoảng 10.000 khối đất đá, không kể ngổn ngang',\n",
       " '20151208_0146_7105_2_tg_4_0.png': 'Nghe ở đâu có người nghèo cần giúp làm nhà, công trình công cộng thiếu',\n",
       " '20150220_0001_9244_3_tg_4_5.png': 'quên của họ...',\n",
       " '20151205_0059_25627_3_tg_0_0.png': '1 - 12 - 2003, chỉ còn ít lâu là Tết Nguyên đán, công ty chuộc ra, đưa trở lại công trường,',\n",
       " '20160524_0166_9415_2_tg_3_2.png': 'tính phí và chi trả thù lao cho người nhặt... Hôm tôi đến, có một chị được mời đến',\n",
       " '20150326_0043_25435_tg_0_2.png': 'nhân nghèo Thiện Nhân vào sáng 21 - 3, tại khách sạn Majestic,',\n",
       " '20160526_0172_9129_1_tg_2_5.png': 'chục công nhân đứng tản mát quanh \" nhà vĩnh biệt \" nằm âm u bên ngút',\n",
       " '20151109_0048_25432_1_tg_0_3.png': 'con đường Qui Nhơn - Sông Cầu vừa bắt đầu manh nha hình thành, nhiều người',\n",
       " '20140603_0018_BCCTC_tg_1_4.png': 'thành công khi tặng mẹ \" đoá hồng \" của tình yêu. Một món quà ý nghĩa hơn cả',\n",
       " '20140920_0012_49_2_tg_3_1.png': 'đèn đầy muội đen. A! OV.10 này. A! L.19 này, con này là',\n",
       " '20140603_0026_BCCTC_tg_1_4.png': 'thể thành công trên chiến trường \" bếp núc \", nhưng lại thành công khi',\n",
       " '20160722_0202_26749_1_tg_2_5.png': 'cho thấy bốn đối tượng có hành vi đi mua dâm bị bắt',\n",
       " '20160429_0110_25627_1_tg_1_5.png': 'bên cạnh khu rừng, nơi không có bóng dáng người dân, chỉ có ít người Indo đang',\n",
       " '20151224_0066_26749_1_tg_2_1.png': 'ngày 8 - 12 - 2001, bị cáo Lê Minh Quang và Lê thị Thắm chở bốn',\n",
       " '20151209_0145_7276_1_tg_5_2.png': 'cheo lưới xuống rồi thoăn thoắt gỡ từng con chim',\n",
       " '20140603_0042_KQBDVN_tg_1_0.png': 'Trong đó có 2 quần đảo Hoàng Sa, Trường Sa và 2.577 đảo lớn, nhỏ, gần và xa bờ, hợp thành',\n",
       " '20160428_0109_25627_3_tg_0_4.png': 'thất nghiệp không có tiền ăn, phải tự cứu nhau. Chủ công trường không nhận lại vì',\n",
       " '20160426_0107_25627_2_tg_2_1.png': 'diện công ty đến tách chúng tôi làm ba nhóm mang về khách sạn, bốn người',\n",
       " '20160220_0143_7606_2_tg_2_4.png': 'bé nhỏ nằm lọt thỏm giữa núi rừng. Các bác tài xe ôm cho biết thị trấn',\n",
       " '20140603_0043_KQBDVN_tg_1_6.png': 'tại tốt.',\n",
       " '20160525_0171_25288_tg_0_0.png': 'Bán thuốc giá cao, Công ty Sanofi phải giải trình. Trao đổi với Tuổi',\n",
       " '20160602_0181_25439_1_tg_1_2.png': 'Qua báo chí, bản thân tôi đã được biết về việc tố cáo những sai phạm của',\n",
       " '20160510_0148_25472_tg_2_2.png': 'cá nhân khác. Bị cáo Lã Thị Kim Oanh khẳng định những khoản vay của NH đều đi',\n",
       " '20160510_0121_9129_1_tg_2_0.png': 'Gần hai ngày đêm rồi chứ ít đâu... \" - một thợ liệm khác nói khi anh đang chèn trà khô',\n",
       " '20151127_0005_25600_2_tg_2_0.png': 'Việc ký xác nhận này, theo ông Luân, diễn ra \" sau khi vụ trưởng Vụ Tài chính',\n",
       " '20160525_0168_25283_1_tg_3_4.png': 'ngờ vực của bạn bè \". Và cũng chính vì nỗi đau này, anh đã quyết',\n",
       " '20160506_0115_26558_1_tg_3_1.png': 'trình công tác quý 2 một số việc liên quan đến ngành giao thông : mở một cảng ở',\n",
       " '20160518_0151_25432_1_tg_4_3.png': 'có được cộng với lãi suất của ngân hàng theo thời điểm nộp tiền. Lý do được',\n",
       " '20150216_0009_9129_3_tg_2_4.png': 'cố nói lên nỗi đau của mình với bạn bè xấu số, nhất là với Luyến :',\n",
       " '20160119_0076_25849_2_tg_6_4.png': 'làn lưu thông ôtô và một làn lưu thông xe máy, hầu hết tài xế đều giảm',\n",
       " '20160505_0114_28472_3_tg_3_4.png': 'với bộ dạng rất thảnh thơi, trong lúc đó thì các tài xế, phụ xế tất bật chạy đến trình \" giấy \".',\n",
       " '20150212_0022_9129_1_tg_4_3.png': 'ty. Khoảng 11 g 30 đêm 13, lúc anh em đang ngủ thì thảm nạn xảy',\n",
       " '20160414_0094_25283_1_tg_1_0.png': 'Nhiều gia đình trong số họ đã dắt díu nhau đi đâu, chính anh Đại bây',\n",
       " '20140603_0017_BCCTC_tg_1_3.png': 'mâm cơm, mẹ vẫn cười. Bởi vì hai bố con không thể thành công trên',\n",
       " '20140603_0039_BCCTC_tg_1_5.png': 'tình yêu. Một món quà ý nghĩa hơn cả những món quà quý giá,',\n",
       " '20160119_0076_25849_2_tg_6_5.png': 'tốc độ đột ngột vì khúc cua khá gắt.',\n",
       " '20150216_0009_9129_3_tg_2_5.png': '\" Nó không cha, 18 tuổi đã cố cùng mẹ làm được mái nhà hai gian.',\n",
       " '20160518_0151_25432_1_tg_4_2.png': 'của Phòng Tài chính - kế hoạch huyện Sông Cầu về việc trả lại tiền sử dụng đất,',\n",
       " '20160506_0115_26558_1_tg_3_0.png': 'Ông Hà Văn Dũng, Giám đốc Sở Giao thông công chánh, đề nghị đưa vào chương',\n",
       " '20160113_0070_28472_1_tg_4_8.png': 'thông 20).',\n",
       " '20140603_0039_BCCTC_tg_1_4.png': '\" chiến trường \" bếp núc, nhưng lại thành công khi tặng mẹ đoá hồng',\n",
       " '20140603_0017_BCCTC_tg_1_2.png': 'lẽ phải có màu đỏ sậm thì lại ngả sang màu... đen cháy. Nhưng nhìn',\n",
       " '20160414_0094_25283_1_tg_1_1.png': 'giờ cũng không rõ. Chỉ còn vợ chồng anh cùng bốn người khác trong nhóm công',\n",
       " '20150212_0022_9129_1_tg_4_2.png': 'chúng tôi cho anh em nghỉ việc, cho một số rút ra cơ quan công',\n",
       " '20160510_0148_25472_tg_2_3.png': 'kèm với những dự án đầu tư hoặc kinh doanh cụ thể. Tuy nhiên, khi HĐXX hỏi kỹ về',\n",
       " '20160602_0181_25439_1_tg_1_3.png': 'công trình đường liên cảng A5 mấy năm trước đây, nhưng nay mới biết',\n",
       " '20160525_0171_25288_tg_0_1.png': 'Trẻ chiều tối 22 - 3, một lãnh đạo thanh tra Bộ Y tế cho biết :',\n",
       " '20160525_0168_25283_1_tg_3_5.png': 'định đi kiện báo Pháp Luật TP.HCM để đòi lại danh dự cho mình.',\n",
       " '20151127_0005_25600_2_tg_2_1.png': 'kế toán Phan Văn Quán đã xác nhận \". HĐXX thắc mắc : \" Bị cáo nói',\n",
       " '20160510_0121_9129_1_tg_2_1.png': 'vào quan tài. Không có khói nhang, cũng không có một tiếng khóc bên những áo quan giữa cảnh',\n",
       " '20160426_0107_25627_2_tg_2_0.png': 'Nhưng chúng tôi không còn sự lựa chọn. Được ban quản lý can thiệp, đại',\n",
       " '20160428_0109_25627_3_tg_0_5.png': 'hết việc.',\n",
       " '20140603_0042_KQBDVN_tg_1_1.png': 'phòng tuyến bảo vệ, kiểm soát và làm chủ vùng biển.',\n",
       " '20151209_0145_7276_1_tg_5_3.png': 'bỏ vào bao.',\n",
       " '20151224_0066_26749_1_tg_2_0.png': 'Vậy bốn người khách mua dâm đó là ai? Theo cáo trạng, khoảng 14 g',\n",
       " '20151109_0046_25302_tg_1_6.png': 'tập trung.',\n",
       " '20160220_0143_7606_2_tg_2_5.png': 'có đến bốn địa điểm bán thú rừng sống, nhưng muốn rõ cứ vào quán nhậu hỏi.',\n",
       " '20140920_0012_49_2_tg_3_0.png': 'Những chú muỗi gầy có, béo có, nhỏ có, to có lần lượt lao vào ngọn',\n",
       " '20140603_0018_BCCTC_tg_1_5.png': 'những món quà quý giá, hạnh phúc ấy long lanh in trong mắt mẹ.',\n",
       " '20160526_0172_9129_1_tg_2_4.png': 'này khi họ nhìn vào nét đăm chiêu và sự thinh lặng đầy buồn thảm của hàng',\n",
       " '20151109_0048_25432_1_tg_0_2.png': 'Xuân Hải, Sông Cầu. Cách đây hơn ba năm, vào khoảng tháng 10, 11 - 2000, khi',\n",
       " '20150326_0043_25435_tg_0_3.png': 'TP.HCM, do gia đình NSƯT Lý Huỳnh cùng một số nghệ sĩ (,,) cá',\n",
       " '20160524_0166_9415_2_tg_3_3.png': 'nhận lại giấy CMND. Chị cầm tờ giấy đã bị thấm nước, hai mặt nilông bị bong,',\n",
       " '20160429_0110_25627_1_tg_1_4.png': 'từng khuôn mặt. Johor ngày thứ nhất. Họ đưa chúng tôi đến khu vực công trường',\n",
       " '20160722_0202_26749_1_tg_2_4.png': 'Hữu Tình trích bút lục của cơ quan cảnh sát điều tra',\n",
       " '20140603_0026_BCCTC_tg_1_5.png': 'tặng mẹ \" đoá hồng \" của tình yêu. Một món quà ý nghĩa hơn cả những',\n",
       " '20150220_0001_9244_3_tg_4_4.png': 'rồi điệp khúc \" lâu rồi đời mình sẽ quen \" là bài ca không',\n",
       " '20151208_0146_7105_2_tg_4_1.png': 'kinh phí, thiếu công thợ, dù xa xôi tận An Hiệp, Thành Triệu, Quới Thành (huyện',\n",
       " '20160519_0161_9129_2_tg_1_4.png': 'trôi và vùi lấp... \". Bãi dựng trại rộng chừng 1 ha nay đã gần như',\n",
       " '20151016_0044_9129_1_tg_0_6.png': 'Phước Thành (Phước Sơn) đã được đưa về thị trấn này.',\n",
       " '20151205_0059_25627_3_tg_0_1.png': 'hứa giải quyết về trước tết, lại làm việc và sống cầm hơi như cũ. Ngày 2 - 1 - 2004,',\n",
       " '20160412_0092_9539_2_tg_1_6.png': 'còn lại của 140 người dân trong vùng tự nguyện đóng góp.',\n",
       " '20151126_0056_25600_1_tg_5_5.png': 'dự án khu triển lãm nông nghiệp đã triển khai được 2 - 3 năm.',\n",
       " '20160602_0182_25432_1_tg_2_5.png': 'công bố công khai, hiện vẫn được dựng công khai cách trụ sở UBND',\n",
       " '20140603_0026_KQBDVN_tg_0_2.png': 'Nam là một phần biển Đông.',\n",
       " '20160115_0071_26749_2_tg_1_3.png': 'theo hướng xử lý trên. Vụ việc có bị \" chìm xuồng \"? Theo ông Nguyễn Thành',\n",
       " '20151207_0061_25849_2_tg_5_2.png': 'kẹt xe ngay trên đường ray xe lửa tại ngã tư Bình Lợi. Ai sẽ chịu trách',\n",
       " '20160604_0196_9244_2_tg_2_1.png': 'Còi cứu thương lại bắt đầu hú lên. Chiếc xe lại phải len lỏi qua những',\n",
       " '20160518_0158_25288_tg_0_6.png': 'loại ở nước sản xuất, ở các nước trong khu vực) để có cơ sở quản lý giá; quản lý',\n",
       " '20160113_0069_28472_3_tg_2_1.png': 'này vẫn cứ gọi tới liên tiếp không dưới 10 lần. Sau đó, liên hệ lại thì chủ máy nói :',\n",
       " '20151113_0051_25463_tg_0_3.png': '15 - 3 - 2004. Theo thông tin ban đầu, phía nạn nhân khai nhận với một số PV báo chí là do',\n",
       " '20140603_0023_BCCTC_tg_2_1.png': 'bình thường được. Từ nhỏ cậu đã nuôi ước mơ trở thành cầu thủ bóng đá. Sau',\n",
       " '20151224_0141_7818_2_tg_5_1.png': 'hoặc thu gom, đồng thời buộc các hàng quán kinh doanh động vật rừng viết cam',\n",
       " '20160412_0087_9244_3_tg_3_5.png': 'thần làm việc của mình.',\n",
       " '20140924_0007_5770_2_tg_0_2.png': 'trận được tính làm 10 hồ - hiệp đấu, mỗi hồ 15 phút), cặp gà vẫn chưa phân thắng',\n",
       " '20140603_0023_KQBDVN_tg_2_3.png': 'xây dựng chủ nghĩa xã hội, có liên quan trực tiếp đến sự phồn vinh',\n",
       " '20160604_0193_25627_3_tg_2_0.png': 'Ông Tuấn Anh nói : \" Lỗi không của riêng ai, đây là rủi ro trong làm ăn công ty chỉ',\n",
       " '20160414_0094_25283_1_tg_3_3.png': 'con gái tôi mới khổ nhiều. Nỗi oan chưa được giải nên cháu',\n",
       " '20140603_0017_BCCTC_tg_3_0.png': 'Thành công ấy, liệu có mấy người đạt được?',\n",
       " '20140603_0039_BCCTC_tg_3_6.png': 'để khẳng định mình. Đó là ý nghĩa nguyên vẹn của các kỳ thi,',\n",
       " '20160506_0115_26558_1_tg_1_2.png': 'Hai năm nữa là dứt điểm. Cái khó nằm ở khâu quyết toán tài chính DN và quyết toán thuế.',\n",
       " '20160504_0112_25849_2_tg_8_5.png': 'đến khúc cua \" nghiệt ngã \" và trạm kiểm soát đặt ngay chân cầu',\n",
       " '20150216_0009_9129_3_tg_0_7.png': 'đồng đối với những người bị thương.',\n",
       " '20160119_0076_25849_2_tg_4_7.png': 'bắt đầu leo dốc lên cầu với tốc độ rất chậm.',\n",
       " '20160510_0125_26554_2_tg_5_1.png': 'được chính quyền sở tại chấp nhận, trong nước sẽ có hỗ trợ cụ thể.',\n",
       " '20160510_0121_9129_1_tg_0_3.png': 'bỗng lặng lẽ, âm u... \" Thấy người ta chết thảm thiết rứa, làm răng ai có thể làm',\n",
       " '20160426_0104_25480_tg_2_4.png': 'do vướng ở khâu giám định. Theo đó, muốn khởi tố, truy tố được những cá',\n",
       " '20151127_0005_25600_2_tg_0_3.png': 'với các DN nhà nước \". Ngay sau khi trả lời xong câu hỏi của các luật',\n",
       " '20160123_0079_25344_tg_0_8.png': 'hội và định chế.',\n",
       " '20160525_0168_25283_1_tg_1_7.png': 'thuê, làm mướn; một vài người còn lại từ những công nhân xây dựng',\n",
       " '20160602_0181_25439_1_tg_3_1.png': 'đến vậy? Tôi không phải là người trong lĩnh vực chuyên môn nhưng có thể hình dung',\n",
       " '20160510_0148_25472_tg_0_1.png': 'bắt đầu thẩm vấn các ngân hàng đối với những khoản vay của Cty Tiếp thị với số tiền 85,354 tỉ',\n",
       " '20150323_0043_25288_tg_0_4.png': 'trong khu vực như Hong Kong và Campuchia \". Thanh tra Bộ Y tế cũng kiến',\n",
       " '20151224_0066_26749_1_tg_0_2.png': 'Dương đã đưa ra xét xử sơ thẩm vụ án về một đường dây môi',\n",
       " '20151215_0022_26558_3_tg_5_1.png': 'dịch vụ văn hóa; khắc phục những sơ hở, tiêu cực trong quản lý',\n",
       " '20160428_0109_25627_3_tg_2_7.png': 'trình ba ngày từ Malaysia qua Thái Lan, Campuchia và đến cửa khẩu',\n",
       " '20160421_0101_25435_tg_1_1.png': 'thơ, Đem lại ánh sáng cho người mù nghèo và trẻ em mù bẩm sinh, Xe lăn cho người',\n",
       " '20160426_0107_25627_2_tg_0_2.png': 'tám người ở lại công trường cũ, 17 người chuyển đi gửi tạm ở một công ty môi giới. Chúng tôi',\n",
       " '20160115_0072_26558_3_tg_1_4.png': 'cao công tác cán bộ. Tiếp tục đổi mới phương thức lãnh đạo của cấp ủy',\n",
       " '20160411_0083_9129_2_tg_4_0.png': 'Tôi giở bản danh sách mà ông Quyền trao ra xem, thì ra trong số 19',\n",
       " '20140603_0026_BCCTC_tg_3_7.png': 'của các kỳ thi, và cũng là bản chất của thành công.',\n",
       " '20160722_0202_26749_1_tg_0_6.png': 'công tác tại Viện Kiểm sát (VKS) nhân dân tỉnh Bình Dương, đã đi mua dâm',\n",
       " '20160512_0132_9129_2_tg_0_4.png': 'lại mái trại bị dột vì mưa quá lớn.',\n",
       " '20160429_0110_25627_1_tg_3_6.png': '... ăn cho khỏi chết đói.',\n",
       " '20160518_0152_25475_tg_0_2.png': 'khai gấp các dự án cấp nước đang thực hiện gồm : hệ thống cấp nước sông Sài Gòn',\n",
       " '20160524_0166_9415_2_tg_1_1.png': 'ruột \", những người bán hàng rong, sửa xe, thu lượm là những cộng tác viên thân',\n",
       " '20160511_0128_9244_1_tg_3_5.png': 'khi tôi đang ngồi nói chuyện với các anh chị bỗng ĐDV trực ban cho biết có',\n",
       " '20151109_0048_25432_1_tg_2_0.png': 'Được biết, dự án qui hoạch phát triển khu dân cư mới tại xã Xuân Hải được đầu tư',\n",
       " '20140920_0012_49_2_tg_1_2.png': 'bom đạn tưởng chừng như không bao giờ dứt, một phút như thế này',\n",
       " '20160510_0119_26558_1_tg_4_3.png': 'đề nghị TP triển khai tiếp dự án cung cấp nước sạch khác để TP sẽ có thêm 300.000 m3',\n",
       " '20160412_0092_9539_2_tg_3_4.png': 'lý nghĩa địa này, chỉ tôi thấy một bên trong trại có để năm quan tài',\n",
       " '20151205_0059_25627_3_tg_2_3.png': 'cả số tư trang ít ỏi trên người cũng được đánh đổi lấy đồ dùng trong những',\n",
       " '20151016_0044_9129_1_tg_2_4.png': 'với những ai đến bãi xác này khi họ nhìn vào nét đăm chiêu và sự',\n",
       " '20151208_0146_7105_2_tg_6_3.png': 'Sau hơn 30 năm bỏ công, của cất nhà tình thương cho người nghèo,',\n",
       " '20140918_0010_49_1_tg_1_4.png': 'anh trai ngã xuống ở vùng đất này mà cho đến giờ vẫn chưa tìm thấy.',\n",
       " '20140603_0026_KQBDVN_tg_2_0.png': 'Có tài nguyên sinh vật và khoáng sản phong phú, đa dạng, quý hiếm.',\n",
       " '20140603_0015_KQBDVN_tg_1_3.png': 'châu Úc với Trung Đông. Giao lưu quốc tế thuận lợi, phát triển ngành biển.',\n",
       " '20160530_0178_9244_2_tg_1_4.png': 'như cái trống hầu. BS Hà vừa chẩn đoán bệnh vừa an ủi và động viên tinh thần.',\n",
       " '20151113_0051_25463_tg_2_1.png': '3 nên Hải bảo Khoán đi về. Khoán tự ái mang cưa ra về, Hải đuổi theo và hai bên',\n",
       " '20160113_0069_28472_3_tg_0_3.png': 'ra Đồng Nai thôi mà phải xuống chung đến bốn nhóm CSGT lưu động. Vừa đến cầu Đồng Nai chung',\n",
       " '20140927_0033_5932_1_tg_4_4.png': 'nào cũng vàng hoe như tóc nhuộm và mắt của họ thì vàng lơ như',\n",
       " '20160604_0196_9244_2_tg_0_3.png': 'qua. Trên đường đi, thỉnh thoảng xe phải dừng lại vì những bác xích lô',\n",
       " '20151207_0061_25849_2_tg_7_0.png': 'Khoảng cách từ khúc cua này đến trạm chỉ khoảng 40m, do vậy thường các tài xế',\n",
       " '20160115_0071_26749_2_tg_3_1.png': 'phui và khi vụ án được đưa ra xét xử, mới lộ ra sự việc ông phó viện',\n",
       " '20160512_0131_25311_tg_1_1.png': 'không có lương, bị chuyển nhượng, \" bán \" qua lại giữa nhiều nhà môi giới,',\n",
       " '20140603_0042_BCCTC_tg_2_5.png': 'ước mơ từ ngày thơ bé',\n",
       " '20150504_0034_25300_tg_1_5.png': 'ngoài nước, xác định ưu tiên về xây dựng năng lực ở những nơi có nhu',\n",
       " '20160511_0127_9539_2_tg_5_7.png': 'đường giao thông nông thôn, cất nhà tình thương cho dân nghèo...',\n",
       " '20160525_0170_25463_tg_1_3.png': 'rừng Dốc Tứ ở Ia Me để khai thác gỗ trái phép từ ngày 11 - 3 - 2004.',\n",
       " '20140603_0033_BCCTC_tg_0_5.png': 'suy ngẫm.',\n",
       " '20160604_0193_25627_3_tg_0_2.png': 'Hồ Văn Trương bị té lầu trong khi làm việc. Từ chiều đến 11 giờ đêm mới có y tá',\n",
       " '20140603_0023_KQBDVN_tg_0_1.png': 'Nước ta giáp với biển Đông và Nam. Vùng biển Việt Nam là một phần biển',\n",
       " '20140924_0007_5770_2_tg_2_0.png': 'Hắn đã lập gia đình, nhưng cái gia đình ấy đã tan vỡ. Thế nhưng mức độ',\n",
       " '20140603_0023_BCCTC_tg_0_3.png': 'Hay đó là cách nói khác của từ thành đạt, nghĩa là có được một cuộc sống',\n",
       " '20160426_0104_25480_tg_4_2.png': 'mẫu, tức thanh tra không toàn diện cả công trình, nên cũng không thể lấy',\n",
       " '20140920_0024_4784_1_tg_1_0.png': 'Bất ngờ con mắt rực lên, giật lưỡi dao đâm xuống mâm, ông cắt một đường thẳng băng',\n",
       " '20151109_0047_25344_tg_1_4.png': 'tựa đề \" tác động của phát triển cơ sở hạ tầng đối với giảm nghèo nông',\n",
       " '20160421_0099_25432_2_tg_2_2.png': 'từ mấy năm nay. Bởi giá hồi đó không phải là giá vì không ai',\n",
       " '20160510_0124_25627_1_tg_3_4.png': '(xóm Vạn An, Vân Diên, Nam Đàn, Nghệ An) - tác giả cuốn nhật ký. Không có tiền ăn,',\n",
       " '20160513_0133_9244_1_tg_3_6.png': 'chuyện với các anh chị bỗng ĐDV trực ban cho biết có ca cấp cứu',\n",
       " '20140603_0003_BCCTC_tg_1_0.png': 'Thành công là khi bố và con trai có dũng khí bước vào bếp, nấu những món ăn mẹ',\n",
       " '20151111_0018_25435_tg_1_4.png': 'cho bệnh nhân nghèo, Cấp thẻ bảo hiểm y tế cho người nghèo...',\n",
       " '20150212_0022_9129_1_tg_0_6.png': 'Phước Thành (Phước Sơn) đã được đưa về thị trấn này.',\n",
       " '20160513_0135_9415_2_tg_2_1.png': 'Trong các ngăn kéo bàn của Nguyễn Hữu Phi, anh chàng sinh viên lơ ngơ bị mất',\n",
       " '20151209_0144_7398_2_tg_3_0.png': 'Muốn đi làm thuê, làm mướn cũng không ai nhận. Ở trường, không đứa học trò nào',\n",
       " '20150303_0036_9129_1_tg_1_0.png': '\" Tội nghiệp, họ toàn là người miền Bắc... \" - một chủ quán ở đầu thị trấn nói khi',\n",
       " '20160119_0076_25849_2_tg_2_1.png': 'và xin được thu phí giao thông một chiều (thay vì thu phí giao thông hai',\n",
       " '20160722_0202_26749_1_tg_6_0.png': 'Sau khi vụ việc xảy ra, cơ quan đã tổ chức kiểm điểm về',\n",
       " '20160514_0137_25272_tg_0_1.png': 'cho biết tỉnh sẽ đầu tư xây dựng khu phố đi bộ tại 6 đường phố chính của khu',\n",
       " '20160412_0088_9415_1_tg_1_0.png': 'Nhặt và gọi. Một ngày làm việc của anh Âm bắt đầu bằng việc làm quen',\n",
       " '20151109_0048_25432_1_tg_4_6.png': 'xã Xuân Hải.',\n",
       " '20150215_0031_9129_2_tg_3_2.png': 'cùng quê, cùng vì áo cơm cuộc sống mà đem thân đến đây... \", anh',\n",
       " '20160514_0136_9244_1_tg_1_4.png': 'thoại, có tiếng chuông reo vang, Trường cầm ống nghe : \" Ồ không có',\n",
       " '20151224_0066_26749_1_tg_6_4.png': 'trách điều tra, nhưng trong vụ này từ khi có dư luận, tiếng',\n",
       " '20160428_0109_25627_3_tg_4_1.png': 'cũng may mắn hơn những bạn bè khác hiện đang còn kẹt lại ở xứ người \".',\n",
       " '20140603_0017_KQBDVN_tg_0_0.png': 'KHÁI QUÁT VỀ BIỂN ĐẢO VIỆT NAM',\n",
       " '20140603_0040_KQBDVN_tg_2_0.png': 'Có tài nguyên sinh vật và khoáng sản phong phú, đa dạng, quý hiếm.',\n",
       " '20160426_0105_25480_tg_3_6.png': 'yêu cầu tái giám định, nhưng chưa có kết quả.',\n",
       " '20151126_0056_25600_1_tg_1_1.png': '(HĐXX) hỏi bị cáo Nguyễn Quang Hà (nguyên thứ trưởng Bộ NN & PTNT) : \" Muốn đối chất',\n",
       " '20160523_0163_9244_1_tg_1_0.png': 'Và 115 đã trở thành số điện thoại đáng tin cậy của nhiều người... Theo những vòng xe cấp',\n",
       " '20160412_0092_9539_2_tg_5_2.png': '2001, 2002,... cho đến nay, đã có 136 người dân qua đời trong khu vực được',\n",
       " '20151016_0044_9129_1_tg_4_2.png': 'chúng tôi cho anh em nghỉ việc, cho một số rút ra cơ quan công ty.',\n",
       " '20160504_0147_25627_3_tg_1_7.png': 'xử lý việc này.',\n",
       " '20160603_0192_25272_tg_0_1.png': 'Nguyễn Xuân Phúc cho biết tỉnh sẽ đầu tư xây dựng khu phố đi',\n",
       " '20160519_0161_9129_2_tg_5_0.png': 'Cái bếp nhỏ, mẹ ơi...',\n",
       " '20151205_0058_25627_2_tg_1_3.png': 'do đi lại, sống trong lo âu thấp thỏm. Từ người lao động hợp pháp, chúng tôi',\n",
       " '20140603_0006_BCCTC_tg_2_4.png': 'bại. Trái lại, thành công đã nở hoa khi cậu bé năm xưa, với bao nghị',\n",
       " '20151208_0146_7105_2_tg_0_5.png': 'khi hạ xuống phải kéo đẩy ra bờ sông cách xa 200 - 300 m, với một',\n",
       " '20150220_0001_9244_3_tg_0_0.png': 'Thấy tôi có vẻ... chịu đựng, ĐDV Huệ cho biết : \" Có người không',\n",
       " '20160524_0167_25464_1_tg_3_0.png': 'Các đồng chí ở sở phát biểu thì không muốn thành lập dưới huyện, nhưng khi các đồng chí ở huyện',\n",
       " '20160511_0127_9539_2_tg_3_1.png': 'trú mưa, trú nắng. Bên trong có bảng liệt kê danh sách những người đóng góp,',\n",
       " '20160527_0173_25432_1_tg_1_1.png': 'dựng. Chỉ trong một thời gian ngắn, hàng trăm hồ sơ xin giao (mua) đất của',\n",
       " '20160113_0068_25272_tg_0_2.png': 'phố cổ Hội An, đồng thời tổ chức chợ đêm, các quán bar, cà phê, các khu vui chơi',\n",
       " '20140603_0037_BCCTC_tg_2_3.png': 'và chưa bao giờ được chính thức ra sân. Nhưng đó không phải là thất bại. Trái lại,',\n",
       " '20151224_0141_7818_2_tg_1_5.png': 'bếp. Mùi khét lẫn mùi thơm của động vật rừng bốc lên ngào ngạt,',\n",
       " '20140925_0043_5770_3_tg_1_0.png': 'Nếu sơ ý bắt phải gà \" chột \" là đi tong. Đây là loại gà thua trận và không đá được',\n",
       " '20140927_0033_5932_1_tg_2_2.png': 'lặn lấy mấy chục khẩu súng cối trong đêm khuya. Năm nay đã gần 80 tuổi,',\n",
       " '20151207_0061_25849_2_tg_1_6.png': 'thực hiện được (đường chưa xây dựng).',\n",
       " '20151224_0142_7606_2_tg_3_5.png': 'vật ở phía sau nhà, trong đó có con kỳ đà to bằng bắp vế.',\n",
       " '20160125_0080_25627_1_tg_3_6.png': 'tác giả cuốn nhật ký. Không có tiền ăn, chúng tôi phải lội',\n",
       " '20140921_0020_4899_2_tg_7_1.png': 'nhau. Với phong tục người Việt, những buổi lễ trọng đại này sẽ được chọn vào ngày lành tháng tốt.',\n",
       " '20160510_0148_25472_tg_4_5.png': 'sơ thẩm chưa xem xét thỏa đáng.',\n",
       " '20160513_0133_9244_1_tg_1_4.png': 'Trường cầm ống nghe : \" Ồ không có gì đâu! Nhiệm vụ của chúng tôi mà. Anh',\n",
       " '20160421_0099_25432_2_tg_0_0.png': 'Trao đổi với Tuổi Trẻ, ông Đào Tấn Lộc, chủ tịch UBND tỉnh Phú Yên, khẳng',\n",
       " '20160505_0114_28472_3_tg_5_3.png': 'tuyến hàng đi. Tối 1 - 4 chúng tôi có mặt tại quốc lộ 51 hướng đi Bà Rịa - Vũng Tàu',\n",
       " '20160510_0125_26554_2_tg_1_5.png': 'hai là sẽ tích cực cải thiện môi trường pháp lý nhằm thu hút bà con Việt',\n",
       " '20160119_0076_25849_2_tg_0_3.png': 'HĐND TP đã có lúc cho rằng thu phí vào thời điểm chưa',\n",
       " '20150303_0036_9129_1_tg_3_2.png': 'đến sáng 15 - 11 mới ra đây được... \", Ngô Văn Hoàng - một công nhân 19 tuổi - nói.',\n",
       " '20150216_0009_9129_3_tg_4_3.png': 'vàng giữa thăm thẳm Trường Sơn, nhớ lại những cái chết của 49 người',\n",
       " '20160604_0194_25475_tg_0_3.png': 'Gòn giai đoạn 1 và các tiểu dự án mạng cấp nước cấp 1, 2, 3. Hạn chót',\n",
       " '20151209_0144_7398_2_tg_1_2.png': 'lúc vớt xác đứa em trai dưới sông lên. Lúc ấy nó cưới vợ được hai tháng thì',\n",
       " '20160518_0151_25432_1_tg_2_4.png': 'bố công khai, hiện vẫn được dựng công khai cách trụ sở UBND xã Xuân Hải',\n",
       " '20160518_0159_25475_tg_0_1.png': 'nghị Quĩ hỗ trợ phát triển cho TP vay 500 tỉ đồng với lãi suất 7,5% / năm để triển khai gấp các',\n",
       " '20160513_0135_9415_2_tg_0_3.png': ', sách tập cũ các loại. Trong một cuốn sách cũ chợt rơi ra tấm thẻ sinh viên của một',\n",
       " '20160419_0095_25302_tg_1_1.png': 'khoảng 15% lười lao động, đua đòi ăn diện và tự nguyện đi vào con đường bán dâm.',\n",
       " '20150212_0022_9129_1_tg_2_4.png': 'dân Khâm Đức, với những ai đến bãi xác này khi họ nhìn vào nét đăm',\n",
       " '20140603_0003_BCCTC_tg_3_2.png': 'sĩ \". Hai bảy điểm, cao thật đấy. Nhưng cao mà làm gì khi NV1 lấy tới hai bảy',\n",
       " '20150215_0031_9129_2_tg_1_0.png': 'Bỗng những tiếng ầm ầm từ phía bên trên trại vang lên, tôi cùng anh em',\n",
       " '20160526_0172_9129_1_tg_4_2.png': 'cho một số rút ra cơ quan công ty. Khoảng 11 g 30 đêm 13, lúc anh em đang ngủ',\n",
       " '20160412_0088_9415_1_tg_3_2.png': 'minh nhân dân : \" Tôi lượm được trong đám rác này nè. Trước giờ, phân rác ra',\n",
       " '20160512_0132_9129_2_tg_4_0.png': 'Tôi giở bản danh sách mà ông Quyền trao ra xem, thì ra trong số 19 người, chỉ trừ',\n",
       " '20160722_0202_26749_1_tg_4_2.png': 'đó đi hát karaoke chung với ba đối tượng kia thì có, nhưng',\n",
       " '20160411_0086_9244_1_tg_2_4.png': 'lái xe, một bác sĩ (BS), hai điều dưỡng viên (ĐDV) tức tốc lên xe.',\n",
       " '20160411_0083_9129_2_tg_0_4.png': 'Lúc đó khoảng 23 g 30, đa số anh em còn thức vì một số vừa xem',\n",
       " '20160512_0129_9244_1_tg_1_4.png': 'Nhiệm vụ của chúng tôi mà. Anh ấy bình phục là tôt rồi \".',\n",
       " '20160115_0072_26558_3_tg_5_0.png': 'Nâng cao năng lực quản lý nhà nước trên các lĩnh vực kinh doanh dịch vụ',\n",
       " '20140603_0017_KQBDVN_tg_2_2.png': 'hưởng trực tiếp đến sự nghiệp bảo vệ nền độc lập dân tộc và xây dựng',\n",
       " '20151209_0145_7276_1_tg_3_5.png': 'quàng quạc bay về núi. Không biết từ phương nào, từng',\n",
       " '20160603_0185_25300_tg_1_0.png': 'Trong khi đó, tại lễ kỷ niệm Ngày nước thế giới (22 - 3), bà Kanni ignaraja, phó đại diện',\n",
       " '20151215_0022_26558_3_tg_1_5.png': 'đổi mới phương thức lãnh đạo của cấp ủy Đảng theo phương châm',\n",
       " '20151224_0066_26749_1_tg_4_6.png': 'mua dâm và xử lý kỷ luật bằng hình thức cảnh cáo \".',\n",
       " '20140603_0043_BCCTC_tg_1_5.png': 'những món quà quý giá, hạnh phúc ấy long lanh in trong mắt mẹ.',\n",
       " '20160514_0136_9244_1_tg_3_6.png': 'với các anh chị bỗng ĐDV trực ban cho biết có ca cấp cứu đường',\n",
       " '20160220_0143_7606_2_tg_4_3.png': '30 kg còn nguyên lông, giá 45.000 đ / kg, nếu lấy thì kêu họ mang lại. Trời',\n",
       " '20150218_0038_9244_2_tg_1_0.png': 'Một thanh niên mặc đồ dân phòng chờ sẵn nơi đầu hẻm đón chúng tôi. Xe',\n",
       " '20140603_0039_KQBDVN_tg_1_6.png': 'Có khí hậu biển là vùng nhiệt đới tạo điều kiện cho sinh vật biển',\n",
       " '20150326_0005_25475_tg_0_1.png': 'TP.HCM vừa đề nghị Quĩ hỗ trợ phát triển cho TP vay 500 tỉ đồng',\n",
       " '20140603_0041_KQBDVN_tg_0_4.png': 'có 1 km bờ biển (trung bình của thế giới là 600 km2 đất liền / 1 km bờ biển).',\n",
       " '20151126_0056_25600_1_tg_3_3.png': 'Chính phủ... \", ông bộ trưởng trả lời. Vẫn Viện Kiểm sát : \" Bộ có chủ trương cho',\n",
       " '20160426_0105_25480_tg_1_4.png': 'công trình đường liên cảng A5 - cho biết vụ án vẫn đang trong giai đoạn điều',\n",
       " '20160602_0182_25432_1_tg_4_3.png': 'việc trả lại tiền sử dụng đất, có được cộng với lãi suất của ngân hàng',\n",
       " '20140603_0040_KQBDVN_tg_0_2.png': 'Đông.',\n",
       " '20160524_0167_25464_1_tg_1_2.png': 'tục ngoài qui định, gây phiền hà cho người dân \", \" từ chối hoặc không thực hiện thủ tục hành',\n",
       " '20150220_0001_9244_3_tg_2_2.png': 'chuyện với những CCV lưu động, tôi hiểu rằng chính những',\n",
       " '20140603_0006_BCCTC_tg_0_6.png': 'Cuộc sống sẽ chỉ cho bạn có những người đạt được thành công theo một',\n",
       " '20151205_0058_25627_2_tg_3_1.png': 'phí (tiền chính thức cho công ty là 1.150 USD và 1 triệu đồng).',\n",
       " '20160504_0147_25627_3_tg_3_5.png': 'người VN che chở đã đóng tiền để qua được các vòng.',\n",
       " '20160523_0163_9244_1_tg_3_2.png': 'ca cấp cứu. BS Tuyết Mai cho biết khoa gồm 12 BS, 22 ĐDV, sáu lái xe với 10 xe cấp cứu',\n",
       " '20140603_0037_BCCTC_tg_0_1.png': 'Đã bao giờ bạn tự hỏi thành công là gì mà bao kẻ bỏ cả cuộc đời mình theo đuổi? Phải',\n",
       " '20160527_0173_25432_1_tg_3_3.png': 'về việc sẽ cấp giấy phép xây dựng nhà ở cho những người đã được cấp đất. Đến',\n",
       " '20160511_0127_9539_2_tg_1_3.png': 'mặt bằng khu nghĩa địa để khi lũ về, bà con trong vùng không may qua đời có',\n",
       " '20160412_0090_9415_1_tg_1_4.png': 'mất và trả lại cho họ. Anh chỉ cần gọi điện thoại... \". Anh xe ôm chẳng thắc',\n",
       " '20140921_0020_4899_2_tg_5_3.png': 'tiết diện hầm lớn, điều kiện lao động khắc nghiệt... Nhưng bằng hỗ trợ của máy móc thiết bị, sự',\n",
       " '20151224_0142_7606_2_tg_1_7.png': 'số thịt rừng bị xơi trong đêm lên đến 50 kg.',\n",
       " '20160125_0080_25627_1_tg_1_4.png': 'Nước mắt và sự thảng thốt vẫn còn hiện rõ trên từng khuôn mặt. Johor',\n",
       " '20151207_0061_25849_2_tg_3_4.png': 'xe lửa đang qua khu vực này. Trong khi đó, tại khu vực trạm thu phí do',\n",
       " '20140927_0033_5932_1_tg_0_0.png': 'Mưu sinh dưới đáy biển Đối với họ đáy biển là một nguồn sống thiết thân. Nay',\n",
       " '20140925_0043_5770_3_tg_3_2.png': 'gà chỉ còn cách nằm bẹp gí trên sới hoặc về \" chầu giời \" sớm. Chơi đá gà đã khiến không',\n",
       " '20160113_0067_25288_tg_0_0.png': 'Bán thuốc giá cao, Công ty Sanofi phải giải trình. Trao đổi với Tuổi',\n",
       " '20160510_0119_26558_1_tg_0_3.png': 'trong quý 2. Trước đó, chiều 30 - 3, trong phần thảo luận nhiều ý kiến đã làm sáng tỏ',\n",
       " '20160504_0147_25627_3_tg_3_1.png': 'này đến kinh hoàng khác. Cứ lấy chân đạp trên nền đất để biết rất thật rằng đây là',\n",
       " '20140603_0006_BCCTC_tg_0_2.png': 'mình theo đuổi? Phải chăng đó là kết quả hoàn hảo trong công việc,',\n",
       " '20151208_0146_7105_2_tg_2_3.png': 'lo nhà ở cho người nghèo, sau ông Ba Kiểu còn có thêm nhiều người',\n",
       " '20151205_0058_25627_2_tg_3_5.png': 'Căng thẳng từng ngày, đói ăn, những nét mặt xanh xao như không',\n",
       " '20150220_0001_9244_3_tg_2_6.png': 'huống trước bệnh nhân và người nhà họ càng khó hơn.',\n",
       " '20140603_0040_KQBDVN_tg_0_6.png': 'triệu km2 (gấp 3 diện tích đất liền : 1 triệu km2 / 330.000 km2).',\n",
       " '20160426_0105_25480_tg_1_0.png': 'Ông Hải đặt vấn đề : liệu vụ việc có \" chìm xuồng \" hay không, vì sao đến nay vẫn',\n",
       " '20160602_0182_25432_1_tg_4_7.png': 'của các hộ dân ngoài xã Xuân Hải.',\n",
       " '20150326_0005_25475_tg_0_5.png': 'trả vốn gốc và lãi là ngày 31 - 12 - 2004, Công ty Cấp nước TP được ủy',\n",
       " '20140603_0041_KQBDVN_tg_0_0.png': 'KHÁI QUÁT VỀ BIỂN ĐẢO VIỆT NAM',\n",
       " '20140603_0039_KQBDVN_tg_1_2.png': 'biển.',\n",
       " '20160113_0069_28472_3_tg_4_3.png': 'xe xuống trình \" giấy \" đi ngay như các tài xế đã cho biết. Qui trình',\n",
       " '20160113_0067_25288_tg_0_4.png': 'khi xuất khẩu đi một số nơi trong khu vực như Hong Kong và',\n",
       " '20140927_0033_5932_1_tg_0_4.png': '(Bình Thuận), Ninh Thuận, Bình Tuy, đảo Phú Quốc lặn thuê kiếm sống.',\n",
       " '20160125_0080_25627_1_tg_1_0.png': '87 trang nhật ký trên giấy A4 là tâm sự của 17 con người sau 206 ngày gian',\n",
       " '20151224_0142_7606_2_tg_1_3.png': 'không bán nguyên con mà thường bán theo đĩa với giá bình quân 20.000 đồng / đĩa.',\n",
       " '20151207_0061_25849_2_tg_3_0.png': 'Như vậy, việc đặt trạm thu phí giao thông tại chân cầu là giải pháp tình',\n",
       " '20160412_0090_9415_1_tg_1_0.png': 'Nhặt và gọi. Một ngày làm việc của anh Âm bắt đầu bằng việc làm quen với một anh',\n",
       " '20160419_0096_25303_tg_0_3.png': 'chỉ tại 31 E5 Chu Văn An, P.26, Q. Bình Thạnh, TP.HCM) do Trần',\n",
       " '20140603_0037_BCCTC_tg_0_5.png': 'Cuộc sống sẽ chỉ cho bạn có những người đạt được thành công theo một cách giản dị',\n",
       " '20151224_0141_7818_2_tg_3_3.png': 'tìm đến nhà Ba \" đen \". Tuy nhiên ông Ba cảnh giác : \" Thú rừng bây',\n",
       " '20140603_0003_BCCTC_tg_3_6.png': 'thành công.',\n",
       " '20160419_0095_25302_tg_1_5.png': 'tăng ở 53 / 64 tỉnh thành, chỉ 40% người nghiện được đưa đi cai nghiện tập',\n",
       " '20150212_0022_9129_1_tg_2_0.png': 'Gần hai ngày đêm rồi chứ ít đâu... \" - một thợ liệm khác nói khi anh đang',\n",
       " '20160518_0151_25432_1_tg_2_0.png': 'Được biết, dự án qui hoạch phát triển khu dân cư mới tại xã Xuân Hải được đầu',\n",
       " '20150303_0036_9129_1_tg_3_6.png': 'lặng im, buồn bã.',\n",
       " '20160119_0076_25849_2_tg_0_7.png': 'cũng chịu thiệt... và việc tổ chức thu phí cầu Bình Triệu 2 được HĐND TP',\n",
       " '20160510_0125_26554_2_tg_1_1.png': 'việc với trí thức kiều bào. Các cơ quan sẽ được quyền chủ động hơn trong',\n",
       " '20160510_0121_9129_1_tg_4_3.png': 'đất đá theo, đẩy cả trại số 4 đi, vùi lấp anh em.',\n",
       " '20151127_0005_25600_2_tg_4_3.png': 'trách Xây dựng cơ bản - ông Phạm Hồng Giang \", bị cáo gợi ý. \" Bị cáo ký',\n",
       " '20160421_0099_25432_2_tg_0_4.png': 'ông Lộc nói : Bán đất với giá không được ủy ban tỉnh phê duyệt là không',\n",
       " '20160510_0124_25627_1_tg_1_2.png': 'Giờ đây, những con người ấy dường như không dám nhìn thẳng mặt nhau bởi nỗi đau của',\n",
       " '20160513_0133_9244_1_tg_1_0.png': 'Và 115 đã trở thành số điện thoại đáng tin cậy của nhiều người...',\n",
       " '20160510_0148_25472_tg_4_1.png': 'thì bị cáo không biết phải trả lời như thế nào \". Ngoài những khoản chi liên quan đến',\n",
       " '20140603_0025_KQBDVN_tg_1_3.png': 'châu Á với châu Âu, châu Úc với Trung Đông. Giao lưu quốc tế thuận',\n",
       " '20150218_0038_9244_2_tg_1_4.png': 'trống hầu. BS Hà vừa chẩn đoán bệnh vừa an ủi và động viên tinh thần. ĐDV Kim',\n",
       " '20160514_0136_9244_1_tg_3_2.png': 'hoàn thành thủ tục nhập viện là xong ca cấp cứu. BS Tuyết Mai cho',\n",
       " '20160603_0190_9244_2_tg_1_2.png': 'xách theo vali cấp cứu, ĐDV Huệ đem chiếc băng ca đẩy vào nhà có nạn nhân.',\n",
       " '20151215_0022_26558_3_tg_1_1.png': 'có hành vi sai trái và những người bao che. Thực hiện tốt các quy định',\n",
       " '20151209_0145_7276_1_tg_3_1.png': 'mới có nhiều chim, vả lại giờ này mấy tay kiểm lâm không còn lượn lờ',\n",
       " '20160603_0185_25300_tg_1_4.png': 'nữa các nguồn đầu tư trong và ngoài nước, xác định ưu tiên về xây dựng năng',\n",
       " '20140603_0043_BCCTC_tg_1_1.png': 'ăn mẹ thích nhân ngày 8 - 3. Món canh có thể hơi mặn, món cá sốt đáng lẽ phải có',\n",
       " '20151224_0066_26749_1_tg_4_2.png': 'đi hát karaoke chung với ba đối tượng kia thì có, nhưng khi đến chỗ',\n",
       " '20160512_0129_9244_1_tg_1_0.png': 'Và 115 đã trở thành số điện thoại đáng tin cậy của nhiều người... Theo những vòng xe',\n",
       " '20160426_0107_25627_2_tg_4_2.png': 'Thật là khủng khiếp! \" Nhất nhật tại tù... \" : bệnh tật, roi mây, giày đinh',\n",
       " '20160411_0083_9129_2_tg_0_0.png': 'Cũng may là toàn trại hôm đó chỉ có 33 người, thoát chết được 14 người,',\n",
       " '20160512_0132_9129_2_tg_4_4.png': 'nghe thật não nùng nhưng những người khâm liệm vẫn tiếp tục công việc, công nhân',\n",
       " '20160411_0086_9244_1_tg_2_0.png': 'Quay sang tôi, anh Trường nói : \" Một chị ở quận 8 gọi điện cảm ơn chúng tôi đã cấp cứu kịp thời',\n",
       " '20160722_0202_26749_1_tg_4_6.png': 'các đối tượng mua dâm và xử lý kỷ luật bằng hình',\n",
       " '20160524_0166_9415_2_tg_5_1.png': 'Cũng có khi người được mời đến nhận giấy tờ đã đến văn phòng cùng với một anh... công',\n",
       " '20150215_0031_9129_2_tg_1_4.png': 'trôi và vùi lấp... \". Bãi dựng trại rộng chừng 1 ha nay đã gần như',\n",
       " '20160524_0167_25464_1_tg_3_4.png': '\" Văn phòng đăng ký quyền sử dụng đất không phải là một bộ phận hành chính mà là một tổ chức sự',\n",
       " '20150220_0001_9244_3_tg_0_4.png': 'Lâu rồi sẽ quen. Các CCV cho biết mặc dù có những tình',\n",
       " '20151208_0146_7105_2_tg_0_1.png': 'của ông Tám On là ông Nguyễn Văn Kiểu (Ba Kiểu) ở ấp Tân Qui, xã Tân Phú.',\n",
       " '20140603_0006_BCCTC_tg_2_0.png': 'Thành công còn là hình ảnh một cậu bé bị dị tật ở chân, không bao giờ đi lại',\n",
       " '20160603_0192_25272_tg_0_5.png': 'lễ hội, như đêm rằm phố cổ mỗi tuần một lần và tổ chức các',\n",
       " '20160504_0147_25627_3_tg_1_3.png': 'trong khi những lao động đang chờ đợi ngoài hành lang tại chi nhánh của công ty',\n",
       " '20151205_0059_25627_3_tg_4_1.png': 'chúng tôi cũng may mắn hơn những bạn bè khác hiện đang còn',\n",
       " '20160510_0119_26558_1_tg_2_1.png': 'Bí thư Thành ủy Nguyễn Minh Triết : \" Anh là Phó Chủ tịch mà nói thế là không được! \". Phó',\n",
       " '20160523_0163_9244_1_tg_1_4.png': 'của chúng tôi mà. Anh ấy bình phục là tôt rồi \".',\n",
       " '20160412_0092_9539_2_tg_5_6.png': 'xây dựng nghĩa địa này mà ông còn thường xuyên góp công góp của vào',\n",
       " '20140603_0041_KQBDVN_tg_2_2.png': 'trực tiếp đến sự nghiệp bảo vệ nền độc lập dân tộc và xây dựng chủ nghĩa xã hội,',\n",
       " '20151126_0056_25600_1_tg_1_5.png': 'việc có trách nhiệm \", nhưng cụ thể trong sự việc này (vụ Lã Thị Kim Oanh) thì \" thời gian',\n",
       " '20160426_0105_25480_tg_3_2.png': 'điều tra có nhận được kết quả giám định xây dựng công trình đường liên',\n",
       " '20160504_0112_25849_2_tg_0_8.png': 'TP thông qua, chính thức áp dụng vào 1 - 4 - 2004.',\n",
       " '20160412_0090_9415_1_tg_3_2.png': '\" Tôi lượm được trong đám rác này nè. Trước giờ, phân rác ra thỉnh thoảng cũng',\n",
       " '20151207_0061_25849_2_tg_1_2.png': 'ý định \" cứu \" nhà đầu tư, các trạm thu phí được chóng vánh dựng lên cũng theo',\n",
       " '20160125_0080_25627_1_tg_3_2.png': 'một dòng nhật ký. Ngày dài nơi xứ lạ với bao sự cố bất',\n",
       " '20151224_0142_7606_2_tg_3_1.png': 'đơn sơ, do hai người đàn ông nói giọng Bắc đứng bán. Sau khi yên vị, chúng',\n",
       " '20160115_0071_26749_2_tg_5_3.png': 'đến các bộ phận khác, tôi nghĩ các điều tra viên, kiểm sát viên',\n",
       " '20140927_0033_5932_1_tg_2_6.png': 'lại hồi đó chưa có phong trào ăn hải sản như bây giờ.',\n",
       " '20140925_0043_5770_3_tg_1_4.png': 'Bình. Con ô rụt này có đặc điểm : khi lâm trận chỉ rụt cổ lại, lì đòn và đánh',\n",
       " '20160113_0069_28472_3_tg_6_1.png': 'không kịp nhìn, tài phụ đã nhanh như sóc nhảy bộp xuống chạy vào góc tối',\n",
       " '20151224_0141_7818_2_tg_1_1.png': 'Tám Xáng ở số 20, đường số 1 chợ Đồng Xoài hỏi mua thú rừng thì',\n",
       " '20160511_0127_9539_2_tg_3_5.png': 'tên. Chú bảo : - Trại hòm đó để chứa hòm thí, lúc nào hòm cũng chất đầy,',\n",
       " '20160527_0173_25432_1_tg_1_5.png': 'tục quan trọng nhất cũng được hoàn tất, đó là giấy chứng nhận quyền sử',\n",
       " '20151209_0144_7398_2_tg_3_4.png': 'chuyện nhà anh đang chứa \" ét \" và anh được yên thân với công việc. Bác sĩ',\n",
       " '20160510_0125_26554_2_tg_3_3.png': 'Ngoài ra, chúng tôi sẽ tích cực đáp ứng nhu cầu của bà con trong việc',\n",
       " '20160119_0076_25849_2_tg_2_5.png': 'phí tạm tại phía bắc đầu cầu Bình Triệu 2 (phường Hiệp Bình Chánh,',\n",
       " '20150303_0036_9129_1_tg_1_4.png': '\" sửa soạn \" cho người thứ 12 đây! \" - một thợ liệm nói. \" Mặt mày, mình mẩy ai',\n",
       " '20160518_0151_25432_1_tg_0_2.png': 'Xuân Hải, Sông Cầu. Cách đây hơn ba năm, vào khoảng tháng 10, 11-2000, khi con',\n",
       " '20160513_0135_9415_2_tg_2_5.png': 'bàn để tiếp tục.',\n",
       " '20150212_0022_9129_1_tg_0_2.png': 'tôi. Khác với vẻ đông vui, nhộn nhịp mọi ngày, \" phố vàng \" - cái tên',\n",
       " '20160514_0138_25272_tg_0_2.png': 'Hội An, đồng thời tổ chức chợ đêm, các quán bar, cà phê, các khu vui chơi giải',\n",
       " '20140603_0003_BCCTC_tg_1_4.png': 'khi tặng mẹ \" đoá hồng \" của tình yêu. Một món quà ý nghĩa hơn cả những món',\n",
       " '20151111_0018_25435_tg_1_0.png': 'Trong năm nay, chi hội sẽ thực hiện một số kế hoạch làm từ thiện như :',\n",
       " '20160513_0133_9244_1_tg_3_2.png': 'Sau khi hoàn thành thủ tục nhập viện là xong ca cấp cứu. BS Tuyết Mai',\n",
       " '20160510_0124_25627_1_tg_3_0.png': 'Mới hay tất cả chúng tôi đã được hai ông bà người Tàu mua đi bán lại từ người khác',\n",
       " '20160602_0181_25439_1_tg_5_3.png': 'phải họ đã xả thân vì đại nghĩa để rồi gia đình, vợ con ly tán, thất nghiệp, lâm vào',\n",
       " '20160421_0099_25432_2_tg_2_6.png': 'chính quyền huyện không có quyền để cấp đất ở, đã không có',\n",
       " '20151109_0047_25344_tg_1_0.png': 'Đây là lần đầu tiên các nhà thực hiện và lập chính sách ở các nước đang',\n",
       " '20151127_0005_25600_2_tg_6_1.png': 'đối chất này để các luật sư, cử tọa theo dõi. HĐXX cũng đã thẩm vấn',\n",
       " '20140920_0024_4784_1_tg_1_4.png': 'người thanh niên có ngón tay dài thon khéo léo nhét những miếng cao vào túi nilông',\n",
       " '20160426_0104_25480_tg_4_6.png': 'bới hết công trình lên để kiểm tra từng cây cừ, từng mét sắt được.',\n",
       " '20160411_0083_9129_2_tg_2_2.png': 'Không một tiếng kêu gào, trong cơn mưa như trút nước thảm kịch xảy ra',\n",
       " '20140603_0017_KQBDVN_tg_0_4.png': 'thì có 1 km bờ biển (trung bình của thế giới là 600 km2 đất liền / 1 km bờ biển).',\n",
       " '20160512_0129_9244_1_tg_3_2.png': 'xong ca cấp cứu. BS Tuyết Mai cho biết khoa gồm 12 BS, 22 ĐDV, sáu lái xe với 10 xe',\n",
       " '20151224_0066_26749_1_tg_6_0.png': 'Sau khi vụ việc xảy ra, cơ quan đã tổ chức kiểm điểm về việc',\n",
       " '20140603_0043_BCCTC_tg_3_3.png': 'năm? Đó thật ra không phải là thất bại, chỉ là khi thành công - bị - trì - hoãn mà',\n",
       " '20151209_0145_7276_1_tg_1_3.png': 'đường mòn, chúng tôi đến một khu đất trống trước dãy núi Hà Sen. Lại',\n",
       " '20151215_0022_26558_3_tg_3_3.png': 'tế : Tập trung mọi nỗ lực nhằm tháo gỡ sản xuất kinh doanh,',\n",
       " '20160603_0190_9244_2_tg_3_0.png': 'Mùi ói xông nồng nặc.',\n",
       " '20160514_0136_9244_1_tg_1_0.png': 'Và 115 đã trở thành số điện thoại đáng tin cậy của nhiều người...',\n",
       " '20151109_0048_25432_1_tg_4_2.png': 'Tài chính - kế hoạch huyện Sông Cầu về việc trả lại tiền sử dụng đất, có được cộng',\n",
       " '20150215_0031_9129_2_tg_3_6.png': 'Họ đều còn rất trẻ... \".',\n",
       " '20160514_0137_25272_tg_0_5.png': 'và tổ chức các hội nghị quốc tế và mở các tour du lịch làng nghề truyền',\n",
       " '20160412_0088_9415_1_tg_1_4.png': 'trong việc tìm người bị mất và trả lại cho họ. Anh chỉ cần gọi điện',\n",
       " '20160722_0202_26749_1_tg_6_4.png': 'phụ trách điều tra, nhưng trong vụ này từ khi có dư luận,',\n",
       " '20160411_0086_9244_1_tg_0_2.png': 'bị tăng huyết áp đột ngột, ông bị choáng ngất, bà vợ luống cuống tay chân hét toáng lên. Một người',\n",
       " '20160602_0182_25432_1_tg_0_3.png': 'Sông Cầu. Cách đây hơn ba năm, vào tháng 10, 11 - 2000 khi con',\n",
       " '20160604_0198_25300_tg_0_3.png': 'tháng 5 - 2004 tổng lượng mưa tại các tỉnh trong khu vực sẽ thiếu hụt so với trung',\n",
       " '20160530_0178_9244_2_tg_1_0.png': 'Một thanh niên mặc đồ dân phòng chờ sẵn nơi đầu hẻm đón chúng tôi. Xe dừng,',\n",
       " '20150504_0015_25311_tg_1_2.png': 'không được giải quyết khi bị tai nạn lao động, 6 / 17 người đã nếm mùi \" tù tội \".',\n",
       " '20140603_0026_KQBDVN_tg_2_4.png': 'của đất nước, đến văn minh và hạnh phúc của nhân dân.',\n",
       " '20140918_0010_49_1_tg_1_0.png': 'Buổi sáng hôm ấy ràn rạt gió Lào, nhang trên đài tưởng niệm thắp xong cứ cháy bùng lên',\n",
       " '20160519_0161_9129_2_tg_3_2.png': 'cơm cuộc sống mà đem thân đến đây... \", anh Niên ngậm ngùi nói.',\n",
       " '20151016_0044_9129_1_tg_2_0.png': 'Gần hai ngày đêm rồi chứ ít đâu... \" - một thợ liệm khác nói khi anh đang',\n",
       " ...}"
      ]
     },
     "execution_count": 132,
     "metadata": {},
     "output_type": "execute_result"
    }
   ],
   "source": [
    "contents"
   ]
  },
  {
   "cell_type": "code",
   "execution_count": 142,
   "metadata": {},
   "outputs": [],
   "source": [
    "def text_to_labels(text):\n",
    "    return list(map(lambda x: letters.index(x), text))"
   ]
  },
  {
   "cell_type": "code",
   "execution_count": 144,
   "metadata": {},
   "outputs": [
    {
     "name": "stdout",
     "output_type": "stream",
     "text": [
      "TP.HCM góp tiền mua thêm 2.600 m2 hiến cho địa phương để khu nghĩa địa này\n",
      "[47, 43, 13, 35, 30, 40, 0, 60, 93, 69, 0, 73, 62, 120, 67, 0, 66, 74, 54, 0, 73, 61, 89, 66, 0, 17, 13, 21, 15, 15, 0, 66, 17, 0, 61, 62, 119, 67, 0, 56, 61, 68, 0, 101, 125, 54, 0, 69, 61, 106, 105, 67, 60, 0, 101, 121, 0, 64, 61, 74, 0, 67, 60, 61, 102, 54, 0, 101, 125, 54, 0, 67, 83, 78]\n",
      "bằng, nhưng khi tiến hành thì bị cư dân ở địa phương ngăn cản quyết liệt.\n",
      "[55, 114, 67, 60, 11, 0, 67, 61, 106, 67, 60, 0, 64, 61, 62, 0, 73, 62, 119, 67, 0, 61, 83, 67, 61, 0, 73, 61, 90, 0, 55, 125, 0, 56, 106, 0, 57, 85, 67, 0, 135, 0, 101, 125, 54, 0, 69, 61, 106, 105, 67, 60, 0, 67, 60, 99, 67, 0, 56, 108, 67, 0, 70, 74, 78, 119, 73, 0, 65, 62, 123, 73, 13]\n",
      "tàu này chở nhiều hàng điện máy cũ với số lượng khá lớn\n",
      "[73, 83, 74, 0, 67, 83, 78, 0, 56, 61, 135, 0, 67, 61, 62, 120, 74, 0, 61, 83, 67, 60, 0, 101, 62, 123, 67, 0, 66, 84, 78, 0, 56, 103, 0, 75, 133, 62, 0, 72, 128, 0, 65, 106, 137, 67, 60, 0, 64, 61, 84, 0, 65, 133, 67]\n",
      "là cách nói khác của từ thành đạt, nghĩa là có được một cuộc sống giàu sang, được\n",
      "[65, 83, 0, 56, 84, 56, 61, 0, 67, 93, 62, 0, 64, 61, 84, 56, 0, 56, 139, 54, 0, 73, 142, 0, 73, 61, 83, 67, 61, 0, 101, 107, 73, 11, 0, 67, 60, 61, 102, 54, 0, 65, 83, 0, 56, 93, 0, 101, 106, 137, 56, 0, 66, 132, 73, 0, 56, 74, 132, 56, 0, 72, 128, 67, 60, 0, 60, 62, 83, 74, 0, 72, 54, 67, 60, 11, 0, 101, 106, 137, 56]\n",
      "với số lượng lớn thì ông Ba lại chỉ sang các đầu nậu ở Lâm Đồng,\n",
      "[75, 133, 62, 0, 72, 128, 0, 65, 106, 137, 67, 60, 0, 65, 133, 67, 0, 73, 61, 90, 0, 94, 67, 60, 0, 29, 54, 0, 65, 107, 62, 0, 56, 61, 124, 0, 72, 54, 67, 60, 0, 56, 84, 56, 0, 101, 110, 74, 0, 67, 112, 74, 0, 135, 0, 39, 85, 66, 0, 100, 129, 67, 60, 11]\n",
      "ngoài đường chưa đầy 1 phút và biến, không có chuyện xe dừng lâu để\n",
      "[67, 60, 68, 83, 62, 0, 101, 106, 134, 67, 60, 0, 56, 61, 106, 54, 0, 101, 110, 78, 0, 16, 0, 69, 61, 97, 73, 0, 75, 83, 0, 55, 62, 119, 67, 11, 0, 64, 61, 94, 67, 60, 0, 56, 93, 0, 56, 61, 74, 78, 123, 67, 0, 77, 58, 0, 57, 142, 67, 60, 0, 65, 85, 74, 0, 101, 121]\n",
      "Chúng tôi đang yêu cầu Công ty Sanofi Synthelabo giải trình lý do\n",
      "[30, 61, 97, 67, 60, 0, 73, 94, 62, 0, 101, 54, 67, 60, 0, 78, 89, 74, 0, 56, 110, 74, 0, 30, 94, 67, 60, 0, 73, 78, 0, 46, 54, 67, 68, 59, 62, 0, 46, 78, 67, 73, 61, 58, 65, 54, 55, 68, 0, 60, 62, 108, 62, 0, 73, 71, 90, 67, 61, 0, 65, 98, 0, 57, 68]\n",
      "Có khi chúng lừa lúc chủ gà sơ ý liền đánh thuốc mê, cho gà ăn bả..., thậm chí còn\n",
      "[30, 93, 0, 64, 61, 62, 0, 56, 61, 97, 67, 60, 0, 65, 142, 54, 0, 65, 97, 56, 0, 56, 61, 139, 0, 60, 83, 0, 72, 105, 0, 98, 0, 65, 62, 120, 67, 0, 101, 84, 67, 61, 0, 73, 61, 74, 128, 56, 0, 66, 89, 11, 0, 56, 61, 68, 0, 60, 83, 0, 99, 67, 0, 55, 108, 13, 13, 13, 11, 0, 73, 61, 112, 66, 0, 56, 61, 91, 0, 56, 92, 67]\n",
      "An), biển Thanh Hóa, Quảng Ninh, đảo Thanh Lân thuộc vùng đảo Cô Tô.\n",
      "[28, 67, 8, 11, 0, 55, 62, 121, 67, 0, 47, 61, 54, 67, 61, 0, 35, 93, 54, 11, 0, 44, 74, 108, 67, 60, 0, 41, 62, 67, 61, 11, 0, 101, 108, 68, 0, 47, 61, 54, 67, 61, 0, 39, 85, 67, 0, 73, 61, 74, 132, 56, 0, 75, 96, 67, 60, 0, 101, 108, 68, 0, 30, 94, 0, 47, 94, 13]\n",
      "không thuận lợi cho các phương tiện vào trạm và nhất là không đủ sức\n",
      "[64, 61, 94, 67, 60, 0, 73, 61, 74, 112, 67, 0, 65, 137, 62, 0, 56, 61, 68, 0, 56, 84, 56, 0, 69, 61, 106, 105, 67, 60, 0, 73, 62, 123, 67, 0, 75, 83, 68, 0, 73, 71, 107, 66, 0, 75, 83, 0, 67, 61, 109, 73, 0, 65, 83, 0, 64, 61, 94, 67, 60, 0, 101, 139, 0, 72, 141, 56]\n",
      "rừng, nơi không có bóng dáng người dân, chỉ có ít người Indo đang\n",
      "[71, 142, 67, 60, 11, 0, 67, 105, 62, 0, 64, 61, 94, 67, 60, 0, 56, 93, 0, 55, 93, 67, 60, 0, 57, 84, 67, 60, 0, 67, 60, 106, 134, 62, 0, 57, 85, 67, 11, 0, 56, 61, 124, 0, 56, 93, 0, 91, 73, 0, 67, 60, 106, 134, 62, 0, 36, 67, 57, 68, 0, 101, 54, 67, 60]\n",
      "ràng trên thực đơn. Thử làm một phép tính nhỏ : làng nướng A mỗi đêm có\n",
      "[71, 83, 67, 60, 0, 73, 71, 89, 67, 0, 73, 61, 145, 56, 0, 101, 105, 67, 13, 0, 47, 61, 143, 0, 65, 83, 66, 0, 66, 132, 73, 0, 69, 61, 88, 69, 0, 73, 91, 67, 61, 0, 67, 61, 127, 0, 25, 0, 65, 83, 67, 60, 0, 67, 106, 133, 67, 60, 0, 28, 0, 66, 131, 62, 0, 101, 89, 66, 0, 56, 93]\n",
      "nước phong tặng danh hiệu anh hùng lao động. Trong lúc đó, công trình này (đầu tiên ở VN và là hầm\n",
      "[67, 106, 133, 56, 0, 69, 61, 68, 67, 60, 0, 73, 116, 67, 60, 0, 57, 54, 67, 61, 0, 61, 62, 123, 74, 0, 54, 67, 61, 0, 61, 96, 67, 60, 0, 65, 54, 68, 0, 101, 132, 67, 60, 13, 0, 47, 71, 68, 67, 60, 0, 65, 97, 56, 0, 101, 93, 11, 0, 56, 94, 67, 60, 0, 73, 71, 90, 67, 61, 0, 67, 83, 78, 0, 7, 101, 110, 74, 0, 73, 62, 89, 67, 0, 135, 0, 49, 41, 0, 75, 83, 0, 65, 83, 0, 61, 110, 66]\n",
      "KHÁI QUÁT VỀ BIỂN ĐẢO VIỆT NAM\n"
     ]
    },
    {
     "ename": "ValueError",
     "evalue": "substring not found",
     "output_type": "error",
     "traceback": [
      "\u001b[0;31m---------------------------------------------------------------------------\u001b[0m",
      "\u001b[0;31mValueError\u001b[0m                                Traceback (most recent call last)",
      "\u001b[0;32m<ipython-input-144-77f95a945113>\u001b[0m in \u001b[0;36m<module>\u001b[0;34m\u001b[0m\n\u001b[1;32m      1\u001b[0m \u001b[0;32mfor\u001b[0m \u001b[0mitem\u001b[0m \u001b[0;32min\u001b[0m \u001b[0mcontents\u001b[0m\u001b[0;34m.\u001b[0m\u001b[0mvalues\u001b[0m\u001b[0;34m(\u001b[0m\u001b[0;34m)\u001b[0m\u001b[0;34m:\u001b[0m\u001b[0;34m\u001b[0m\u001b[0;34m\u001b[0m\u001b[0m\n\u001b[1;32m      2\u001b[0m     \u001b[0mprint\u001b[0m\u001b[0;34m(\u001b[0m\u001b[0mitem\u001b[0m\u001b[0;34m)\u001b[0m\u001b[0;34m\u001b[0m\u001b[0;34m\u001b[0m\u001b[0m\n\u001b[0;32m----> 3\u001b[0;31m     \u001b[0mprint\u001b[0m\u001b[0;34m(\u001b[0m\u001b[0mtext_to_labels\u001b[0m\u001b[0;34m(\u001b[0m\u001b[0mitem\u001b[0m\u001b[0;34m)\u001b[0m\u001b[0;34m)\u001b[0m\u001b[0;34m\u001b[0m\u001b[0;34m\u001b[0m\u001b[0m\n\u001b[0m",
      "\u001b[0;32m<ipython-input-142-abcdfb481d34>\u001b[0m in \u001b[0;36mtext_to_labels\u001b[0;34m(text)\u001b[0m\n\u001b[1;32m      1\u001b[0m \u001b[0;32mdef\u001b[0m \u001b[0mtext_to_labels\u001b[0m\u001b[0;34m(\u001b[0m\u001b[0mtext\u001b[0m\u001b[0;34m)\u001b[0m\u001b[0;34m:\u001b[0m\u001b[0;34m\u001b[0m\u001b[0;34m\u001b[0m\u001b[0m\n\u001b[0;32m----> 2\u001b[0;31m     \u001b[0;32mreturn\u001b[0m \u001b[0mlist\u001b[0m\u001b[0;34m(\u001b[0m\u001b[0mmap\u001b[0m\u001b[0;34m(\u001b[0m\u001b[0;32mlambda\u001b[0m \u001b[0mx\u001b[0m\u001b[0;34m:\u001b[0m \u001b[0mletters\u001b[0m\u001b[0;34m.\u001b[0m\u001b[0mindex\u001b[0m\u001b[0;34m(\u001b[0m\u001b[0mx\u001b[0m\u001b[0;34m)\u001b[0m\u001b[0;34m,\u001b[0m \u001b[0mtext\u001b[0m\u001b[0;34m)\u001b[0m\u001b[0;34m)\u001b[0m\u001b[0;34m\u001b[0m\u001b[0;34m\u001b[0m\u001b[0m\n\u001b[0m",
      "\u001b[0;32m<ipython-input-142-abcdfb481d34>\u001b[0m in \u001b[0;36m<lambda>\u001b[0;34m(x)\u001b[0m\n\u001b[1;32m      1\u001b[0m \u001b[0;32mdef\u001b[0m \u001b[0mtext_to_labels\u001b[0m\u001b[0;34m(\u001b[0m\u001b[0mtext\u001b[0m\u001b[0;34m)\u001b[0m\u001b[0;34m:\u001b[0m\u001b[0;34m\u001b[0m\u001b[0;34m\u001b[0m\u001b[0m\n\u001b[0;32m----> 2\u001b[0;31m     \u001b[0;32mreturn\u001b[0m \u001b[0mlist\u001b[0m\u001b[0;34m(\u001b[0m\u001b[0mmap\u001b[0m\u001b[0;34m(\u001b[0m\u001b[0;32mlambda\u001b[0m \u001b[0mx\u001b[0m\u001b[0;34m:\u001b[0m \u001b[0mletters\u001b[0m\u001b[0;34m.\u001b[0m\u001b[0mindex\u001b[0m\u001b[0;34m(\u001b[0m\u001b[0mx\u001b[0m\u001b[0;34m)\u001b[0m\u001b[0;34m,\u001b[0m \u001b[0mtext\u001b[0m\u001b[0;34m)\u001b[0m\u001b[0;34m)\u001b[0m\u001b[0;34m\u001b[0m\u001b[0;34m\u001b[0m\u001b[0m\n\u001b[0m",
      "\u001b[0;31mValueError\u001b[0m: substring not found"
     ]
    }
   ],
   "source": [
    "for item in contents.values():\n",
    "    print(item)\n",
    "    print(text_to_labels(item))"
   ]
  },
  {
   "cell_type": "code",
   "execution_count": 135,
   "metadata": {},
   "outputs": [],
   "source": [
    "d = {'a': 1, 'b':2, 'c':3}"
   ]
  },
  {
   "cell_type": "code",
   "execution_count": 137,
   "metadata": {},
   "outputs": [
    {
     "name": "stdout",
     "output_type": "stream",
     "text": [
      "1\n",
      "2\n",
      "3\n"
     ]
    }
   ],
   "source": [
    "for i in d.values():\n",
    "    print(i)"
   ]
  },
  {
   "cell_type": "code",
   "execution_count": 149,
   "metadata": {},
   "outputs": [
    {
     "data": {
      "text/plain": [
       "[64,\n",
       " 61,\n",
       " 84,\n",
       " 62,\n",
       " 0,\n",
       " 70,\n",
       " 74,\n",
       " 84,\n",
       " 73,\n",
       " 0,\n",
       " 75,\n",
       " 120,\n",
       " 0,\n",
       " 55,\n",
       " 62,\n",
       " 121,\n",
       " 67,\n",
       " 0,\n",
       " 101,\n",
       " 108,\n",
       " 68,\n",
       " 0,\n",
       " 75,\n",
       " 62,\n",
       " 123,\n",
       " 73,\n",
       " 0,\n",
       " 67,\n",
       " 54,\n",
       " 66]"
      ]
     },
     "execution_count": 149,
     "metadata": {},
     "output_type": "execute_result"
    }
   ],
   "source": [
    "text_to_labels(\"KHÁI QUÁT VỀ BIỂN ĐẢO VIỆT NAM\".lower())"
   ]
  },
  {
   "cell_type": "code",
   "execution_count": 150,
   "metadata": {},
   "outputs": [
    {
     "data": {
      "text/plain": [
       "'khái quát về biển đảo việt nam'"
      ]
     },
     "execution_count": 150,
     "metadata": {},
     "output_type": "execute_result"
    }
   ],
   "source": [
    "\"KHÁI QUÁT VỀ BIỂN ĐẢO VIỆT NAM\".lower()"
   ]
  },
  {
   "cell_type": "code",
   "execution_count": null,
   "metadata": {},
   "outputs": [],
   "source": []
  }
 ],
 "metadata": {
  "kernelspec": {
   "display_name": "Python 3",
   "language": "python",
   "name": "python3"
  },
  "language_info": {
   "codemirror_mode": {
    "name": "ipython",
    "version": 3
   },
   "file_extension": ".py",
   "mimetype": "text/x-python",
   "name": "python",
   "nbconvert_exporter": "python",
   "pygments_lexer": "ipython3",
   "version": "3.8.5"
  }
 },
 "nbformat": 4,
 "nbformat_minor": 4
}
